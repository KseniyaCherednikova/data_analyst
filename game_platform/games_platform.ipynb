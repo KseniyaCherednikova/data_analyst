{
 "cells": [
  {
   "cell_type": "markdown",
   "metadata": {},
   "source": [
    "## Описание проекта\n",
    "    Даны исторические данные до 2016 года о продажах игр, оценки пользователей и экспертов, жанры и платформы. \n",
    "    Необходимо выявить определяющие успешность игры закономерности. Это позволит сделать ставку на потенциально популярный продукт и спланировать рекламные кампании на 2017-й. \n",
    "\n",
    "Описание данных:\n",
    "\n",
    "- Name — название игры\n",
    "- Platform — платформа\n",
    "- Year_of_Release — год выпуска\n",
    "- Genre — жанр игры\n",
    "- NA_sales — продажи в Северной Америке (миллионы проданных копий)\n",
    "- EU_sales — продажи в Европе (миллионы проданных копий)\n",
    "- JP_sales — продажи в Японии (миллионы проданных копий)\n",
    "- Other_sales — продажи в других странах (миллионы проданных копий)\n",
    "- Critic_Score — оценка критиков (максимум 100)\n",
    "- User_Score — оценка пользователей (максимум 10)\n",
    "- Rating — рейтинг от организации ESRB (англ. Entertainment Software Rating Board). Эта ассоциация определяет рейтинг компьютерных игр и присваивает им подходящую возрастную категорию.\n",
    "Данные за 2016 год могут быть неполными."
   ]
  },
  {
   "cell_type": "code",
   "execution_count": 1,
   "metadata": {},
   "outputs": [],
   "source": [
    "# Библиотеки\n",
    "import pandas as pd\n",
    "from IPython.display import display \n",
    "import matplotlib.pyplot as plt\n",
    "from matplotlib.pyplot import figure\n",
    "import seaborn as sns\n",
    "from scipy import stats as st\n",
    "import numpy as np"
   ]
  },
  {
   "cell_type": "code",
   "execution_count": 2,
   "metadata": {},
   "outputs": [
    {
     "data": {
      "text/html": [
       "<div>\n",
       "<style scoped>\n",
       "    .dataframe tbody tr th:only-of-type {\n",
       "        vertical-align: middle;\n",
       "    }\n",
       "\n",
       "    .dataframe tbody tr th {\n",
       "        vertical-align: top;\n",
       "    }\n",
       "\n",
       "    .dataframe thead th {\n",
       "        text-align: right;\n",
       "    }\n",
       "</style>\n",
       "<table border=\"1\" class=\"dataframe\">\n",
       "  <thead>\n",
       "    <tr style=\"text-align: right;\">\n",
       "      <th></th>\n",
       "      <th>Name</th>\n",
       "      <th>Platform</th>\n",
       "      <th>Year_of_Release</th>\n",
       "      <th>Genre</th>\n",
       "      <th>NA_sales</th>\n",
       "      <th>EU_sales</th>\n",
       "      <th>JP_sales</th>\n",
       "      <th>Other_sales</th>\n",
       "      <th>Critic_Score</th>\n",
       "      <th>User_Score</th>\n",
       "      <th>Rating</th>\n",
       "    </tr>\n",
       "  </thead>\n",
       "  <tbody>\n",
       "    <tr>\n",
       "      <th>16700</th>\n",
       "      <td>Mezase!! Tsuri Master DS</td>\n",
       "      <td>DS</td>\n",
       "      <td>2009.0</td>\n",
       "      <td>Sports</td>\n",
       "      <td>0.00</td>\n",
       "      <td>0.00</td>\n",
       "      <td>0.01</td>\n",
       "      <td>0.0</td>\n",
       "      <td>NaN</td>\n",
       "      <td>NaN</td>\n",
       "      <td>NaN</td>\n",
       "    </tr>\n",
       "    <tr>\n",
       "      <th>16701</th>\n",
       "      <td>Eiyuu Densetsu: Sora no Kiseki Material Collec...</td>\n",
       "      <td>PSP</td>\n",
       "      <td>2007.0</td>\n",
       "      <td>Role-Playing</td>\n",
       "      <td>0.00</td>\n",
       "      <td>0.00</td>\n",
       "      <td>0.01</td>\n",
       "      <td>0.0</td>\n",
       "      <td>NaN</td>\n",
       "      <td>NaN</td>\n",
       "      <td>NaN</td>\n",
       "    </tr>\n",
       "    <tr>\n",
       "      <th>16702</th>\n",
       "      <td>STORM: Frontline Nation</td>\n",
       "      <td>PC</td>\n",
       "      <td>2011.0</td>\n",
       "      <td>Strategy</td>\n",
       "      <td>0.00</td>\n",
       "      <td>0.01</td>\n",
       "      <td>0.00</td>\n",
       "      <td>0.0</td>\n",
       "      <td>60.0</td>\n",
       "      <td>7.2</td>\n",
       "      <td>E10+</td>\n",
       "    </tr>\n",
       "    <tr>\n",
       "      <th>16703</th>\n",
       "      <td>Strawberry Nauts</td>\n",
       "      <td>PSV</td>\n",
       "      <td>2016.0</td>\n",
       "      <td>Adventure</td>\n",
       "      <td>0.00</td>\n",
       "      <td>0.00</td>\n",
       "      <td>0.01</td>\n",
       "      <td>0.0</td>\n",
       "      <td>NaN</td>\n",
       "      <td>NaN</td>\n",
       "      <td>NaN</td>\n",
       "    </tr>\n",
       "    <tr>\n",
       "      <th>16704</th>\n",
       "      <td>Plushees</td>\n",
       "      <td>DS</td>\n",
       "      <td>2008.0</td>\n",
       "      <td>Simulation</td>\n",
       "      <td>0.01</td>\n",
       "      <td>0.00</td>\n",
       "      <td>0.00</td>\n",
       "      <td>0.0</td>\n",
       "      <td>NaN</td>\n",
       "      <td>tbd</td>\n",
       "      <td>E</td>\n",
       "    </tr>\n",
       "    <tr>\n",
       "      <th>16705</th>\n",
       "      <td>15 Days</td>\n",
       "      <td>PC</td>\n",
       "      <td>2009.0</td>\n",
       "      <td>Adventure</td>\n",
       "      <td>0.00</td>\n",
       "      <td>0.01</td>\n",
       "      <td>0.00</td>\n",
       "      <td>0.0</td>\n",
       "      <td>63.0</td>\n",
       "      <td>5.8</td>\n",
       "      <td>NaN</td>\n",
       "    </tr>\n",
       "    <tr>\n",
       "      <th>16706</th>\n",
       "      <td>Men in Black II: Alien Escape</td>\n",
       "      <td>GC</td>\n",
       "      <td>2003.0</td>\n",
       "      <td>Shooter</td>\n",
       "      <td>0.01</td>\n",
       "      <td>0.00</td>\n",
       "      <td>0.00</td>\n",
       "      <td>0.0</td>\n",
       "      <td>NaN</td>\n",
       "      <td>tbd</td>\n",
       "      <td>T</td>\n",
       "    </tr>\n",
       "    <tr>\n",
       "      <th>16707</th>\n",
       "      <td>Aiyoku no Eustia</td>\n",
       "      <td>PSV</td>\n",
       "      <td>2014.0</td>\n",
       "      <td>Misc</td>\n",
       "      <td>0.00</td>\n",
       "      <td>0.00</td>\n",
       "      <td>0.01</td>\n",
       "      <td>0.0</td>\n",
       "      <td>NaN</td>\n",
       "      <td>NaN</td>\n",
       "      <td>NaN</td>\n",
       "    </tr>\n",
       "    <tr>\n",
       "      <th>16708</th>\n",
       "      <td>Woody Woodpecker in Crazy Castle 5</td>\n",
       "      <td>GBA</td>\n",
       "      <td>2002.0</td>\n",
       "      <td>Platform</td>\n",
       "      <td>0.01</td>\n",
       "      <td>0.00</td>\n",
       "      <td>0.00</td>\n",
       "      <td>0.0</td>\n",
       "      <td>NaN</td>\n",
       "      <td>NaN</td>\n",
       "      <td>NaN</td>\n",
       "    </tr>\n",
       "    <tr>\n",
       "      <th>16709</th>\n",
       "      <td>SCORE International Baja 1000: The Official Game</td>\n",
       "      <td>PS2</td>\n",
       "      <td>2008.0</td>\n",
       "      <td>Racing</td>\n",
       "      <td>0.00</td>\n",
       "      <td>0.00</td>\n",
       "      <td>0.00</td>\n",
       "      <td>0.0</td>\n",
       "      <td>NaN</td>\n",
       "      <td>NaN</td>\n",
       "      <td>NaN</td>\n",
       "    </tr>\n",
       "    <tr>\n",
       "      <th>16710</th>\n",
       "      <td>Samurai Warriors: Sanada Maru</td>\n",
       "      <td>PS3</td>\n",
       "      <td>2016.0</td>\n",
       "      <td>Action</td>\n",
       "      <td>0.00</td>\n",
       "      <td>0.00</td>\n",
       "      <td>0.01</td>\n",
       "      <td>0.0</td>\n",
       "      <td>NaN</td>\n",
       "      <td>NaN</td>\n",
       "      <td>NaN</td>\n",
       "    </tr>\n",
       "    <tr>\n",
       "      <th>16711</th>\n",
       "      <td>LMA Manager 2007</td>\n",
       "      <td>X360</td>\n",
       "      <td>2006.0</td>\n",
       "      <td>Sports</td>\n",
       "      <td>0.00</td>\n",
       "      <td>0.01</td>\n",
       "      <td>0.00</td>\n",
       "      <td>0.0</td>\n",
       "      <td>NaN</td>\n",
       "      <td>NaN</td>\n",
       "      <td>NaN</td>\n",
       "    </tr>\n",
       "    <tr>\n",
       "      <th>16712</th>\n",
       "      <td>Haitaka no Psychedelica</td>\n",
       "      <td>PSV</td>\n",
       "      <td>2016.0</td>\n",
       "      <td>Adventure</td>\n",
       "      <td>0.00</td>\n",
       "      <td>0.00</td>\n",
       "      <td>0.01</td>\n",
       "      <td>0.0</td>\n",
       "      <td>NaN</td>\n",
       "      <td>NaN</td>\n",
       "      <td>NaN</td>\n",
       "    </tr>\n",
       "    <tr>\n",
       "      <th>16713</th>\n",
       "      <td>Spirits &amp; Spells</td>\n",
       "      <td>GBA</td>\n",
       "      <td>2003.0</td>\n",
       "      <td>Platform</td>\n",
       "      <td>0.01</td>\n",
       "      <td>0.00</td>\n",
       "      <td>0.00</td>\n",
       "      <td>0.0</td>\n",
       "      <td>NaN</td>\n",
       "      <td>NaN</td>\n",
       "      <td>NaN</td>\n",
       "    </tr>\n",
       "    <tr>\n",
       "      <th>16714</th>\n",
       "      <td>Winning Post 8 2016</td>\n",
       "      <td>PSV</td>\n",
       "      <td>2016.0</td>\n",
       "      <td>Simulation</td>\n",
       "      <td>0.00</td>\n",
       "      <td>0.00</td>\n",
       "      <td>0.01</td>\n",
       "      <td>0.0</td>\n",
       "      <td>NaN</td>\n",
       "      <td>NaN</td>\n",
       "      <td>NaN</td>\n",
       "    </tr>\n",
       "  </tbody>\n",
       "</table>\n",
       "</div>"
      ],
      "text/plain": [
       "                                                    Name Platform  \\\n",
       "16700                           Mezase!! Tsuri Master DS       DS   \n",
       "16701  Eiyuu Densetsu: Sora no Kiseki Material Collec...      PSP   \n",
       "16702                            STORM: Frontline Nation       PC   \n",
       "16703                                   Strawberry Nauts      PSV   \n",
       "16704                                           Plushees       DS   \n",
       "16705                                            15 Days       PC   \n",
       "16706                      Men in Black II: Alien Escape       GC   \n",
       "16707                                   Aiyoku no Eustia      PSV   \n",
       "16708                 Woody Woodpecker in Crazy Castle 5      GBA   \n",
       "16709   SCORE International Baja 1000: The Official Game      PS2   \n",
       "16710                      Samurai Warriors: Sanada Maru      PS3   \n",
       "16711                                   LMA Manager 2007     X360   \n",
       "16712                            Haitaka no Psychedelica      PSV   \n",
       "16713                                   Spirits & Spells      GBA   \n",
       "16714                                Winning Post 8 2016      PSV   \n",
       "\n",
       "       Year_of_Release         Genre  NA_sales  EU_sales  JP_sales  \\\n",
       "16700           2009.0        Sports      0.00      0.00      0.01   \n",
       "16701           2007.0  Role-Playing      0.00      0.00      0.01   \n",
       "16702           2011.0      Strategy      0.00      0.01      0.00   \n",
       "16703           2016.0     Adventure      0.00      0.00      0.01   \n",
       "16704           2008.0    Simulation      0.01      0.00      0.00   \n",
       "16705           2009.0     Adventure      0.00      0.01      0.00   \n",
       "16706           2003.0       Shooter      0.01      0.00      0.00   \n",
       "16707           2014.0          Misc      0.00      0.00      0.01   \n",
       "16708           2002.0      Platform      0.01      0.00      0.00   \n",
       "16709           2008.0        Racing      0.00      0.00      0.00   \n",
       "16710           2016.0        Action      0.00      0.00      0.01   \n",
       "16711           2006.0        Sports      0.00      0.01      0.00   \n",
       "16712           2016.0     Adventure      0.00      0.00      0.01   \n",
       "16713           2003.0      Platform      0.01      0.00      0.00   \n",
       "16714           2016.0    Simulation      0.00      0.00      0.01   \n",
       "\n",
       "       Other_sales  Critic_Score User_Score Rating  \n",
       "16700          0.0           NaN        NaN    NaN  \n",
       "16701          0.0           NaN        NaN    NaN  \n",
       "16702          0.0          60.0        7.2   E10+  \n",
       "16703          0.0           NaN        NaN    NaN  \n",
       "16704          0.0           NaN        tbd      E  \n",
       "16705          0.0          63.0        5.8    NaN  \n",
       "16706          0.0           NaN        tbd      T  \n",
       "16707          0.0           NaN        NaN    NaN  \n",
       "16708          0.0           NaN        NaN    NaN  \n",
       "16709          0.0           NaN        NaN    NaN  \n",
       "16710          0.0           NaN        NaN    NaN  \n",
       "16711          0.0           NaN        NaN    NaN  \n",
       "16712          0.0           NaN        NaN    NaN  \n",
       "16713          0.0           NaN        NaN    NaN  \n",
       "16714          0.0           NaN        NaN    NaN  "
      ]
     },
     "execution_count": 2,
     "metadata": {},
     "output_type": "execute_result"
    }
   ],
   "source": [
    "data = pd.read_csv('***es.csv')\n",
    "data.tail(15)"
   ]
  },
  {
   "cell_type": "code",
   "execution_count": 3,
   "metadata": {},
   "outputs": [
    {
     "name": "stdout",
     "output_type": "stream",
     "text": [
      "<class 'pandas.core.frame.DataFrame'>\n",
      "RangeIndex: 16715 entries, 0 to 16714\n",
      "Data columns (total 11 columns):\n",
      " #   Column           Non-Null Count  Dtype  \n",
      "---  ------           --------------  -----  \n",
      " 0   Name             16713 non-null  object \n",
      " 1   Platform         16715 non-null  object \n",
      " 2   Year_of_Release  16446 non-null  float64\n",
      " 3   Genre            16713 non-null  object \n",
      " 4   NA_sales         16715 non-null  float64\n",
      " 5   EU_sales         16715 non-null  float64\n",
      " 6   JP_sales         16715 non-null  float64\n",
      " 7   Other_sales      16715 non-null  float64\n",
      " 8   Critic_Score     8137 non-null   float64\n",
      " 9   User_Score       10014 non-null  object \n",
      " 10  Rating           9949 non-null   object \n",
      "dtypes: float64(6), object(5)\n",
      "memory usage: 1.4+ MB\n"
     ]
    }
   ],
   "source": [
    "data.info()"
   ]
  },
  {
   "cell_type": "markdown",
   "metadata": {},
   "source": [
    "## Подготовка данных"
   ]
  },
  {
   "cell_type": "code",
   "execution_count": 4,
   "metadata": {},
   "outputs": [
    {
     "data": {
      "text/plain": [
       "Index(['name', 'platform', 'year_of_release', 'genre', 'na_sales', 'eu_sales',\n",
       "       'jp_sales', 'other_sales', 'critic_score', 'user_score', 'rating'],\n",
       "      dtype='object')"
      ]
     },
     "execution_count": 4,
     "metadata": {},
     "output_type": "execute_result"
    }
   ],
   "source": [
    "# Заменим названия столбцов \n",
    "data.columns = data.columns.str.lower()\n",
    "data.columns "
   ]
  },
  {
   "cell_type": "code",
   "execution_count": 5,
   "metadata": {},
   "outputs": [
    {
     "name": "stdout",
     "output_type": "stream",
     "text": [
      "<class 'pandas.core.frame.DataFrame'>\n",
      "RangeIndex: 16715 entries, 0 to 16714\n",
      "Data columns (total 11 columns):\n",
      " #   Column           Non-Null Count  Dtype  \n",
      "---  ------           --------------  -----  \n",
      " 0   name             16713 non-null  object \n",
      " 1   platform         16715 non-null  object \n",
      " 2   year_of_release  16446 non-null  Int64  \n",
      " 3   genre            16713 non-null  object \n",
      " 4   na_sales         16715 non-null  float64\n",
      " 5   eu_sales         16715 non-null  float64\n",
      " 6   jp_sales         16715 non-null  float64\n",
      " 7   other_sales      16715 non-null  float64\n",
      " 8   critic_score     8137 non-null   float64\n",
      " 9   user_score       10014 non-null  float64\n",
      " 10  rating           9949 non-null   object \n",
      "dtypes: Int64(1), float64(6), object(4)\n",
      "memory usage: 1.4+ MB\n"
     ]
    }
   ],
   "source": [
    "# Преобразуем данные в нужные типы\n",
    "data[['year_of_release']] = data['year_of_release'].astype('Int64')\n",
    "data.loc[data['user_score'] =='tbd','user_score'] ='999'\n",
    "data['user_score'] = data['user_score'].astype('float64')\n",
    "data.info()\n"
   ]
  },
  {
   "cell_type": "code",
   "execution_count": 6,
   "metadata": {},
   "outputs": [],
   "source": [
    "lower_dic = ['name', 'platform', 'genre']\n",
    "\n",
    "for i in lower_dic:\n",
    "    data[i] = data[i].str.lower()"
   ]
  },
  {
   "cell_type": "code",
   "execution_count": 7,
   "metadata": {},
   "outputs": [
    {
     "data": {
      "text/html": [
       "<div>\n",
       "<style scoped>\n",
       "    .dataframe tbody tr th:only-of-type {\n",
       "        vertical-align: middle;\n",
       "    }\n",
       "\n",
       "    .dataframe tbody tr th {\n",
       "        vertical-align: top;\n",
       "    }\n",
       "\n",
       "    .dataframe thead th {\n",
       "        text-align: right;\n",
       "    }\n",
       "</style>\n",
       "<table border=\"1\" class=\"dataframe\">\n",
       "  <thead>\n",
       "    <tr style=\"text-align: right;\">\n",
       "      <th></th>\n",
       "      <th>name</th>\n",
       "      <th>platform</th>\n",
       "      <th>year_of_release</th>\n",
       "      <th>genre</th>\n",
       "      <th>na_sales</th>\n",
       "      <th>eu_sales</th>\n",
       "      <th>jp_sales</th>\n",
       "      <th>other_sales</th>\n",
       "      <th>critic_score</th>\n",
       "      <th>user_score</th>\n",
       "      <th>rating</th>\n",
       "    </tr>\n",
       "  </thead>\n",
       "  <tbody>\n",
       "    <tr>\n",
       "      <th>8087</th>\n",
       "      <td>the chronicles of narnia: the lion, the witch ...</td>\n",
       "      <td>ds</td>\n",
       "      <td>2005</td>\n",
       "      <td>action</td>\n",
       "      <td>0.15</td>\n",
       "      <td>0.01</td>\n",
       "      <td>0.00</td>\n",
       "      <td>0.01</td>\n",
       "      <td>65.0</td>\n",
       "      <td>7.5</td>\n",
       "      <td>E10+</td>\n",
       "    </tr>\n",
       "    <tr>\n",
       "      <th>11100</th>\n",
       "      <td>captain tsubasa: aratanaru densetsu joshou</td>\n",
       "      <td>ps</td>\n",
       "      <td>2002</td>\n",
       "      <td>sports</td>\n",
       "      <td>0.00</td>\n",
       "      <td>0.00</td>\n",
       "      <td>0.08</td>\n",
       "      <td>0.01</td>\n",
       "      <td>NaN</td>\n",
       "      <td>NaN</td>\n",
       "      <td>NaN</td>\n",
       "    </tr>\n",
       "    <tr>\n",
       "      <th>4447</th>\n",
       "      <td>food network: cook or be cooked</td>\n",
       "      <td>wii</td>\n",
       "      <td>2009</td>\n",
       "      <td>misc</td>\n",
       "      <td>0.41</td>\n",
       "      <td>0.00</td>\n",
       "      <td>0.00</td>\n",
       "      <td>0.03</td>\n",
       "      <td>53.0</td>\n",
       "      <td>6.8</td>\n",
       "      <td>E</td>\n",
       "    </tr>\n",
       "    <tr>\n",
       "      <th>8303</th>\n",
       "      <td>hunter: the reckoning redeemer</td>\n",
       "      <td>xb</td>\n",
       "      <td>2003</td>\n",
       "      <td>action</td>\n",
       "      <td>0.13</td>\n",
       "      <td>0.04</td>\n",
       "      <td>0.00</td>\n",
       "      <td>0.01</td>\n",
       "      <td>72.0</td>\n",
       "      <td>8.6</td>\n",
       "      <td>M</td>\n",
       "    </tr>\n",
       "    <tr>\n",
       "      <th>3761</th>\n",
       "      <td>2 in 1 combo pack: sonic heroes / super monkey...</td>\n",
       "      <td>xb</td>\n",
       "      <td>2004</td>\n",
       "      <td>misc</td>\n",
       "      <td>0.40</td>\n",
       "      <td>0.11</td>\n",
       "      <td>0.00</td>\n",
       "      <td>0.02</td>\n",
       "      <td>NaN</td>\n",
       "      <td>NaN</td>\n",
       "      <td>NaN</td>\n",
       "    </tr>\n",
       "    <tr>\n",
       "      <th>3089</th>\n",
       "      <td>ratchet &amp; clank: into the nexus</td>\n",
       "      <td>ps3</td>\n",
       "      <td>2013</td>\n",
       "      <td>shooter</td>\n",
       "      <td>0.30</td>\n",
       "      <td>0.25</td>\n",
       "      <td>0.00</td>\n",
       "      <td>0.10</td>\n",
       "      <td>NaN</td>\n",
       "      <td>NaN</td>\n",
       "      <td>NaN</td>\n",
       "    </tr>\n",
       "    <tr>\n",
       "      <th>11292</th>\n",
       "      <td>america's army: true soldiers</td>\n",
       "      <td>x360</td>\n",
       "      <td>2007</td>\n",
       "      <td>shooter</td>\n",
       "      <td>0.08</td>\n",
       "      <td>0.00</td>\n",
       "      <td>0.00</td>\n",
       "      <td>0.01</td>\n",
       "      <td>43.0</td>\n",
       "      <td>6.7</td>\n",
       "      <td>T</td>\n",
       "    </tr>\n",
       "    <tr>\n",
       "      <th>4495</th>\n",
       "      <td>mlb 14: the show</td>\n",
       "      <td>ps3</td>\n",
       "      <td>2014</td>\n",
       "      <td>sports</td>\n",
       "      <td>0.35</td>\n",
       "      <td>0.00</td>\n",
       "      <td>0.00</td>\n",
       "      <td>0.08</td>\n",
       "      <td>81.0</td>\n",
       "      <td>6.8</td>\n",
       "      <td>E</td>\n",
       "    </tr>\n",
       "    <tr>\n",
       "      <th>9788</th>\n",
       "      <td>solitaire &amp; mahjong</td>\n",
       "      <td>wii</td>\n",
       "      <td>2009</td>\n",
       "      <td>puzzle</td>\n",
       "      <td>0.11</td>\n",
       "      <td>0.00</td>\n",
       "      <td>0.00</td>\n",
       "      <td>0.01</td>\n",
       "      <td>NaN</td>\n",
       "      <td>NaN</td>\n",
       "      <td>NaN</td>\n",
       "    </tr>\n",
       "    <tr>\n",
       "      <th>9594</th>\n",
       "      <td>dt racer</td>\n",
       "      <td>ps2</td>\n",
       "      <td>2005</td>\n",
       "      <td>racing</td>\n",
       "      <td>0.06</td>\n",
       "      <td>0.05</td>\n",
       "      <td>0.00</td>\n",
       "      <td>0.02</td>\n",
       "      <td>NaN</td>\n",
       "      <td>3.8</td>\n",
       "      <td>E</td>\n",
       "    </tr>\n",
       "    <tr>\n",
       "      <th>5642</th>\n",
       "      <td>dragster</td>\n",
       "      <td>2600</td>\n",
       "      <td>&lt;NA&gt;</td>\n",
       "      <td>racing</td>\n",
       "      <td>0.30</td>\n",
       "      <td>0.02</td>\n",
       "      <td>0.00</td>\n",
       "      <td>0.00</td>\n",
       "      <td>NaN</td>\n",
       "      <td>NaN</td>\n",
       "      <td>NaN</td>\n",
       "    </tr>\n",
       "    <tr>\n",
       "      <th>9220</th>\n",
       "      <td>to heart</td>\n",
       "      <td>ps</td>\n",
       "      <td>1999</td>\n",
       "      <td>adventure</td>\n",
       "      <td>0.00</td>\n",
       "      <td>0.00</td>\n",
       "      <td>0.13</td>\n",
       "      <td>0.01</td>\n",
       "      <td>NaN</td>\n",
       "      <td>NaN</td>\n",
       "      <td>NaN</td>\n",
       "    </tr>\n",
       "    <tr>\n",
       "      <th>15721</th>\n",
       "      <td>emergency mayhem</td>\n",
       "      <td>wii</td>\n",
       "      <td>2008</td>\n",
       "      <td>racing</td>\n",
       "      <td>0.02</td>\n",
       "      <td>0.00</td>\n",
       "      <td>0.00</td>\n",
       "      <td>0.00</td>\n",
       "      <td>40.0</td>\n",
       "      <td>4.3</td>\n",
       "      <td>T</td>\n",
       "    </tr>\n",
       "    <tr>\n",
       "      <th>11880</th>\n",
       "      <td>mucha lucha! mascaritas of the lost code</td>\n",
       "      <td>gba</td>\n",
       "      <td>2003</td>\n",
       "      <td>fighting</td>\n",
       "      <td>0.05</td>\n",
       "      <td>0.02</td>\n",
       "      <td>0.00</td>\n",
       "      <td>0.00</td>\n",
       "      <td>NaN</td>\n",
       "      <td>NaN</td>\n",
       "      <td>NaN</td>\n",
       "    </tr>\n",
       "    <tr>\n",
       "      <th>10853</th>\n",
       "      <td>robots</td>\n",
       "      <td>xb</td>\n",
       "      <td>2005</td>\n",
       "      <td>action</td>\n",
       "      <td>0.07</td>\n",
       "      <td>0.02</td>\n",
       "      <td>0.00</td>\n",
       "      <td>0.00</td>\n",
       "      <td>60.0</td>\n",
       "      <td>999.0</td>\n",
       "      <td>E</td>\n",
       "    </tr>\n",
       "  </tbody>\n",
       "</table>\n",
       "</div>"
      ],
      "text/plain": [
       "                                                    name platform  \\\n",
       "8087   the chronicles of narnia: the lion, the witch ...       ds   \n",
       "11100         captain tsubasa: aratanaru densetsu joshou       ps   \n",
       "4447                     food network: cook or be cooked      wii   \n",
       "8303                      hunter: the reckoning redeemer       xb   \n",
       "3761   2 in 1 combo pack: sonic heroes / super monkey...       xb   \n",
       "3089                     ratchet & clank: into the nexus      ps3   \n",
       "11292                      america's army: true soldiers     x360   \n",
       "4495                                    mlb 14: the show      ps3   \n",
       "9788                                 solitaire & mahjong      wii   \n",
       "9594                                            dt racer      ps2   \n",
       "5642                                            dragster     2600   \n",
       "9220                                            to heart       ps   \n",
       "15721                                   emergency mayhem      wii   \n",
       "11880           mucha lucha! mascaritas of the lost code      gba   \n",
       "10853                                             robots       xb   \n",
       "\n",
       "       year_of_release      genre  na_sales  eu_sales  jp_sales  other_sales  \\\n",
       "8087              2005     action      0.15      0.01      0.00         0.01   \n",
       "11100             2002     sports      0.00      0.00      0.08         0.01   \n",
       "4447              2009       misc      0.41      0.00      0.00         0.03   \n",
       "8303              2003     action      0.13      0.04      0.00         0.01   \n",
       "3761              2004       misc      0.40      0.11      0.00         0.02   \n",
       "3089              2013    shooter      0.30      0.25      0.00         0.10   \n",
       "11292             2007    shooter      0.08      0.00      0.00         0.01   \n",
       "4495              2014     sports      0.35      0.00      0.00         0.08   \n",
       "9788              2009     puzzle      0.11      0.00      0.00         0.01   \n",
       "9594              2005     racing      0.06      0.05      0.00         0.02   \n",
       "5642              <NA>     racing      0.30      0.02      0.00         0.00   \n",
       "9220              1999  adventure      0.00      0.00      0.13         0.01   \n",
       "15721             2008     racing      0.02      0.00      0.00         0.00   \n",
       "11880             2003   fighting      0.05      0.02      0.00         0.00   \n",
       "10853             2005     action      0.07      0.02      0.00         0.00   \n",
       "\n",
       "       critic_score  user_score rating  \n",
       "8087           65.0         7.5   E10+  \n",
       "11100           NaN         NaN    NaN  \n",
       "4447           53.0         6.8      E  \n",
       "8303           72.0         8.6      M  \n",
       "3761            NaN         NaN    NaN  \n",
       "3089            NaN         NaN    NaN  \n",
       "11292          43.0         6.7      T  \n",
       "4495           81.0         6.8      E  \n",
       "9788            NaN         NaN    NaN  \n",
       "9594            NaN         3.8      E  \n",
       "5642            NaN         NaN    NaN  \n",
       "9220            NaN         NaN    NaN  \n",
       "15721          40.0         4.3      T  \n",
       "11880           NaN         NaN    NaN  \n",
       "10853          60.0       999.0      E  "
      ]
     },
     "execution_count": 7,
     "metadata": {},
     "output_type": "execute_result"
    }
   ],
   "source": [
    "data.sample(15)"
   ]
  },
  {
   "cell_type": "code",
   "execution_count": 8,
   "metadata": {},
   "outputs": [
    {
     "data": {
      "text/html": [
       "<div>\n",
       "<style scoped>\n",
       "    .dataframe tbody tr th:only-of-type {\n",
       "        vertical-align: middle;\n",
       "    }\n",
       "\n",
       "    .dataframe tbody tr th {\n",
       "        vertical-align: top;\n",
       "    }\n",
       "\n",
       "    .dataframe thead th {\n",
       "        text-align: right;\n",
       "    }\n",
       "</style>\n",
       "<table border=\"1\" class=\"dataframe\">\n",
       "  <thead>\n",
       "    <tr style=\"text-align: right;\">\n",
       "      <th></th>\n",
       "      <th>name</th>\n",
       "      <th>platform</th>\n",
       "      <th>year_of_release</th>\n",
       "      <th>genre</th>\n",
       "      <th>na_sales</th>\n",
       "      <th>eu_sales</th>\n",
       "      <th>jp_sales</th>\n",
       "      <th>other_sales</th>\n",
       "      <th>critic_score</th>\n",
       "      <th>user_score</th>\n",
       "      <th>rating</th>\n",
       "    </tr>\n",
       "  </thead>\n",
       "  <tbody>\n",
       "    <tr>\n",
       "      <th>659</th>\n",
       "      <td>NaN</td>\n",
       "      <td>gen</td>\n",
       "      <td>1993</td>\n",
       "      <td>NaN</td>\n",
       "      <td>1.78</td>\n",
       "      <td>0.53</td>\n",
       "      <td>0.00</td>\n",
       "      <td>0.08</td>\n",
       "      <td>NaN</td>\n",
       "      <td>NaN</td>\n",
       "      <td>NaN</td>\n",
       "    </tr>\n",
       "    <tr>\n",
       "      <th>14244</th>\n",
       "      <td>NaN</td>\n",
       "      <td>gen</td>\n",
       "      <td>1993</td>\n",
       "      <td>NaN</td>\n",
       "      <td>0.00</td>\n",
       "      <td>0.00</td>\n",
       "      <td>0.03</td>\n",
       "      <td>0.00</td>\n",
       "      <td>NaN</td>\n",
       "      <td>NaN</td>\n",
       "      <td>NaN</td>\n",
       "    </tr>\n",
       "  </tbody>\n",
       "</table>\n",
       "</div>"
      ],
      "text/plain": [
       "      name platform  year_of_release genre  na_sales  eu_sales  jp_sales  \\\n",
       "659    NaN      gen             1993   NaN      1.78      0.53      0.00   \n",
       "14244  NaN      gen             1993   NaN      0.00      0.00      0.03   \n",
       "\n",
       "       other_sales  critic_score  user_score rating  \n",
       "659           0.08           NaN         NaN    NaN  \n",
       "14244         0.00           NaN         NaN    NaN  "
      ]
     },
     "metadata": {},
     "output_type": "display_data"
    },
    {
     "name": "stdout",
     "output_type": "stream",
     "text": [
      "<class 'pandas.core.frame.DataFrame'>\n",
      "RangeIndex: 16713 entries, 0 to 16712\n",
      "Data columns (total 11 columns):\n",
      " #   Column           Non-Null Count  Dtype  \n",
      "---  ------           --------------  -----  \n",
      " 0   name             16713 non-null  object \n",
      " 1   platform         16713 non-null  object \n",
      " 2   year_of_release  16444 non-null  Int64  \n",
      " 3   genre            16713 non-null  object \n",
      " 4   na_sales         16713 non-null  float64\n",
      " 5   eu_sales         16713 non-null  float64\n",
      " 6   jp_sales         16713 non-null  float64\n",
      " 7   other_sales      16713 non-null  float64\n",
      " 8   critic_score     8137 non-null   float64\n",
      " 9   user_score       10014 non-null  float64\n",
      " 10  rating           9949 non-null   object \n",
      "dtypes: Int64(1), float64(6), object(4)\n",
      "memory usage: 1.4+ MB\n"
     ]
    }
   ],
   "source": [
    "# Удалим данные пропусков в name и возможные дубликаты\n",
    "display(data[data['name'].isna() ==True])\n",
    "data.dropna(subset = ['name'], inplace = True)\n",
    "data = data.drop_duplicates().reset_index(drop=True)\n",
    "data.info()"
   ]
  },
  {
   "cell_type": "code",
   "execution_count": 9,
   "metadata": {},
   "outputs": [
    {
     "data": {
      "text/html": [
       "<div>\n",
       "<style scoped>\n",
       "    .dataframe tbody tr th:only-of-type {\n",
       "        vertical-align: middle;\n",
       "    }\n",
       "\n",
       "    .dataframe tbody tr th {\n",
       "        vertical-align: top;\n",
       "    }\n",
       "\n",
       "    .dataframe thead th {\n",
       "        text-align: right;\n",
       "    }\n",
       "</style>\n",
       "<table border=\"1\" class=\"dataframe\">\n",
       "  <thead>\n",
       "    <tr style=\"text-align: right;\">\n",
       "      <th></th>\n",
       "      <th>name</th>\n",
       "      <th>platform</th>\n",
       "      <th>year_of_release</th>\n",
       "      <th>genre</th>\n",
       "      <th>na_sales</th>\n",
       "      <th>eu_sales</th>\n",
       "      <th>jp_sales</th>\n",
       "      <th>other_sales</th>\n",
       "      <th>critic_score</th>\n",
       "      <th>user_score</th>\n",
       "      <th>rating</th>\n",
       "    </tr>\n",
       "  </thead>\n",
       "  <tbody>\n",
       "  </tbody>\n",
       "</table>\n",
       "</div>"
      ],
      "text/plain": [
       "Empty DataFrame\n",
       "Columns: [name, platform, year_of_release, genre, na_sales, eu_sales, jp_sales, other_sales, critic_score, user_score, rating]\n",
       "Index: []"
      ]
     },
     "metadata": {},
     "output_type": "display_data"
    }
   ],
   "source": [
    "# Пропуски в critic_score\n",
    "display(data[data['critic_score'] ==0])\n",
    "data['critic_score'] = data['critic_score'].fillna(0)"
   ]
  },
  {
   "cell_type": "code",
   "execution_count": 10,
   "metadata": {},
   "outputs": [],
   "source": [
    "# Заменим пропуски на медианы\n",
    "data.dropna(subset = ['year_of_release'], inplace = True)\n",
    "data.reset_index(drop=True, inplace=True)\n",
    "\n",
    "# Пропуски в рейтинкге\n",
    "data['rating'] = data['rating'].fillna('unknown')\n"
   ]
  },
  {
   "cell_type": "code",
   "execution_count": 11,
   "metadata": {},
   "outputs": [
    {
     "data": {
      "text/html": [
       "<div>\n",
       "<style scoped>\n",
       "    .dataframe tbody tr th:only-of-type {\n",
       "        vertical-align: middle;\n",
       "    }\n",
       "\n",
       "    .dataframe tbody tr th {\n",
       "        vertical-align: top;\n",
       "    }\n",
       "\n",
       "    .dataframe thead th {\n",
       "        text-align: right;\n",
       "    }\n",
       "</style>\n",
       "<table border=\"1\" class=\"dataframe\">\n",
       "  <thead>\n",
       "    <tr style=\"text-align: right;\">\n",
       "      <th></th>\n",
       "      <th>name</th>\n",
       "      <th>platform</th>\n",
       "      <th>year_of_release</th>\n",
       "      <th>genre</th>\n",
       "      <th>na_sales</th>\n",
       "      <th>eu_sales</th>\n",
       "      <th>jp_sales</th>\n",
       "      <th>other_sales</th>\n",
       "      <th>critic_score</th>\n",
       "      <th>user_score</th>\n",
       "      <th>rating</th>\n",
       "    </tr>\n",
       "  </thead>\n",
       "  <tbody>\n",
       "    <tr>\n",
       "      <th>0</th>\n",
       "      <td>wii sports</td>\n",
       "      <td>wii</td>\n",
       "      <td>2006</td>\n",
       "      <td>sports</td>\n",
       "      <td>41.36</td>\n",
       "      <td>28.96</td>\n",
       "      <td>3.77</td>\n",
       "      <td>8.45</td>\n",
       "      <td>76.0</td>\n",
       "      <td>8.0</td>\n",
       "      <td>E</td>\n",
       "    </tr>\n",
       "    <tr>\n",
       "      <th>1</th>\n",
       "      <td>super mario bros.</td>\n",
       "      <td>nes</td>\n",
       "      <td>1985</td>\n",
       "      <td>platform</td>\n",
       "      <td>29.08</td>\n",
       "      <td>3.58</td>\n",
       "      <td>6.81</td>\n",
       "      <td>0.77</td>\n",
       "      <td>0.0</td>\n",
       "      <td>NaN</td>\n",
       "      <td>unknown</td>\n",
       "    </tr>\n",
       "    <tr>\n",
       "      <th>2</th>\n",
       "      <td>mario kart wii</td>\n",
       "      <td>wii</td>\n",
       "      <td>2008</td>\n",
       "      <td>racing</td>\n",
       "      <td>15.68</td>\n",
       "      <td>12.76</td>\n",
       "      <td>3.79</td>\n",
       "      <td>3.29</td>\n",
       "      <td>82.0</td>\n",
       "      <td>8.3</td>\n",
       "      <td>E</td>\n",
       "    </tr>\n",
       "    <tr>\n",
       "      <th>3</th>\n",
       "      <td>wii sports resort</td>\n",
       "      <td>wii</td>\n",
       "      <td>2009</td>\n",
       "      <td>sports</td>\n",
       "      <td>15.61</td>\n",
       "      <td>10.93</td>\n",
       "      <td>3.28</td>\n",
       "      <td>2.95</td>\n",
       "      <td>80.0</td>\n",
       "      <td>8.0</td>\n",
       "      <td>E</td>\n",
       "    </tr>\n",
       "    <tr>\n",
       "      <th>4</th>\n",
       "      <td>pokemon red/pokemon blue</td>\n",
       "      <td>gb</td>\n",
       "      <td>1996</td>\n",
       "      <td>role-playing</td>\n",
       "      <td>11.27</td>\n",
       "      <td>8.89</td>\n",
       "      <td>10.22</td>\n",
       "      <td>1.00</td>\n",
       "      <td>0.0</td>\n",
       "      <td>NaN</td>\n",
       "      <td>unknown</td>\n",
       "    </tr>\n",
       "  </tbody>\n",
       "</table>\n",
       "</div>"
      ],
      "text/plain": [
       "                       name platform  year_of_release         genre  na_sales  \\\n",
       "0                wii sports      wii             2006        sports     41.36   \n",
       "1         super mario bros.      nes             1985      platform     29.08   \n",
       "2            mario kart wii      wii             2008        racing     15.68   \n",
       "3         wii sports resort      wii             2009        sports     15.61   \n",
       "4  pokemon red/pokemon blue       gb             1996  role-playing     11.27   \n",
       "\n",
       "   eu_sales  jp_sales  other_sales  critic_score  user_score   rating  \n",
       "0     28.96      3.77         8.45          76.0         8.0        E  \n",
       "1      3.58      6.81         0.77           0.0         NaN  unknown  \n",
       "2     12.76      3.79         3.29          82.0         8.3        E  \n",
       "3     10.93      3.28         2.95          80.0         8.0        E  \n",
       "4      8.89     10.22         1.00           0.0         NaN  unknown  "
      ]
     },
     "execution_count": 11,
     "metadata": {},
     "output_type": "execute_result"
    }
   ],
   "source": [
    "data.head()"
   ]
  },
  {
   "cell_type": "code",
   "execution_count": 12,
   "metadata": {},
   "outputs": [
    {
     "name": "stdout",
     "output_type": "stream",
     "text": [
      "<class 'pandas.core.frame.DataFrame'>\n",
      "RangeIndex: 16444 entries, 0 to 16443\n",
      "Data columns (total 11 columns):\n",
      " #   Column           Non-Null Count  Dtype  \n",
      "---  ------           --------------  -----  \n",
      " 0   name             16444 non-null  object \n",
      " 1   platform         16444 non-null  object \n",
      " 2   year_of_release  16444 non-null  Int64  \n",
      " 3   genre            16444 non-null  object \n",
      " 4   na_sales         16444 non-null  float64\n",
      " 5   eu_sales         16444 non-null  float64\n",
      " 6   jp_sales         16444 non-null  float64\n",
      " 7   other_sales      16444 non-null  float64\n",
      " 8   critic_score     16444 non-null  float64\n",
      " 9   user_score       9839 non-null   float64\n",
      " 10  rating           16444 non-null  object \n",
      "dtypes: Int64(1), float64(6), object(4)\n",
      "memory usage: 1.4+ MB\n"
     ]
    }
   ],
   "source": [
    "data.info()"
   ]
  },
  {
   "cell_type": "markdown",
   "metadata": {},
   "source": [
    "Пропуски в столбце name обработать не представляется возможным. Поскольку столбец является ключевым, строки с пропусками удаляем. \n",
    "\n",
    "Пропуски в столбце year_of_release  и user_score_median по возможности заменяем на данные с други платформ. Для этого в отдельных датафреймах собираем все уникальные данные по ключевому столбцу name. Далее добавляем эти данные к главному датафрейму с помощью merge() и методом индексации заменяем пустые строки на медианные значения. Встолбцах остаются пропуски ненайденых дат релизов и оценок пользователей, но уже не в меньшем количестве. Возможные причины пропусков в столбце user_score:\n",
    "- сбой при выгрузке или человеческий фактор\n",
    "- в игру давно не играют и соответственно отсутствуют данные о рейтинге(характерно для игр старше 7 лет)\n",
    "- игра только вышла и о ней еще не знают(характерно для игр не страше 2 лет). Значения tbd в столбце говорят о скором появлении данных('to be determined') и о том, что игра в активном состоянии и пользователи ее оценивают. Для дальнейшей возможности использовать столбец в исследовнии изменим тип данных на 'float64', а tbd присвоим числовое значение 999.\n",
    "\n",
    "От оставшихся пропусков в столбце year_of_release также принято решение избавиться.\n",
    "\n",
    "Пропуски в столбце critic_score. После проверки на наличие в столбце рейтинга со значением 0(отсутствуют), принято решение все пропуски заменить на 0 и изменить тип данных столбца на 'int'. Данное решение позволяет испоользовать остальные данные строк с пропусками в данном столбце. Возможная причина пропусков: скорее всего данная игра не проходила оценку критиков.\n",
    "\n",
    "Пропуски в столбце rating принято решение не обрабатывать."
   ]
  },
  {
   "cell_type": "code",
   "execution_count": 13,
   "metadata": {},
   "outputs": [
    {
     "data": {
      "text/html": [
       "<div>\n",
       "<style scoped>\n",
       "    .dataframe tbody tr th:only-of-type {\n",
       "        vertical-align: middle;\n",
       "    }\n",
       "\n",
       "    .dataframe tbody tr th {\n",
       "        vertical-align: top;\n",
       "    }\n",
       "\n",
       "    .dataframe thead th {\n",
       "        text-align: right;\n",
       "    }\n",
       "</style>\n",
       "<table border=\"1\" class=\"dataframe\">\n",
       "  <thead>\n",
       "    <tr style=\"text-align: right;\">\n",
       "      <th></th>\n",
       "      <th>name</th>\n",
       "      <th>platform</th>\n",
       "      <th>year_of_release</th>\n",
       "      <th>genre</th>\n",
       "      <th>na_sales</th>\n",
       "      <th>eu_sales</th>\n",
       "      <th>jp_sales</th>\n",
       "      <th>other_sales</th>\n",
       "      <th>critic_score</th>\n",
       "      <th>user_score</th>\n",
       "      <th>rating</th>\n",
       "      <th>total_sales</th>\n",
       "    </tr>\n",
       "  </thead>\n",
       "  <tbody>\n",
       "    <tr>\n",
       "      <th>0</th>\n",
       "      <td>wii sports</td>\n",
       "      <td>wii</td>\n",
       "      <td>2006</td>\n",
       "      <td>sports</td>\n",
       "      <td>41.36</td>\n",
       "      <td>28.96</td>\n",
       "      <td>3.77</td>\n",
       "      <td>8.45</td>\n",
       "      <td>76.0</td>\n",
       "      <td>8.0</td>\n",
       "      <td>E</td>\n",
       "      <td>82.54</td>\n",
       "    </tr>\n",
       "    <tr>\n",
       "      <th>1</th>\n",
       "      <td>super mario bros.</td>\n",
       "      <td>nes</td>\n",
       "      <td>1985</td>\n",
       "      <td>platform</td>\n",
       "      <td>29.08</td>\n",
       "      <td>3.58</td>\n",
       "      <td>6.81</td>\n",
       "      <td>0.77</td>\n",
       "      <td>0.0</td>\n",
       "      <td>NaN</td>\n",
       "      <td>unknown</td>\n",
       "      <td>40.24</td>\n",
       "    </tr>\n",
       "    <tr>\n",
       "      <th>2</th>\n",
       "      <td>mario kart wii</td>\n",
       "      <td>wii</td>\n",
       "      <td>2008</td>\n",
       "      <td>racing</td>\n",
       "      <td>15.68</td>\n",
       "      <td>12.76</td>\n",
       "      <td>3.79</td>\n",
       "      <td>3.29</td>\n",
       "      <td>82.0</td>\n",
       "      <td>8.3</td>\n",
       "      <td>E</td>\n",
       "      <td>35.52</td>\n",
       "    </tr>\n",
       "    <tr>\n",
       "      <th>3</th>\n",
       "      <td>wii sports resort</td>\n",
       "      <td>wii</td>\n",
       "      <td>2009</td>\n",
       "      <td>sports</td>\n",
       "      <td>15.61</td>\n",
       "      <td>10.93</td>\n",
       "      <td>3.28</td>\n",
       "      <td>2.95</td>\n",
       "      <td>80.0</td>\n",
       "      <td>8.0</td>\n",
       "      <td>E</td>\n",
       "      <td>32.77</td>\n",
       "    </tr>\n",
       "    <tr>\n",
       "      <th>4</th>\n",
       "      <td>pokemon red/pokemon blue</td>\n",
       "      <td>gb</td>\n",
       "      <td>1996</td>\n",
       "      <td>role-playing</td>\n",
       "      <td>11.27</td>\n",
       "      <td>8.89</td>\n",
       "      <td>10.22</td>\n",
       "      <td>1.00</td>\n",
       "      <td>0.0</td>\n",
       "      <td>NaN</td>\n",
       "      <td>unknown</td>\n",
       "      <td>31.38</td>\n",
       "    </tr>\n",
       "  </tbody>\n",
       "</table>\n",
       "</div>"
      ],
      "text/plain": [
       "                       name platform  year_of_release         genre  na_sales  \\\n",
       "0                wii sports      wii             2006        sports     41.36   \n",
       "1         super mario bros.      nes             1985      platform     29.08   \n",
       "2            mario kart wii      wii             2008        racing     15.68   \n",
       "3         wii sports resort      wii             2009        sports     15.61   \n",
       "4  pokemon red/pokemon blue       gb             1996  role-playing     11.27   \n",
       "\n",
       "   eu_sales  jp_sales  other_sales  critic_score  user_score   rating  \\\n",
       "0     28.96      3.77         8.45          76.0         8.0        E   \n",
       "1      3.58      6.81         0.77           0.0         NaN  unknown   \n",
       "2     12.76      3.79         3.29          82.0         8.3        E   \n",
       "3     10.93      3.28         2.95          80.0         8.0        E   \n",
       "4      8.89     10.22         1.00           0.0         NaN  unknown   \n",
       "\n",
       "   total_sales  \n",
       "0        82.54  \n",
       "1        40.24  \n",
       "2        35.52  \n",
       "3        32.77  \n",
       "4        31.38  "
      ]
     },
     "execution_count": 13,
     "metadata": {},
     "output_type": "execute_result"
    }
   ],
   "source": [
    "# Посчитаем суммарные продажи во всех регионах и запишите их в отдельный столбец.\n",
    "data['total_sales'] = data['na_sales'] + data['eu_sales'] + data['jp_sales'] + data['other_sales']\n",
    "data.head()"
   ]
  },
  {
   "cell_type": "markdown",
   "metadata": {},
   "source": [
    "## Исследовательский анализ данных"
   ]
  },
  {
   "cell_type": "code",
   "execution_count": 14,
   "metadata": {
    "scrolled": false
   },
   "outputs": [
    {
     "data": {
      "image/png": "[encoded data removed]",
      "text/plain": [
       "<Figure size 1080x720 with 1 Axes>"
      ]
     },
     "metadata": {
      "needs_background": "light"
     },
     "output_type": "display_data"
    }
   ],
   "source": [
    "# Посмотрите, сколько игр выпускалось в разные годы. Важны ли данные за все периоды?\n",
    "data.pivot_table(index = 'year_of_release',values = 'name', aggfunc = 'count'\n",
    "                ).plot(kind='bar', alpha = 0.5, title= 'Количество игр в разные годы', grid = True, figsize=(15, 10))\n",
    "plt.xticks(fontsize=12, rotation=45)\n",
    "plt.xlabel('года выпуска', fontsize=12)\n",
    "plt.ylabel('количество игр', fontsize=12)\n",
    "plt.show()\n",
    "None"
   ]
  },
  {
   "cell_type": "code",
   "execution_count": 15,
   "metadata": {},
   "outputs": [
    {
     "data": {
      "image/png": "[encoded data removed]",
      "text/plain": [
       "<Figure size 720x576 with 1 Axes>"
      ]
     },
     "metadata": {
      "needs_background": "light"
     },
     "output_type": "display_data"
    }
   ],
   "source": [
    "# Как менялись продажи по платформам. Топ-10 по продажам.\n",
    "total_sales_10 = data.pivot_table(index = 'platform',values = 'total_sales', aggfunc = 'sum').sort_values(by= 'total_sales', ascending = False).head(10)\n",
    "total_sales_10.plot(kind='bar', alpha = 0.5, title= 'Топ-10 по продажам', grid = True, figsize=(10, 8))\n",
    "plt.xticks(fontsize=14, rotation=0)\n",
    "plt.xlabel('платформы')\n",
    "plt.ylabel('продажи')\n",
    "None"
   ]
  },
  {
   "cell_type": "code",
   "execution_count": 16,
   "metadata": {},
   "outputs": [
    {
     "data": {
      "image/png": "[encoded data removed]",
      "text/plain": [
       "<Figure size 1440x720 with 1 Axes>"
      ]
     },
     "metadata": {
      "needs_background": "light"
     },
     "output_type": "display_data"
    }
   ],
   "source": [
    "total_sales_10 = total_sales_10.reset_index()\n",
    "data[data['platform'].isin(total_sales_10['platform']) == True].pivot_table(index='year_of_release', \n",
    "             columns = 'platform', values='total_sales', \n",
    "             aggfunc='sum').plot(grid=True, figsize=(20, 10), title= 'Как менялись продажи по платформам в разные годы') \n",
    "plt.xlabel('года выпуска', fontsize=12)\n",
    "plt.ylabel('продажи', fontsize=12)\n",
    "None"
   ]
  },
  {
   "cell_type": "markdown",
   "metadata": {},
   "source": [
    "Меньше всего игр выпускалось на заре индустрии в 1980 году, дальше количество с каждым годом увеличивалось. Самыми активными по прадажам были 2005-2011гг, далее объем выпуска игр пошел на спад. Количество игр до 1994 достаточно мало, для дальнейшего исследования логичнее брать период после 1994 года.\n",
    "\n",
    "Топ-10 платформ: `ps2`, `x360` , `ps3`, `wii`, `ds`, `ps`, `ps4`, `gba`, `psp`, `pc`. Примерно за 7-11 лет появляются новые и исчезают старые платформы. Пик популярности начинается спустя год и продолжается примерно 3-5 лет, далее идет спад и \"отмирание\" платформы. Исходя из этой тенденции стоит брать года с действующими платформами до 2016. На 2016 действуют `wii`, `pc`, `x360`, `ps3`, `ps4`. Из них 3 платформы входят в Топ-5. Посмотрим самые активные года: 2010-2015. Этот период также демонстрирует \"рождение\" и \"отмирание\" платформ.\n",
    "\n",
    "Предположительно прибыльными в 2017г будут:\n",
    "- ps4\n",
    "- ps3\n",
    "- pc"
   ]
  },
  {
   "cell_type": "markdown",
   "metadata": {},
   "source": [
    "<div class=\"alert alert-info\">\n",
    "<h2>  <a class=\"tocSkip\"> </h2> \n",
    "\n",
    "Позже 2015 года брать информацию на мой взгляд не имеет смысла. По условию данные за 2016 предоставлены не в полном объеме"
   ]
  },
  {
   "cell_type": "markdown",
   "metadata": {},
   "source": [
    "<div class=\"alert alert-info\">\n",
    "<h2>  <a class=\"tocSkip\"> </h2> \n",
    "\n",
    "Аргументация достаточно проста:\n",
    "- Если по условию данные даны не в полном объеме, занчит как минимум декабрь выпадает из датасета или конец декабря отсутствует\n",
    "- Посмотрим что происходит в декабре в Европе, Северной Америке и Японии. Там традиционные рождественские праздники. И что бы не быть голословной прилагаю скрины из поисковика Яндекса:\n",
    "    \n",
    "<img src=http://joxi.ru/YmEwOPkSL0KY8A.jpg><br>        \n",
    "<img src=http://joxi.ru/bmolG3Oilx8LN2.jpg><br>        \n",
    "<img src=http://joxi.ru/D2PwqPBSWp9ekm.jpg><br>\n",
    "    \n",
    "  \n",
    "- Как и у нас в России, люди в этот период покупают подарки(подарочные карты) \n",
    "- Берут дополнительные выходные или отпуска и проводят время с семьей. Ну как тут с братишкой не сыграть в майнкрафт?!\n",
    "- Выходные, семейные праздники, традиционные подарки - есть некоторое предположение, что в этот период продажи будут выглядеть иначе, то есть скорее всего возрастут. И по моим ощущениям было бы неправильно исключить эти данные в 2016, но при этом учесть их в предыдущие 3-4 года, выбранного периода. Возможно  именно в этот период стоит провести рекламную кампанию прогназируемого периода.\n",
    "    \n",
    "    \n",
    " Исходя из вышеперечисленных аргументов, считаю что верхняя граница по 2015 году подходит лучше всего:\n",
    "  - данные есть за весь год\n",
    "  - в этот период попадает цикличное рождение и отмирание платформ\n",
    "  - в этот же период попадают платформы, которые будут и в прогнозируемом 2017"
   ]
  },
  {
   "cell_type": "code",
   "execution_count": 17,
   "metadata": {},
   "outputs": [
    {
     "data": {
      "image/png": "[encoded data removed]",
      "text/plain": [
       "<Figure size 864x720 with 1 Axes>"
      ]
     },
     "metadata": {
      "needs_background": "light"
     },
     "output_type": "display_data"
    }
   ],
   "source": [
    "# Постройте график «ящик с усами» по глобальным продажам игр в разбивке по платформам. Опишите результат.\n",
    "\n",
    "#График «ящик с усами» по глобальным продажам игр в разбивке по платформам\n",
    "data_predict = data[(data['year_of_release']> 2010) & (data['year_of_release']<= 2015)]\n",
    "data_predict.boxplot('total_sales', by='platform', figsize=(12, 10))\n",
    "plt.ylim(0, 9)\n",
    "plt.title('Глобальные продажи игр по платформам в период 2009-2014') \n",
    "plt.ylabel('продажи', fontsize=12)\n",
    "plt.xlabel('платформы', fontsize=12)\n",
    "plt.show()\n",
    "None"
   ]
  },
  {
   "cell_type": "markdown",
   "metadata": {},
   "source": [
    "График построен на основе выборки за 2009-2014. В тройку лидеров вошли: `ps4` , `xone`, `x360`. Cамые маленькие продажи у платформы `psp2`. Разница в размахе диаграм продаж между лидером и отстающим чуть меньше 4 миллионов проданных копий."
   ]
  },
  {
   "cell_type": "code",
   "execution_count": 18,
   "metadata": {
    "scrolled": false
   },
   "outputs": [
    {
     "name": "stdout",
     "output_type": "stream",
     "text": [
      "Кореляция между оценкой пользователей и продажами платформы ps4 0.024230832360622557\n",
      "Кореляция между оценкой критиков и продажами платформы ps4 0.20207414133786739\n",
      "\n",
      "Кореляция между оценкой пользователей и продажами платформы xone -0.03926828544552199\n",
      "Кореляция между оценкой критиков и продажами платформы xone 0.28618360291868705\n",
      "\n",
      "Кореляция между оценкой пользователей и продажами платформы x360 0.029223244591035955\n",
      "Кореляция между оценкой критиков и продажами платформы x360 0.30966484857204585\n",
      "\n"
     ]
    },
    {
     "data": {
      "image/png": "[encoded data removed]",
      "text/plain": [
       "<Figure size 1080x1080 with 6 Axes>"
      ]
     },
     "metadata": {
      "needs_background": "light"
     },
     "output_type": "display_data"
    }
   ],
   "source": [
    "top_3 = ['ps4' , 'xone', 'x360']\n",
    "\n",
    "fig = plt.figure(figsize=(15,15))\n",
    "sns.color_palette(\"light:b\", as_cmap=True)\n",
    "k=0\n",
    "for platform in  top_3:\n",
    "    k+=1  \n",
    "    correlation_data_1 = data_predict[(data_predict['platform'] == platform) & (data_predict['user_score'] != 999)]\n",
    "        \n",
    "    correlation_data_2 = data_predict[(data_predict['platform'] == platform)]\n",
    "    print('Кореляция между оценкой пользователей и продажами платформы', platform, correlation_data_1['user_score'].corr(correlation_data_1['total_sales']))\n",
    "    \n",
    "    print('Кореляция между оценкой критиков и продажами платформы', platform, correlation_data_2['critic_score'].corr(correlation_data_2['total_sales']))\n",
    "    print()\n",
    "    title_1 = 'Влияние оценки пользователей на продажи платформы ' + platform\n",
    "    fig.add_subplot(3, 2, k)\n",
    "    sns.scatterplot(data=correlation_data_1, x=\"user_score\", y=\"total_sales\", palette=\"Blues_r\")\n",
    "    plt.title(title_1)\n",
    "    plt.grid(True)\n",
    "    \n",
    "    k+=1    \n",
    "    fig.add_subplot(3, 2, k)\n",
    "    title_2 = 'Влияние оценки критиков на продажи платфор ' +  platform\n",
    "    sns.scatterplot(data=correlation_data_2, x=\"critic_score\", y=\"total_sales\", palette=\"Blues_r\")\n",
    "    plt.title(title_2)\n",
    "    plt.grid(True)\n",
    "        \n",
    "fig.suptitle('Влияние оценок на продажи', fontsize=15)\n",
    "plt.show\n",
    "None"
   ]
  },
  {
   "cell_type": "markdown",
   "metadata": {},
   "source": [
    "Если анализировать диаграммы рассеяния то наблюдается закономерность: чем выше оценки, тем больше продаж. \n",
    "Коэффициент корреляции между оценкой пользователей и продажами платформы имеет значение окло 0 и отрицательные значения. То есть при изменении одной величины другая или останется почти прежней, или при росте одной величины будет уменьшаться другая. Коэффициент корреляции между оценкой критиков и продажами платформы показывает зависимость, однако не слишком сильной, то есть при увеличении одной величины, будет увеличиваться и вторая."
   ]
  },
  {
   "cell_type": "code",
   "execution_count": 19,
   "metadata": {},
   "outputs": [
    {
     "data": {
      "text/plain": [
       "Text(0, 0.5, 'количество')"
      ]
     },
     "execution_count": 19,
     "metadata": {},
     "output_type": "execute_result"
    },
    {
     "data": {
      "image/png": "[encoded data removed]",
      "text/plain": [
       "<Figure size 720x576 with 1 Axes>"
      ]
     },
     "metadata": {
      "needs_background": "light"
     },
     "output_type": "display_data"
    }
   ],
   "source": [
    "# Общее распределение игр по жанрам\n",
    "\n",
    "data_predict.pivot_table(index = 'genre',values = 'name'\n",
    "                         , aggfunc = 'count').sort_values(by= 'name'\n",
    "                         , ascending = False).plot(kind='bar', alpha = 0.5\n",
    "                         , title= 'Распределение игр по жанрам и количеству', grid = True, figsize=(10, 8))\n",
    "plt.xticks(fontsize=14, rotation=30)\n",
    "plt.xlabel('жанры')\n",
    "plt.ylabel('количество')"
   ]
  },
  {
   "cell_type": "code",
   "execution_count": 20,
   "metadata": {},
   "outputs": [
    {
     "data": {
      "text/plain": [
       "Text(0, 0.5, 'продажи')"
      ]
     },
     "execution_count": 20,
     "metadata": {},
     "output_type": "execute_result"
    },
    {
     "data": {
      "image/png": "[encoded data removed]",
      "text/plain": [
       "<Figure size 720x576 with 1 Axes>"
      ]
     },
     "metadata": {
      "needs_background": "light"
     },
     "output_type": "display_data"
    }
   ],
   "source": [
    "# Общее распределение игр по жанрам\n",
    "\n",
    "data_predict.pivot_table(index = 'genre',values = 'total_sales'\n",
    "                         , aggfunc = 'median').sort_values(by= 'total_sales'\n",
    "                         , ascending = False).plot(kind='bar', alpha = 0.5\n",
    "                         , title= 'Распределение игр по жанрам и прибыльности', grid = True, figsize=(10, 8))\n",
    "plt.xticks(fontsize=14, rotation=30)\n",
    "plt.xlabel('жанры')\n",
    "plt.ylabel('продажи')"
   ]
  },
  {
   "cell_type": "markdown",
   "metadata": {},
   "source": [
    "Больше всего игр в жанре `action`, он же лучше всего продается. В тройку по количеству также вошли `misc` и `sports`, в продажах же это `shooter`, `platfom` и `sports`. Самый непопулярный и плохопродоваемый жанр по количеству `puzzle`, а по продажам `adventure`. \n"
   ]
  },
  {
   "cell_type": "markdown",
   "metadata": {},
   "source": [
    "## Портрет пользователя каждого региона"
   ]
  },
  {
   "cell_type": "code",
   "execution_count": 21,
   "metadata": {
    "scrolled": false
   },
   "outputs": [
    {
     "data": {
      "image/png": "[encoded data removed]",
      "text/plain": [
       "<Figure size 1440x1440 with 9 Axes>"
      ]
     },
     "metadata": {
      "needs_background": "light"
     },
     "output_type": "display_data"
    }
   ],
   "source": [
    "top_5 = data_predict.sort_values(by = 'total_sales', ascending = False )\n",
    "region_sales = ['na_sales', 'eu_sales', 'jp_sales']\n",
    "region = ['NA', 'EU', 'JP']\n",
    "\n",
    "\n",
    "index = 0\n",
    "\n",
    "fig = plt.figure(figsize=(20,20))\n",
    "for k in range(1, (10), 3): \n",
    "    \n",
    "    \n",
    "\n",
    "    title = 'Самые популярные платформы (топ-5) в ' +  region[index]\n",
    "    platform_5 = top_5.pivot_table(index = 'platform',values = region_sales[index]\n",
    "                         , aggfunc = 'sum').sort_values(by= region_sales[index]\n",
    "                         , ascending = False).head().reset_index()\n",
    "    platform_5.columns = ['platform', 'sales']\n",
    "    fig.add_subplot(3, 3, k)\n",
    "    sns.barplot( x = 'platform', y = 'sales', data = platform_5, palette=\"Blues_r\", saturation = 0.75)\n",
    "    plt.title(title)\n",
    "    plt.grid(True)\n",
    "\n",
    "       \n",
    "    title = 'Самые популярные жанры (топ-5) в ' +  region[index]\n",
    "    genre_5 = top_5.pivot_table(index = 'genre',values = region_sales[index]\n",
    "                         , aggfunc = 'sum').sort_values(by= region_sales[index]\n",
    "                         , ascending = False).head().reset_index()\n",
    "    genre_5.columns = ['genre', 'sales']\n",
    "    fig.add_subplot(3, 3, k+1)\n",
    "    sns.barplot( x = 'genre', y = 'sales', data = genre_5, palette=\"Blues_r\", saturation = 0.75)\n",
    "    plt.title(title)\n",
    "    plt.grid(True)\n",
    "    \n",
    "    \n",
    "    title = 'Топ-5 возрастного рейтинга ESRB в ' +  region[index]\n",
    "    rating_5 = top_5.pivot_table(index = 'rating',values = region_sales[index]\n",
    "                         , aggfunc = 'sum').sort_values(by= region_sales[index]\n",
    "                         , ascending = False).head().reset_index()\n",
    "    rating_5.columns = ['rating', 'sales']\n",
    "    fig.add_subplot(3, 3, k+2)\n",
    "    sns.barplot( x = 'rating', y = 'sales', data = rating_5, palette=\"Blues_r\", saturation = 0.75)\n",
    "    plt.title(title)\n",
    "    plt.grid(True)\n",
    "    index +=1\n",
    "fig.suptitle('Портрет пользователя каждого региона', fontsize=15)\n",
    "plt.show\n",
    "None"
   ]
  },
  {
   "cell_type": "markdown",
   "metadata": {},
   "source": [
    "Список лидеров по трем регионам состоит всего из 8 платформ. Для региона NA главной платформой является `x360`, на 5м месте платформа `3ds`. Разница в продажах первым и пятым местом рейтинга около 160 мл копий. Для региона EU главной платформой является `ps3`, а топ-5 замыкает платформа `ps` с разницей продаж около 115 мл копий. Для региона JP  главной платформой является `3ds`, на пятом месте `wii`. Разница в продажах между первым и пятым местом рейтинга около 75 мл копий. Также можно наблюдать на этих графиках разный объем продаж лидирующих платформ: в регионе NA около 240 мл копий, в регионе EU около 170 мл копий, в регионе JP около 90 мл копий.\n",
    "\n",
    "Топ-5 жанров по всем регионам состоит из 6 позиций. В регионах NA и EU список лидеров одинаковый. Жанр `action` возглавляет оба списка, а замыкает жанр `misc`. Для региона JP лидером является жанр `role-playing`, на 5 месте  `fighting`. Также можно наблюдать на этих графиках разный объем продаж по жанрам: в регионе NA около 240 мл копий у лидера и 70 мл копий у 5го места, в регионе EU около 190 мл копий и у 5го места 40 мл копий, в регионе JP  у лидера около 75 мл копий и на 5 месте  около 12 мл копий.\n",
    " \n",
    "5 вариантов оценок в рейтинге ERSB. В регионах NA и EU лидируют игры с рейтингом `M`, в регионе JP больше всего игр с отсутствующим рейтингом(`unknown`)."
   ]
  },
  {
   "cell_type": "markdown",
   "metadata": {},
   "source": [
    "## Проверка гипотез"
   ]
  },
  {
   "cell_type": "code",
   "execution_count": 22,
   "metadata": {},
   "outputs": [],
   "source": [
    "# Средние пользовательские рейтинги платформ Xbox One и PC одинаковые;\n",
    "xbox_one = data_predict[(~data_predict['user_score'].isna()==True\n",
    "                        ) & (data_predict['user_score']!=999)].query('platform ==\"xone\"')['user_score']\n",
    "\n",
    "pc = data_predict[(~data_predict['user_score'].isna()==True\n",
    "                  ) & (data_predict['user_score']!=999)].query('platform ==\"pc\"')['user_score']\n"
   ]
  },
  {
   "cell_type": "code",
   "execution_count": 23,
   "metadata": {},
   "outputs": [
    {
     "name": "stdout",
     "output_type": "stream",
     "text": [
      "Средний пользовательский рейтинг платформы xone  6.477586206896552\n",
      "\n",
      "Средний пользовательский рейтинг платформы pc  6.47824427480916\n"
     ]
    }
   ],
   "source": [
    "print(\"Средний пользовательский рейтинг платформы xone \", xbox_one.mean())\n",
    "print()\n",
    "print(\"Средний пользовательский рейтинг платформы pc \", pc.mean())"
   ]
  },
  {
   "cell_type": "code",
   "execution_count": 24,
   "metadata": {},
   "outputs": [
    {
     "name": "stdout",
     "output_type": "stream",
     "text": [
      "Дисперсия выборки Xbox One 1.6594932533733138\n",
      "Дисперсия выборки PC 2.528758591442193\n",
      "p-значение: 0.9968723176117981\n",
      "Средние пользовательские рейтинги платформ Xbox One и PC одинаковые\n"
     ]
    }
   ],
   "source": [
    "# Дисперсии выборок\n",
    "print('Дисперсия выборки Xbox One',np.var(xbox_one, ddof=1)) \n",
    "print('Дисперсия выборки PC',np.var(pc, ddof=1)) \n",
    "\n",
    "# проверка гипотезы\n",
    "alpha = 0.1\n",
    "\n",
    "results = st.ttest_ind(xbox_one, pc, equal_var = True)\n",
    "\n",
    "print('p-значение:', results.pvalue)\n",
    "\n",
    "if (results.pvalue < alpha):\n",
    "    print(\"Средние пользовательские рейтинги платформ Xbox One и PC не одинаковы\")\n",
    "else:\n",
    "    print(\"Средние пользовательские рейтинги платформ Xbox One и PC одинаковые\") "
   ]
  },
  {
   "cell_type": "code",
   "execution_count": 25,
   "metadata": {},
   "outputs": [
    {
     "name": "stdout",
     "output_type": "stream",
     "text": [
      "Средний рейтинг жанра Action 6.796027633851468\n",
      "Средний рейтинг жанра Sports 5.689473684210526\n",
      "Дисперсия выборки Action 1.7601399023492361\n",
      "Дисперсия выборки Sports 2.66460020242915\n",
      "p-значение: 4.4287702630764084e-21\n",
      "Средние пользовательские рейтинги жанра Action и Sports разные\n"
     ]
    }
   ],
   "source": [
    "#Средние пользовательские рейтинги жанров Action (англ. «действие», экшен-игры) и Sports (англ. «спортивные соревнования») разные.\n",
    "action =data_predict[(~data_predict['user_score'].isna()==True\n",
    "                        ) & (data_predict['user_score']!=999)].query('genre ==\"action\"')['user_score']\n",
    "sports = data_predict[(~data_predict['user_score'].isna()==True\n",
    "                        ) & (data_predict['user_score']!=999)].query('genre ==\"sports\"')['user_score']\n",
    "print('Средний рейтинг жанра Action', action.mean())\n",
    "print('Средний рейтинг жанра Sports', sports.mean())\n",
    "\n",
    "# Дисперсии выборок\n",
    "print('Дисперсия выборки Action',np.var(action, ddof=1)) \n",
    "print('Дисперсия выборки Sports',np.var(sports, ddof=1)) \n",
    "# проверка гипотезы\n",
    "alpha = 0.1\n",
    "\n",
    "results = st.ttest_ind(action, sports, equal_var = True) # T-критерий Стьюдента\n",
    "\n",
    "print('p-значение:', results.pvalue)\n",
    "\n",
    "if (results.pvalue < alpha):\n",
    "    print(\"Средние пользовательские рейтинги жанра Action и Sports разные\")\n",
    "else:\n",
    "    print(\"Средние пользовательские рейтинги жанра Action и Sports одинаковые\")"
   ]
  },
  {
   "cell_type": "markdown",
   "metadata": {},
   "source": [
    "Средние пользовательские рейтинги платформ Xbox One и PC одинаковые. Для доказательства использовалась гипотеза о равенстве средних двух генеральных совокупностей(тест Т-Стьюдента). Основанием для применения данного теста является результат проверки равенства дисперсий с помощью теста Левена: pvalue=1.0, что говорит о равенстве дисперсий. За нулевую была принята гипотеза о равенстве рейтингов платформ. В качестве генеральных совокупностей были взяты выборки по соответствующим платформам. При формировании выборок \"отмели\" все пропущенные значения, что бы они не влияли на средний показатель. Пороговое значение alpha задавалось высокое (0.1) из-за маленькой выборки и большой вероятности погрешноти. В результате проверки показал гипотеза не подтвердилась.\n",
    "\n",
    "Средние пользовательские рейтинги жанров Action и Sports разные. Схема доказательства гипотезы аналогична предыдущей. Результате проверки: гипотеза не подтвердилась."
   ]
  },
  {
   "cell_type": "markdown",
   "metadata": {},
   "source": [
    "## Выводы"
   ]
  },
  {
   "cell_type": "markdown",
   "metadata": {},
   "source": [
    "Всреднем за 7-11 лет появляются новые и исчезают старые платформы. Есть долгожители такие как wiiu(с 1994 года) и платформы, не выдерживающие конкуренции например gen(1990-1994). Меньше всего игр выпускалось на заре индустрии в 1980 году, дальше количество с каждым годом увеличивалось. Самыми активными по прадажам были 2005-2011гг, далее объем выпуска игр пошел на спад. \n",
    "\n",
    "Топ-10 платформ: ps2, x360 , ps3, wii, ds, ps, ps4, gba, psp, pc. Пик популярности начинается спустя год и продолжается примерно 3-5 лет, далее идет спад и \"отмирание\" платформы. Исходя из этой тенденции для прогноза взяты 2010-2015. В этот промежуток попадают действующие на  2016г платформы: wii, pc, x360, ps3, ps4. Из них 3 платформы входят в Топ-5. Этот период также демонстрирует \"рождение\" и \"отмирание\" платформ.\n",
    "\n",
    "Предположительно прибыльными в 2017г будут: `ps4`, `ps3`, `pc`.\n",
    "\n",
    "Влияние отзывов пользователей и критиков на продажи выясняли с помощью диаграмм и корреляции. Диаграммы рассеяния говорят о том, что чем выше рейтинг на платформах, тем больше продаж. Коэффициент корреляции между рейтингом от пользователей и продажами платформы имеет значение почти равно 0. То есть при изменении одной величины другая останется почти прежней. Коэффициент корреляции между оценкой критиков и продажами платформы показывает зависимость, однако не слишком сильной, то есть при увеличении одной величины, будет увеличиваться и вторая. Упор на продвижение в пользоательских оценках скорее всего не стоит делать.\n",
    "\n",
    "Список лидеров по трем регионам состоит всего из 8 платформ. Для региона NA главной платформой является `x360`, на 5м месте платформа `3ds`. Разница в продажах первым и пятым местом рейтинга около 160 мл копий. Для региона EU главной платформой является `ps3`, а топ-5 замыкает платформа `ps` с разницей продаж около 115 мл копий. Для региона JP  главной платформой является `3ds`, на пятом месте `wii`. Разница в продажах между первым и пятым местом рейтинга около 75 мл копий. Также можно наблюдать на этих графиках разный объем продаж лидирующих платформ: в регионе NA около 240 мл копий, в регионе EU около 170 мл копий, в регионе JP около 90 мл копий.\n",
    "\n",
    "Топ-5 жанров по всем регионам состоит из 6 позиций. В регионах NA и EU список лидеров одинаковый. Жанр `action` возглавляет оба списка, а замыкает жанр `misc`. Для региона JP лидером является жанр `role-playing`, на 5 месте  `fighting`. Также можно наблюдать на этих графиках разный объем продаж по жанрам: в регионе NA около 240 мл копий у лидера и 70 мл копий у 5го места, в регионе EU около 190 мл копий и у 5го места 40 мл копий, в регионе JP  у лидера около 75 мл копий и на 5 месте  около 12 мл копий.\n",
    "Топ-5 оценок в рейтинге ERSB. В регионах NA и EU лидируют игры с рейтингом M, в регионе JP больше всего игр с отсутствующим рейтингом(unknown). \n",
    "\n",
    "Гипотеза: средние пользовательские рейтинги платформ Xbox One и PC одинаковые. Для доказательства использовалась гипотеза о равенстве средних двух генеральных совокупностей, поскольку выборки имеют нормальное распределение. За нулевую была принята гипотеза о равенстве рейтингов платформ. В качестве генеральных совокупностей были взяты выборки по соответствующим платформам. При формировании выборок \"отмели\" все пропущенные значения, чтобы они не влияли на средний показатель. Пороговое значение alpha задавалось высокое (0.1) из-за маленькой выборки и большой вероятности погрешности. В результате проверки показал гипотеза не подтвердилась.\n",
    "Гипотеза: средние пользовательские рейтинги жанров Action и Sports разные. Схема доказательства гипотезы аналогична предыдущей. Результате проверки: гипотеза не подтвердилась."
   ]
  }
 ],
 "metadata": {
  "ExecuteTimeLog": [
   {
    "duration": 365,
    "start_time": "2023-03-14T20:06:38.533Z"
   },
   {
    "duration": 95,
    "start_time": "2023-03-14T20:06:49.234Z"
   },
   {
    "duration": 67,
    "start_time": "2023-03-14T20:07:05.830Z"
   },
   {
    "duration": 14,
    "start_time": "2023-03-14T20:07:24.621Z"
   },
   {
    "duration": 342,
    "start_time": "2023-03-14T20:09:24.221Z"
   },
   {
    "duration": 9,
    "start_time": "2023-03-14T20:09:31.139Z"
   },
   {
    "duration": 8,
    "start_time": "2023-03-14T20:10:00.677Z"
   },
   {
    "duration": 8,
    "start_time": "2023-03-14T20:10:10.876Z"
   },
   {
    "duration": 7,
    "start_time": "2023-03-14T20:10:58.327Z"
   },
   {
    "duration": 454,
    "start_time": "2023-03-14T20:13:28.416Z"
   },
   {
    "duration": 66,
    "start_time": "2023-03-14T20:13:29.044Z"
   },
   {
    "duration": 14,
    "start_time": "2023-03-14T20:13:29.833Z"
   },
   {
    "duration": 5,
    "start_time": "2023-03-14T20:13:31.471Z"
   },
   {
    "duration": 73,
    "start_time": "2023-03-14T20:18:03.791Z"
   },
   {
    "duration": 14,
    "start_time": "2023-03-14T20:21:38.748Z"
   },
   {
    "duration": 52,
    "start_time": "2023-03-16T18:03:28.163Z"
   },
   {
    "duration": 413,
    "start_time": "2023-03-16T18:03:34.112Z"
   },
   {
    "duration": 147,
    "start_time": "2023-03-16T18:03:34.527Z"
   },
   {
    "duration": 15,
    "start_time": "2023-03-16T18:03:34.676Z"
   },
   {
    "duration": 5,
    "start_time": "2023-03-16T18:03:34.694Z"
   },
   {
    "duration": 91,
    "start_time": "2023-03-16T18:03:34.701Z"
   },
   {
    "duration": 0,
    "start_time": "2023-03-16T18:03:34.793Z"
   },
   {
    "duration": 0,
    "start_time": "2023-03-16T18:03:34.795Z"
   },
   {
    "duration": 0,
    "start_time": "2023-03-16T18:03:34.796Z"
   },
   {
    "duration": 0,
    "start_time": "2023-03-16T18:03:34.797Z"
   },
   {
    "duration": 0,
    "start_time": "2023-03-16T18:03:34.798Z"
   },
   {
    "duration": 15,
    "start_time": "2023-03-16T18:05:20.470Z"
   },
   {
    "duration": 13,
    "start_time": "2023-03-16T18:05:57.909Z"
   },
   {
    "duration": 13,
    "start_time": "2023-03-16T18:06:01.951Z"
   },
   {
    "duration": 396,
    "start_time": "2023-03-16T18:06:32.808Z"
   },
   {
    "duration": 80,
    "start_time": "2023-03-16T18:06:33.206Z"
   },
   {
    "duration": 17,
    "start_time": "2023-03-16T18:06:33.288Z"
   },
   {
    "duration": 8,
    "start_time": "2023-03-16T18:06:33.307Z"
   },
   {
    "duration": 105,
    "start_time": "2023-03-16T18:06:33.317Z"
   },
   {
    "duration": 0,
    "start_time": "2023-03-16T18:06:33.425Z"
   },
   {
    "duration": 0,
    "start_time": "2023-03-16T18:06:33.426Z"
   },
   {
    "duration": 0,
    "start_time": "2023-03-16T18:06:33.427Z"
   },
   {
    "duration": 0,
    "start_time": "2023-03-16T18:06:33.428Z"
   },
   {
    "duration": 0,
    "start_time": "2023-03-16T18:06:33.430Z"
   },
   {
    "duration": 1385,
    "start_time": "2023-03-16T18:11:44.645Z"
   },
   {
    "duration": 15,
    "start_time": "2023-03-16T18:11:59.471Z"
   },
   {
    "duration": 76,
    "start_time": "2023-03-16T18:13:25.904Z"
   },
   {
    "duration": 71,
    "start_time": "2023-03-16T18:13:33.447Z"
   },
   {
    "duration": 70,
    "start_time": "2023-03-16T18:13:48.022Z"
   },
   {
    "duration": 1155,
    "start_time": "2023-03-16T18:14:09.322Z"
   },
   {
    "duration": 1237,
    "start_time": "2023-03-16T18:14:27.242Z"
   },
   {
    "duration": 453,
    "start_time": "2023-03-16T18:15:18.345Z"
   },
   {
    "duration": 82,
    "start_time": "2023-03-16T18:15:18.801Z"
   },
   {
    "duration": 17,
    "start_time": "2023-03-16T18:15:18.885Z"
   },
   {
    "duration": 6,
    "start_time": "2023-03-16T18:15:18.905Z"
   },
   {
    "duration": 40,
    "start_time": "2023-03-16T18:15:18.913Z"
   },
   {
    "duration": 5,
    "start_time": "2023-03-16T18:15:18.955Z"
   },
   {
    "duration": 18,
    "start_time": "2023-03-16T18:15:18.962Z"
   },
   {
    "duration": 7,
    "start_time": "2023-03-16T18:15:18.983Z"
   },
   {
    "duration": 18,
    "start_time": "2023-03-16T18:15:18.992Z"
   },
   {
    "duration": 8,
    "start_time": "2023-03-16T18:15:19.013Z"
   },
   {
    "duration": 424,
    "start_time": "2023-03-16T18:16:15.286Z"
   },
   {
    "duration": 80,
    "start_time": "2023-03-16T18:16:15.712Z"
   },
   {
    "duration": 17,
    "start_time": "2023-03-16T18:16:15.794Z"
   },
   {
    "duration": 6,
    "start_time": "2023-03-16T18:16:15.814Z"
   },
   {
    "duration": 23,
    "start_time": "2023-03-16T18:16:15.822Z"
   },
   {
    "duration": 3,
    "start_time": "2023-03-16T18:16:15.846Z"
   },
   {
    "duration": 3,
    "start_time": "2023-03-16T18:16:15.873Z"
   },
   {
    "duration": 8,
    "start_time": "2023-03-16T18:16:15.878Z"
   },
   {
    "duration": 6,
    "start_time": "2023-03-16T18:16:15.888Z"
   },
   {
    "duration": 5,
    "start_time": "2023-03-16T18:16:15.896Z"
   },
   {
    "duration": 20,
    "start_time": "2023-03-16T18:17:21.664Z"
   },
   {
    "duration": 78,
    "start_time": "2023-03-16T18:20:04.619Z"
   },
   {
    "duration": 11,
    "start_time": "2023-03-16T18:20:14.160Z"
   },
   {
    "duration": 28,
    "start_time": "2023-03-16T18:22:41.207Z"
   },
   {
    "duration": 22,
    "start_time": "2023-03-16T18:22:47.163Z"
   },
   {
    "duration": 21,
    "start_time": "2023-03-16T18:23:37.656Z"
   },
   {
    "duration": 1471,
    "start_time": "2023-03-16T18:24:08.761Z"
   },
   {
    "duration": 76,
    "start_time": "2023-03-16T18:24:10.235Z"
   },
   {
    "duration": 17,
    "start_time": "2023-03-16T18:24:10.313Z"
   },
   {
    "duration": 11,
    "start_time": "2023-03-16T18:24:10.331Z"
   },
   {
    "duration": 49,
    "start_time": "2023-03-16T18:24:10.345Z"
   },
   {
    "duration": 25,
    "start_time": "2023-03-16T18:24:10.396Z"
   },
   {
    "duration": 34,
    "start_time": "2023-03-16T18:24:10.424Z"
   },
   {
    "duration": 14,
    "start_time": "2023-03-16T18:24:10.461Z"
   },
   {
    "duration": 11,
    "start_time": "2023-03-16T18:24:10.477Z"
   },
   {
    "duration": 13,
    "start_time": "2023-03-16T18:24:10.490Z"
   },
   {
    "duration": 7,
    "start_time": "2023-03-16T18:24:10.505Z"
   },
   {
    "duration": 6,
    "start_time": "2023-03-16T18:24:10.515Z"
   },
   {
    "duration": 27,
    "start_time": "2023-03-16T18:33:03.987Z"
   },
   {
    "duration": 24,
    "start_time": "2023-03-16T18:34:20.647Z"
   },
   {
    "duration": 126,
    "start_time": "2023-03-16T18:35:23.381Z"
   },
   {
    "duration": 25,
    "start_time": "2023-03-16T18:37:32.312Z"
   },
   {
    "duration": 24,
    "start_time": "2023-03-16T18:38:35.691Z"
   },
   {
    "duration": 1268,
    "start_time": "2023-03-16T18:38:48.000Z"
   },
   {
    "duration": 75,
    "start_time": "2023-03-16T18:38:49.272Z"
   },
   {
    "duration": 18,
    "start_time": "2023-03-16T18:38:49.349Z"
   },
   {
    "duration": 5,
    "start_time": "2023-03-16T18:38:49.370Z"
   },
   {
    "duration": 23,
    "start_time": "2023-03-16T18:38:49.378Z"
   },
   {
    "duration": 23,
    "start_time": "2023-03-16T18:38:49.404Z"
   },
   {
    "duration": 48,
    "start_time": "2023-03-16T18:38:49.429Z"
   },
   {
    "duration": 131,
    "start_time": "2023-03-16T18:38:49.479Z"
   },
   {
    "duration": 0,
    "start_time": "2023-03-16T18:38:49.612Z"
   },
   {
    "duration": 0,
    "start_time": "2023-03-16T18:38:49.613Z"
   },
   {
    "duration": 0,
    "start_time": "2023-03-16T18:38:49.615Z"
   },
   {
    "duration": 0,
    "start_time": "2023-03-16T18:38:49.616Z"
   },
   {
    "duration": 0,
    "start_time": "2023-03-16T18:38:49.617Z"
   },
   {
    "duration": 24,
    "start_time": "2023-03-16T18:39:13.099Z"
   },
   {
    "duration": 25,
    "start_time": "2023-03-16T18:39:28.536Z"
   },
   {
    "duration": 19,
    "start_time": "2023-03-16T18:40:51.934Z"
   },
   {
    "duration": 19,
    "start_time": "2023-03-16T18:40:55.204Z"
   },
   {
    "duration": 22,
    "start_time": "2023-03-16T18:41:23.621Z"
   },
   {
    "duration": 95,
    "start_time": "2023-03-16T18:42:45.661Z"
   },
   {
    "duration": 87,
    "start_time": "2023-03-16T18:42:51.689Z"
   },
   {
    "duration": 74,
    "start_time": "2023-03-16T18:42:56.755Z"
   },
   {
    "duration": 22,
    "start_time": "2023-03-16T18:43:39.116Z"
   },
   {
    "duration": 29,
    "start_time": "2023-03-16T18:43:48.902Z"
   },
   {
    "duration": 56,
    "start_time": "2023-03-16T18:45:30.306Z"
   },
   {
    "duration": 1200,
    "start_time": "2023-03-16T18:46:55.924Z"
   },
   {
    "duration": 73,
    "start_time": "2023-03-16T18:46:57.126Z"
   },
   {
    "duration": 15,
    "start_time": "2023-03-16T18:46:57.200Z"
   },
   {
    "duration": 4,
    "start_time": "2023-03-16T18:46:57.217Z"
   },
   {
    "duration": 22,
    "start_time": "2023-03-16T18:46:57.224Z"
   },
   {
    "duration": 43,
    "start_time": "2023-03-16T18:46:57.248Z"
   },
   {
    "duration": 20,
    "start_time": "2023-03-16T18:46:57.293Z"
   },
   {
    "duration": 21,
    "start_time": "2023-03-16T18:46:57.315Z"
   },
   {
    "duration": 4,
    "start_time": "2023-03-16T18:46:57.337Z"
   },
   {
    "duration": 62,
    "start_time": "2023-03-16T18:46:57.342Z"
   },
   {
    "duration": 3,
    "start_time": "2023-03-16T18:46:57.405Z"
   },
   {
    "duration": 11,
    "start_time": "2023-03-16T18:46:57.410Z"
   },
   {
    "duration": 7,
    "start_time": "2023-03-16T18:46:57.423Z"
   },
   {
    "duration": 4,
    "start_time": "2023-03-16T18:46:57.433Z"
   },
   {
    "duration": 57,
    "start_time": "2023-03-16T18:47:21.726Z"
   },
   {
    "duration": 21,
    "start_time": "2023-03-16T18:48:02.887Z"
   },
   {
    "duration": 22,
    "start_time": "2023-03-16T18:48:05.512Z"
   },
   {
    "duration": 21,
    "start_time": "2023-03-16T18:48:08.085Z"
   },
   {
    "duration": 20,
    "start_time": "2023-03-16T18:48:09.232Z"
   },
   {
    "duration": 3,
    "start_time": "2023-03-16T18:48:09.896Z"
   },
   {
    "duration": 59,
    "start_time": "2023-03-16T18:48:12.530Z"
   },
   {
    "duration": 18,
    "start_time": "2023-03-16T19:17:12.025Z"
   },
   {
    "duration": 17,
    "start_time": "2023-03-16T19:17:21.967Z"
   },
   {
    "duration": 4,
    "start_time": "2023-03-16T19:18:03.966Z"
   },
   {
    "duration": 25,
    "start_time": "2023-03-16T19:18:58.101Z"
   },
   {
    "duration": 3,
    "start_time": "2023-03-16T19:22:52.990Z"
   },
   {
    "duration": 3,
    "start_time": "2023-03-16T19:23:11.415Z"
   },
   {
    "duration": 4,
    "start_time": "2023-03-16T19:28:16.287Z"
   },
   {
    "duration": 1337,
    "start_time": "2023-03-16T19:28:16.885Z"
   },
   {
    "duration": 1217,
    "start_time": "2023-03-16T19:28:26.416Z"
   },
   {
    "duration": 80,
    "start_time": "2023-03-16T19:28:27.635Z"
   },
   {
    "duration": 17,
    "start_time": "2023-03-16T19:28:27.717Z"
   },
   {
    "duration": 5,
    "start_time": "2023-03-16T19:28:27.737Z"
   },
   {
    "duration": 50,
    "start_time": "2023-03-16T19:28:27.744Z"
   },
   {
    "duration": 21,
    "start_time": "2023-03-16T19:28:27.796Z"
   },
   {
    "duration": 21,
    "start_time": "2023-03-16T19:28:27.819Z"
   },
   {
    "duration": 54,
    "start_time": "2023-03-16T19:28:27.842Z"
   },
   {
    "duration": 11,
    "start_time": "2023-03-16T19:28:27.898Z"
   },
   {
    "duration": 4,
    "start_time": "2023-03-16T19:28:27.912Z"
   },
   {
    "duration": 1424,
    "start_time": "2023-03-16T19:28:27.918Z"
   },
   {
    "duration": 0,
    "start_time": "2023-03-16T19:28:29.343Z"
   },
   {
    "duration": 0,
    "start_time": "2023-03-16T19:28:29.345Z"
   },
   {
    "duration": 0,
    "start_time": "2023-03-16T19:28:29.346Z"
   },
   {
    "duration": 0,
    "start_time": "2023-03-16T19:28:29.348Z"
   },
   {
    "duration": 0,
    "start_time": "2023-03-16T19:28:29.349Z"
   },
   {
    "duration": 0,
    "start_time": "2023-03-16T19:28:29.351Z"
   },
   {
    "duration": 0,
    "start_time": "2023-03-16T19:28:29.352Z"
   },
   {
    "duration": 4,
    "start_time": "2023-03-16T19:28:57.324Z"
   },
   {
    "duration": 73,
    "start_time": "2023-03-16T19:29:00.418Z"
   },
   {
    "duration": 6,
    "start_time": "2023-03-16T19:29:22.472Z"
   },
   {
    "duration": 56,
    "start_time": "2023-03-16T19:29:23.085Z"
   },
   {
    "duration": 10,
    "start_time": "2023-03-16T19:29:29.168Z"
   },
   {
    "duration": 63,
    "start_time": "2023-03-16T19:29:29.730Z"
   },
   {
    "duration": 4,
    "start_time": "2023-03-16T19:41:43.215Z"
   },
   {
    "duration": 1534,
    "start_time": "2023-03-19T06:27:00.048Z"
   },
   {
    "duration": 134,
    "start_time": "2023-03-19T06:27:01.585Z"
   },
   {
    "duration": 23,
    "start_time": "2023-03-19T06:27:01.721Z"
   },
   {
    "duration": 7,
    "start_time": "2023-03-19T06:27:01.747Z"
   },
   {
    "duration": 51,
    "start_time": "2023-03-19T06:27:01.756Z"
   },
   {
    "duration": 23,
    "start_time": "2023-03-19T06:27:01.809Z"
   },
   {
    "duration": 34,
    "start_time": "2023-03-19T06:27:01.835Z"
   },
   {
    "duration": 46,
    "start_time": "2023-03-19T06:27:01.871Z"
   },
   {
    "duration": 15,
    "start_time": "2023-03-19T06:27:01.919Z"
   },
   {
    "duration": 4,
    "start_time": "2023-03-19T06:27:01.936Z"
   },
   {
    "duration": 97,
    "start_time": "2023-03-19T06:27:01.942Z"
   },
   {
    "duration": 4,
    "start_time": "2023-03-19T06:27:02.041Z"
   },
   {
    "duration": 1272,
    "start_time": "2023-03-19T06:27:29.653Z"
   },
   {
    "duration": 73,
    "start_time": "2023-03-19T06:27:30.927Z"
   },
   {
    "duration": 16,
    "start_time": "2023-03-19T06:27:31.003Z"
   },
   {
    "duration": 25,
    "start_time": "2023-03-19T06:27:31.022Z"
   },
   {
    "duration": 59,
    "start_time": "2023-03-19T06:27:31.050Z"
   },
   {
    "duration": 46,
    "start_time": "2023-03-19T06:27:31.112Z"
   },
   {
    "duration": 31,
    "start_time": "2023-03-19T06:27:31.160Z"
   },
   {
    "duration": 34,
    "start_time": "2023-03-19T06:27:31.194Z"
   },
   {
    "duration": 21,
    "start_time": "2023-03-19T06:27:31.230Z"
   },
   {
    "duration": 34,
    "start_time": "2023-03-19T06:27:31.253Z"
   },
   {
    "duration": 78,
    "start_time": "2023-03-19T06:27:31.290Z"
   },
   {
    "duration": 2,
    "start_time": "2023-03-19T06:27:31.370Z"
   },
   {
    "duration": 58,
    "start_time": "2023-03-19T06:27:31.374Z"
   },
   {
    "duration": 23,
    "start_time": "2023-03-19T06:27:31.435Z"
   },
   {
    "duration": 44,
    "start_time": "2023-03-19T06:27:31.459Z"
   },
   {
    "duration": 40,
    "start_time": "2023-03-19T06:27:31.506Z"
   },
   {
    "duration": 22,
    "start_time": "2023-03-19T06:27:31.548Z"
   },
   {
    "duration": 1302,
    "start_time": "2023-03-19T06:30:40.331Z"
   },
   {
    "duration": 57,
    "start_time": "2023-03-19T06:31:44.006Z"
   },
   {
    "duration": 13,
    "start_time": "2023-03-19T06:31:52.640Z"
   },
   {
    "duration": 41,
    "start_time": "2023-03-19T06:33:04.721Z"
   },
   {
    "duration": 4,
    "start_time": "2023-03-19T06:34:34.488Z"
   },
   {
    "duration": 1262,
    "start_time": "2023-03-19T06:34:35.043Z"
   },
   {
    "duration": 1185,
    "start_time": "2023-03-19T06:35:19.245Z"
   },
   {
    "duration": 75,
    "start_time": "2023-03-19T06:35:20.432Z"
   },
   {
    "duration": 15,
    "start_time": "2023-03-19T06:35:20.508Z"
   },
   {
    "duration": 5,
    "start_time": "2023-03-19T06:35:20.525Z"
   },
   {
    "duration": 26,
    "start_time": "2023-03-19T06:35:20.532Z"
   },
   {
    "duration": 37,
    "start_time": "2023-03-19T06:35:20.559Z"
   },
   {
    "duration": 22,
    "start_time": "2023-03-19T06:35:20.598Z"
   },
   {
    "duration": 23,
    "start_time": "2023-03-19T06:35:20.621Z"
   },
   {
    "duration": 37,
    "start_time": "2023-03-19T06:35:20.646Z"
   },
   {
    "duration": 5,
    "start_time": "2023-03-19T06:35:20.685Z"
   },
   {
    "duration": 54,
    "start_time": "2023-03-19T06:35:20.692Z"
   },
   {
    "duration": 43,
    "start_time": "2023-03-19T06:35:20.747Z"
   },
   {
    "duration": 13,
    "start_time": "2023-03-19T06:35:20.791Z"
   },
   {
    "duration": 2,
    "start_time": "2023-03-19T06:35:20.807Z"
   },
   {
    "duration": 10,
    "start_time": "2023-03-19T06:35:20.811Z"
   },
   {
    "duration": 7,
    "start_time": "2023-03-19T06:35:20.822Z"
   },
   {
    "duration": 14,
    "start_time": "2023-03-19T06:35:20.830Z"
   },
   {
    "duration": 3,
    "start_time": "2023-03-19T06:36:39.832Z"
   },
   {
    "duration": 46,
    "start_time": "2023-03-19T06:36:41.066Z"
   },
   {
    "duration": 39,
    "start_time": "2023-03-19T06:36:42.061Z"
   },
   {
    "duration": 1311,
    "start_time": "2023-03-19T06:36:50.996Z"
   },
   {
    "duration": 79,
    "start_time": "2023-03-19T06:36:52.309Z"
   },
   {
    "duration": 18,
    "start_time": "2023-03-19T06:36:52.391Z"
   },
   {
    "duration": 6,
    "start_time": "2023-03-19T06:36:52.411Z"
   },
   {
    "duration": 39,
    "start_time": "2023-03-19T06:36:52.419Z"
   },
   {
    "duration": 34,
    "start_time": "2023-03-19T06:36:52.460Z"
   },
   {
    "duration": 23,
    "start_time": "2023-03-19T06:36:52.496Z"
   },
   {
    "duration": 23,
    "start_time": "2023-03-19T06:36:52.521Z"
   },
   {
    "duration": 44,
    "start_time": "2023-03-19T06:36:52.546Z"
   },
   {
    "duration": 5,
    "start_time": "2023-03-19T06:36:52.592Z"
   },
   {
    "duration": 55,
    "start_time": "2023-03-19T06:36:52.599Z"
   },
   {
    "duration": 56,
    "start_time": "2023-03-19T06:36:52.656Z"
   },
   {
    "duration": 16,
    "start_time": "2023-03-19T06:36:52.714Z"
   },
   {
    "duration": 3,
    "start_time": "2023-03-19T06:36:52.733Z"
   },
   {
    "duration": 14,
    "start_time": "2023-03-19T06:36:52.738Z"
   },
   {
    "duration": 25,
    "start_time": "2023-03-19T06:36:52.755Z"
   },
   {
    "duration": 24,
    "start_time": "2023-03-19T06:36:52.783Z"
   },
   {
    "duration": 1190,
    "start_time": "2023-03-19T06:37:14.244Z"
   },
   {
    "duration": 83,
    "start_time": "2023-03-19T06:37:15.437Z"
   },
   {
    "duration": 21,
    "start_time": "2023-03-19T06:37:15.522Z"
   },
   {
    "duration": 13,
    "start_time": "2023-03-19T06:37:15.546Z"
   },
   {
    "duration": 37,
    "start_time": "2023-03-19T06:37:15.562Z"
   },
   {
    "duration": 24,
    "start_time": "2023-03-19T06:37:15.601Z"
   },
   {
    "duration": 22,
    "start_time": "2023-03-19T06:37:15.627Z"
   },
   {
    "duration": 46,
    "start_time": "2023-03-19T06:37:15.651Z"
   },
   {
    "duration": 13,
    "start_time": "2023-03-19T06:37:15.699Z"
   },
   {
    "duration": 4,
    "start_time": "2023-03-19T06:37:15.714Z"
   },
   {
    "duration": 72,
    "start_time": "2023-03-19T06:37:15.720Z"
   },
   {
    "duration": 65,
    "start_time": "2023-03-19T06:37:15.794Z"
   },
   {
    "duration": 35,
    "start_time": "2023-03-19T06:37:15.861Z"
   },
   {
    "duration": 26,
    "start_time": "2023-03-19T06:37:15.898Z"
   },
   {
    "duration": 13,
    "start_time": "2023-03-19T06:37:15.926Z"
   },
   {
    "duration": 17,
    "start_time": "2023-03-19T06:37:15.942Z"
   },
   {
    "duration": 24,
    "start_time": "2023-03-19T06:37:15.961Z"
   },
   {
    "duration": 102,
    "start_time": "2023-03-19T06:40:27.407Z"
   },
   {
    "duration": 18,
    "start_time": "2023-03-19T06:40:40.050Z"
   },
   {
    "duration": 5,
    "start_time": "2023-03-19T06:40:46.087Z"
   },
   {
    "duration": 18,
    "start_time": "2023-03-19T06:40:48.931Z"
   },
   {
    "duration": 6,
    "start_time": "2023-03-19T06:41:31.537Z"
   },
   {
    "duration": 24,
    "start_time": "2023-03-19T06:41:32.615Z"
   },
   {
    "duration": 21,
    "start_time": "2023-03-19T06:41:53.132Z"
   },
   {
    "duration": 79,
    "start_time": "2023-03-19T06:42:37.503Z"
   },
   {
    "duration": 1315,
    "start_time": "2023-03-19T06:43:15.413Z"
   },
   {
    "duration": 74,
    "start_time": "2023-03-19T06:43:16.731Z"
   },
   {
    "duration": 14,
    "start_time": "2023-03-19T06:43:16.807Z"
   },
   {
    "duration": 5,
    "start_time": "2023-03-19T06:43:16.823Z"
   },
   {
    "duration": 24,
    "start_time": "2023-03-19T06:43:16.830Z"
   },
   {
    "duration": 41,
    "start_time": "2023-03-19T06:43:16.856Z"
   },
   {
    "duration": 35,
    "start_time": "2023-03-19T06:43:16.899Z"
   },
   {
    "duration": 20,
    "start_time": "2023-03-19T06:43:16.936Z"
   },
   {
    "duration": 27,
    "start_time": "2023-03-19T06:43:16.958Z"
   },
   {
    "duration": 5,
    "start_time": "2023-03-19T06:43:16.988Z"
   },
   {
    "duration": 48,
    "start_time": "2023-03-19T06:43:16.994Z"
   },
   {
    "duration": 68,
    "start_time": "2023-03-19T06:43:17.044Z"
   },
   {
    "duration": 5,
    "start_time": "2023-03-19T06:43:17.114Z"
   },
   {
    "duration": 28,
    "start_time": "2023-03-19T06:43:17.121Z"
   },
   {
    "duration": 37,
    "start_time": "2023-03-19T06:43:17.151Z"
   },
   {
    "duration": 12,
    "start_time": "2023-03-19T06:43:17.190Z"
   },
   {
    "duration": 3,
    "start_time": "2023-03-19T06:43:17.205Z"
   },
   {
    "duration": 9,
    "start_time": "2023-03-19T06:43:17.210Z"
   },
   {
    "duration": 9,
    "start_time": "2023-03-19T06:43:17.221Z"
   },
   {
    "duration": 6,
    "start_time": "2023-03-19T06:43:17.232Z"
   },
   {
    "duration": 3,
    "start_time": "2023-03-19T06:45:12.257Z"
   },
   {
    "duration": 120,
    "start_time": "2023-03-19T06:45:13.237Z"
   },
   {
    "duration": 4,
    "start_time": "2023-03-19T06:45:28.504Z"
   },
   {
    "duration": 14,
    "start_time": "2023-03-19T06:45:29.500Z"
   },
   {
    "duration": 1228,
    "start_time": "2023-03-19T06:45:39.179Z"
   },
   {
    "duration": 76,
    "start_time": "2023-03-19T06:45:40.409Z"
   },
   {
    "duration": 21,
    "start_time": "2023-03-19T06:45:40.487Z"
   },
   {
    "duration": 6,
    "start_time": "2023-03-19T06:45:40.510Z"
   },
   {
    "duration": 22,
    "start_time": "2023-03-19T06:45:40.518Z"
   },
   {
    "duration": 47,
    "start_time": "2023-03-19T06:45:40.543Z"
   },
   {
    "duration": 22,
    "start_time": "2023-03-19T06:45:40.591Z"
   },
   {
    "duration": 19,
    "start_time": "2023-03-19T06:45:40.615Z"
   },
   {
    "duration": 10,
    "start_time": "2023-03-19T06:45:40.636Z"
   },
   {
    "duration": 33,
    "start_time": "2023-03-19T06:45:40.648Z"
   },
   {
    "duration": 116,
    "start_time": "2023-03-19T06:45:40.683Z"
   },
   {
    "duration": 0,
    "start_time": "2023-03-19T06:45:40.801Z"
   },
   {
    "duration": 0,
    "start_time": "2023-03-19T06:45:40.802Z"
   },
   {
    "duration": 0,
    "start_time": "2023-03-19T06:45:40.803Z"
   },
   {
    "duration": 0,
    "start_time": "2023-03-19T06:45:40.804Z"
   },
   {
    "duration": 0,
    "start_time": "2023-03-19T06:45:40.805Z"
   },
   {
    "duration": 0,
    "start_time": "2023-03-19T06:45:40.806Z"
   },
   {
    "duration": 0,
    "start_time": "2023-03-19T06:45:40.807Z"
   },
   {
    "duration": 0,
    "start_time": "2023-03-19T06:45:40.808Z"
   },
   {
    "duration": 0,
    "start_time": "2023-03-19T06:45:40.809Z"
   },
   {
    "duration": 4,
    "start_time": "2023-03-19T06:46:00.024Z"
   },
   {
    "duration": 64,
    "start_time": "2023-03-19T06:46:00.939Z"
   },
   {
    "duration": 52,
    "start_time": "2023-03-19T06:46:03.579Z"
   },
   {
    "duration": 4,
    "start_time": "2023-03-19T06:46:38.087Z"
   },
   {
    "duration": 48,
    "start_time": "2023-03-19T06:46:38.670Z"
   },
   {
    "duration": 55,
    "start_time": "2023-03-19T06:46:44.325Z"
   },
   {
    "duration": 1197,
    "start_time": "2023-03-19T06:47:12.365Z"
   },
   {
    "duration": 71,
    "start_time": "2023-03-19T06:47:13.564Z"
   },
   {
    "duration": 15,
    "start_time": "2023-03-19T06:47:13.637Z"
   },
   {
    "duration": 5,
    "start_time": "2023-03-19T06:47:13.654Z"
   },
   {
    "duration": 29,
    "start_time": "2023-03-19T06:47:13.660Z"
   },
   {
    "duration": 20,
    "start_time": "2023-03-19T06:47:13.691Z"
   },
   {
    "duration": 26,
    "start_time": "2023-03-19T06:47:13.712Z"
   },
   {
    "duration": 19,
    "start_time": "2023-03-19T06:47:13.740Z"
   },
   {
    "duration": 11,
    "start_time": "2023-03-19T06:47:13.780Z"
   },
   {
    "duration": 5,
    "start_time": "2023-03-19T06:47:13.794Z"
   },
   {
    "duration": 53,
    "start_time": "2023-03-19T06:47:13.800Z"
   },
   {
    "duration": 72,
    "start_time": "2023-03-19T06:47:13.855Z"
   },
   {
    "duration": 5,
    "start_time": "2023-03-19T06:47:13.930Z"
   },
   {
    "duration": 26,
    "start_time": "2023-03-19T06:47:13.937Z"
   },
   {
    "duration": 23,
    "start_time": "2023-03-19T06:47:13.965Z"
   },
   {
    "duration": 37,
    "start_time": "2023-03-19T06:47:13.991Z"
   },
   {
    "duration": 16,
    "start_time": "2023-03-19T06:47:14.029Z"
   },
   {
    "duration": 37,
    "start_time": "2023-03-19T06:47:14.047Z"
   },
   {
    "duration": 48,
    "start_time": "2023-03-19T06:47:14.086Z"
   },
   {
    "duration": 42,
    "start_time": "2023-03-19T06:47:14.136Z"
   },
   {
    "duration": 213,
    "start_time": "2023-03-19T06:49:35.723Z"
   },
   {
    "duration": 16,
    "start_time": "2023-03-19T06:49:36.284Z"
   },
   {
    "duration": 1384,
    "start_time": "2023-03-19T06:49:54.571Z"
   },
   {
    "duration": 92,
    "start_time": "2023-03-19T06:49:55.957Z"
   },
   {
    "duration": 21,
    "start_time": "2023-03-19T06:49:56.051Z"
   },
   {
    "duration": 35,
    "start_time": "2023-03-19T06:49:56.075Z"
   },
   {
    "duration": 64,
    "start_time": "2023-03-19T06:49:56.112Z"
   },
   {
    "duration": 33,
    "start_time": "2023-03-19T06:49:56.179Z"
   },
   {
    "duration": 33,
    "start_time": "2023-03-19T06:49:56.215Z"
   },
   {
    "duration": 51,
    "start_time": "2023-03-19T06:49:56.251Z"
   },
   {
    "duration": 16,
    "start_time": "2023-03-19T06:49:56.305Z"
   },
   {
    "duration": 6,
    "start_time": "2023-03-19T06:49:56.325Z"
   },
   {
    "duration": 78,
    "start_time": "2023-03-19T06:49:56.333Z"
   },
   {
    "duration": 47,
    "start_time": "2023-03-19T06:49:56.413Z"
   },
   {
    "duration": 154,
    "start_time": "2023-03-19T06:49:56.462Z"
   },
   {
    "duration": 0,
    "start_time": "2023-03-19T06:49:56.618Z"
   },
   {
    "duration": 0,
    "start_time": "2023-03-19T06:49:56.620Z"
   },
   {
    "duration": 0,
    "start_time": "2023-03-19T06:49:56.622Z"
   },
   {
    "duration": 0,
    "start_time": "2023-03-19T06:49:56.624Z"
   },
   {
    "duration": 0,
    "start_time": "2023-03-19T06:49:56.626Z"
   },
   {
    "duration": 0,
    "start_time": "2023-03-19T06:49:56.628Z"
   },
   {
    "duration": 1320,
    "start_time": "2023-03-19T06:51:02.873Z"
   },
   {
    "duration": 93,
    "start_time": "2023-03-19T06:51:04.197Z"
   },
   {
    "duration": 21,
    "start_time": "2023-03-19T06:51:04.292Z"
   },
   {
    "duration": 9,
    "start_time": "2023-03-19T06:51:04.316Z"
   },
   {
    "duration": 28,
    "start_time": "2023-03-19T06:51:04.327Z"
   },
   {
    "duration": 35,
    "start_time": "2023-03-19T06:51:04.356Z"
   },
   {
    "duration": 22,
    "start_time": "2023-03-19T06:51:04.393Z"
   },
   {
    "duration": 34,
    "start_time": "2023-03-19T06:51:04.417Z"
   },
   {
    "duration": 28,
    "start_time": "2023-03-19T06:51:04.453Z"
   },
   {
    "duration": 5,
    "start_time": "2023-03-19T06:51:04.485Z"
   },
   {
    "duration": 175,
    "start_time": "2023-03-19T06:51:04.492Z"
   },
   {
    "duration": 0,
    "start_time": "2023-03-19T06:51:04.669Z"
   },
   {
    "duration": 0,
    "start_time": "2023-03-19T06:51:04.671Z"
   },
   {
    "duration": 0,
    "start_time": "2023-03-19T06:51:04.672Z"
   },
   {
    "duration": 0,
    "start_time": "2023-03-19T06:51:04.673Z"
   },
   {
    "duration": 0,
    "start_time": "2023-03-19T06:51:04.680Z"
   },
   {
    "duration": 0,
    "start_time": "2023-03-19T06:51:04.682Z"
   },
   {
    "duration": 0,
    "start_time": "2023-03-19T06:51:04.682Z"
   },
   {
    "duration": 0,
    "start_time": "2023-03-19T06:51:04.684Z"
   },
   {
    "duration": 57,
    "start_time": "2023-03-19T06:51:40.315Z"
   },
   {
    "duration": 50,
    "start_time": "2023-03-19T06:51:57.512Z"
   },
   {
    "duration": 47,
    "start_time": "2023-03-19T06:52:49.764Z"
   },
   {
    "duration": 49,
    "start_time": "2023-03-19T06:52:50.666Z"
   },
   {
    "duration": 8,
    "start_time": "2023-03-19T06:52:51.311Z"
   },
   {
    "duration": 24,
    "start_time": "2023-03-19T06:52:53.575Z"
   },
   {
    "duration": 18,
    "start_time": "2023-03-19T06:52:58.490Z"
   },
   {
    "duration": 1185,
    "start_time": "2023-03-19T06:53:30.531Z"
   },
   {
    "duration": 79,
    "start_time": "2023-03-19T06:53:31.719Z"
   },
   {
    "duration": 14,
    "start_time": "2023-03-19T06:53:31.800Z"
   },
   {
    "duration": 95,
    "start_time": "2023-03-19T06:53:31.817Z"
   },
   {
    "duration": 125,
    "start_time": "2023-03-19T06:53:31.914Z"
   },
   {
    "duration": 151,
    "start_time": "2023-03-19T06:53:32.041Z"
   },
   {
    "duration": 144,
    "start_time": "2023-03-19T06:53:32.194Z"
   },
   {
    "duration": 80,
    "start_time": "2023-03-19T06:53:32.339Z"
   },
   {
    "duration": 31,
    "start_time": "2023-03-19T06:53:32.421Z"
   },
   {
    "duration": 15,
    "start_time": "2023-03-19T06:53:32.455Z"
   },
   {
    "duration": 76,
    "start_time": "2023-03-19T06:53:32.472Z"
   },
   {
    "duration": 47,
    "start_time": "2023-03-19T06:53:32.550Z"
   },
   {
    "duration": 7,
    "start_time": "2023-03-19T06:53:32.599Z"
   },
   {
    "duration": 23,
    "start_time": "2023-03-19T06:53:32.608Z"
   },
   {
    "duration": 40,
    "start_time": "2023-03-19T06:53:32.633Z"
   },
   {
    "duration": 2,
    "start_time": "2023-03-19T06:53:32.675Z"
   },
   {
    "duration": 19,
    "start_time": "2023-03-19T06:53:32.681Z"
   },
   {
    "duration": 24,
    "start_time": "2023-03-19T06:53:32.702Z"
   },
   {
    "duration": 25,
    "start_time": "2023-03-19T06:53:32.729Z"
   },
   {
    "duration": 8,
    "start_time": "2023-03-19T06:56:30.927Z"
   },
   {
    "duration": 17,
    "start_time": "2023-03-19T06:56:31.751Z"
   },
   {
    "duration": 16,
    "start_time": "2023-03-19T06:56:32.846Z"
   },
   {
    "duration": 1397,
    "start_time": "2023-03-19T09:08:50.333Z"
   },
   {
    "duration": 155,
    "start_time": "2023-03-19T09:08:51.732Z"
   },
   {
    "duration": 17,
    "start_time": "2023-03-19T09:08:51.889Z"
   },
   {
    "duration": 14,
    "start_time": "2023-03-19T09:08:51.907Z"
   },
   {
    "duration": 29,
    "start_time": "2023-03-19T09:08:51.923Z"
   },
   {
    "duration": 33,
    "start_time": "2023-03-19T09:08:51.966Z"
   },
   {
    "duration": 21,
    "start_time": "2023-03-19T09:08:52.002Z"
   },
   {
    "duration": 45,
    "start_time": "2023-03-19T09:08:52.025Z"
   },
   {
    "duration": 13,
    "start_time": "2023-03-19T09:08:52.072Z"
   },
   {
    "duration": 8,
    "start_time": "2023-03-19T09:08:52.087Z"
   },
   {
    "duration": 50,
    "start_time": "2023-03-19T09:08:52.097Z"
   },
   {
    "duration": 56,
    "start_time": "2023-03-19T09:08:52.148Z"
   },
   {
    "duration": 8,
    "start_time": "2023-03-19T09:08:52.207Z"
   },
   {
    "duration": 22,
    "start_time": "2023-03-19T09:08:52.217Z"
   },
   {
    "duration": 39,
    "start_time": "2023-03-19T09:08:52.240Z"
   },
   {
    "duration": 2,
    "start_time": "2023-03-19T09:08:52.281Z"
   },
   {
    "duration": 8,
    "start_time": "2023-03-19T09:08:52.285Z"
   },
   {
    "duration": 9,
    "start_time": "2023-03-19T09:08:52.294Z"
   },
   {
    "duration": 7,
    "start_time": "2023-03-19T09:08:52.304Z"
   },
   {
    "duration": 1200,
    "start_time": "2023-03-19T09:11:40.927Z"
   },
   {
    "duration": 83,
    "start_time": "2023-03-19T09:11:42.130Z"
   },
   {
    "duration": 16,
    "start_time": "2023-03-19T09:11:42.216Z"
   },
   {
    "duration": 11,
    "start_time": "2023-03-19T09:11:42.234Z"
   },
   {
    "duration": 42,
    "start_time": "2023-03-19T09:11:42.247Z"
   },
   {
    "duration": 23,
    "start_time": "2023-03-19T09:11:42.291Z"
   },
   {
    "duration": 21,
    "start_time": "2023-03-19T09:11:42.316Z"
   },
   {
    "duration": 52,
    "start_time": "2023-03-19T09:11:42.339Z"
   },
   {
    "duration": 24,
    "start_time": "2023-03-19T09:11:42.393Z"
   },
   {
    "duration": 36,
    "start_time": "2023-03-19T09:11:42.419Z"
   },
   {
    "duration": 69,
    "start_time": "2023-03-19T09:11:42.457Z"
   },
   {
    "duration": 54,
    "start_time": "2023-03-19T09:11:42.528Z"
   },
   {
    "duration": 1232,
    "start_time": "2023-03-19T09:11:42.583Z"
   },
   {
    "duration": 0,
    "start_time": "2023-03-19T09:11:43.817Z"
   },
   {
    "duration": 0,
    "start_time": "2023-03-19T09:11:43.820Z"
   },
   {
    "duration": 0,
    "start_time": "2023-03-19T09:11:43.821Z"
   },
   {
    "duration": 1,
    "start_time": "2023-03-19T09:11:43.823Z"
   },
   {
    "duration": 0,
    "start_time": "2023-03-19T09:11:43.825Z"
   },
   {
    "duration": 0,
    "start_time": "2023-03-19T09:11:43.827Z"
   },
   {
    "duration": 10,
    "start_time": "2023-03-19T09:12:26.895Z"
   },
   {
    "duration": 17,
    "start_time": "2023-03-19T09:12:29.669Z"
   },
   {
    "duration": 15,
    "start_time": "2023-03-19T09:12:54.165Z"
   },
   {
    "duration": 1267,
    "start_time": "2023-03-19T09:24:22.163Z"
   },
   {
    "duration": 83,
    "start_time": "2023-03-19T09:24:23.433Z"
   },
   {
    "duration": 16,
    "start_time": "2023-03-19T09:24:23.518Z"
   },
   {
    "duration": 5,
    "start_time": "2023-03-19T09:24:23.536Z"
   },
   {
    "duration": 52,
    "start_time": "2023-03-19T09:24:23.543Z"
   },
   {
    "duration": 21,
    "start_time": "2023-03-19T09:24:23.598Z"
   },
   {
    "duration": 21,
    "start_time": "2023-03-19T09:24:23.621Z"
   },
   {
    "duration": 42,
    "start_time": "2023-03-19T09:24:23.665Z"
   },
   {
    "duration": 12,
    "start_time": "2023-03-19T09:24:23.708Z"
   },
   {
    "duration": 8,
    "start_time": "2023-03-19T09:24:23.723Z"
   },
   {
    "duration": 77,
    "start_time": "2023-03-19T09:24:23.734Z"
   },
   {
    "duration": 63,
    "start_time": "2023-03-19T09:24:23.813Z"
   },
   {
    "duration": 10,
    "start_time": "2023-03-19T09:24:23.879Z"
   },
   {
    "duration": 16,
    "start_time": "2023-03-19T09:24:23.891Z"
   },
   {
    "duration": 17,
    "start_time": "2023-03-19T09:24:23.909Z"
   },
   {
    "duration": 2,
    "start_time": "2023-03-19T09:24:23.928Z"
   },
   {
    "duration": 36,
    "start_time": "2023-03-19T09:26:36.223Z"
   },
   {
    "duration": 1255,
    "start_time": "2023-03-19T09:26:59.569Z"
   },
   {
    "duration": 78,
    "start_time": "2023-03-19T09:27:00.827Z"
   },
   {
    "duration": 25,
    "start_time": "2023-03-19T09:27:00.908Z"
   },
   {
    "duration": 55,
    "start_time": "2023-03-19T09:27:00.936Z"
   },
   {
    "duration": 96,
    "start_time": "2023-03-19T09:27:00.995Z"
   },
   {
    "duration": 25,
    "start_time": "2023-03-19T09:27:01.094Z"
   },
   {
    "duration": 83,
    "start_time": "2023-03-19T09:27:01.121Z"
   },
   {
    "duration": 66,
    "start_time": "2023-03-19T09:27:01.206Z"
   },
   {
    "duration": 30,
    "start_time": "2023-03-19T09:27:01.274Z"
   },
   {
    "duration": 19,
    "start_time": "2023-03-19T09:27:01.306Z"
   },
   {
    "duration": 124,
    "start_time": "2023-03-19T09:27:01.327Z"
   },
   {
    "duration": 52,
    "start_time": "2023-03-19T09:27:01.453Z"
   },
   {
    "duration": 12,
    "start_time": "2023-03-19T09:27:01.507Z"
   },
   {
    "duration": 66,
    "start_time": "2023-03-19T09:27:01.523Z"
   },
   {
    "duration": 104,
    "start_time": "2023-03-19T09:27:01.591Z"
   },
   {
    "duration": 81,
    "start_time": "2023-03-19T09:27:01.697Z"
   },
   {
    "duration": 36,
    "start_time": "2023-03-19T09:28:04.897Z"
   },
   {
    "duration": 1396,
    "start_time": "2023-03-19T09:29:14.420Z"
   },
   {
    "duration": 103,
    "start_time": "2023-03-19T09:29:15.819Z"
   },
   {
    "duration": 17,
    "start_time": "2023-03-19T09:29:15.924Z"
   },
   {
    "duration": 22,
    "start_time": "2023-03-19T09:29:15.944Z"
   },
   {
    "duration": 27,
    "start_time": "2023-03-19T09:29:15.968Z"
   },
   {
    "duration": 36,
    "start_time": "2023-03-19T09:29:15.998Z"
   },
   {
    "duration": 55,
    "start_time": "2023-03-19T09:29:16.037Z"
   },
   {
    "duration": 74,
    "start_time": "2023-03-19T09:29:16.095Z"
   },
   {
    "duration": 12,
    "start_time": "2023-03-19T09:29:16.172Z"
   },
   {
    "duration": 11,
    "start_time": "2023-03-19T09:29:16.187Z"
   },
   {
    "duration": 71,
    "start_time": "2023-03-19T09:29:16.200Z"
   },
   {
    "duration": 48,
    "start_time": "2023-03-19T09:29:16.273Z"
   },
   {
    "duration": 11,
    "start_time": "2023-03-19T09:29:16.323Z"
   },
   {
    "duration": 38,
    "start_time": "2023-03-19T09:29:16.336Z"
   },
   {
    "duration": 24,
    "start_time": "2023-03-19T09:29:16.377Z"
   },
   {
    "duration": 3,
    "start_time": "2023-03-19T09:29:16.404Z"
   },
   {
    "duration": 49,
    "start_time": "2023-03-19T09:30:03.360Z"
   },
   {
    "duration": 1344,
    "start_time": "2023-03-19T09:30:23.744Z"
   },
   {
    "duration": 76,
    "start_time": "2023-03-19T09:30:25.091Z"
   },
   {
    "duration": 16,
    "start_time": "2023-03-19T09:30:25.169Z"
   },
   {
    "duration": 9,
    "start_time": "2023-03-19T09:30:25.187Z"
   },
   {
    "duration": 26,
    "start_time": "2023-03-19T09:30:25.198Z"
   },
   {
    "duration": 43,
    "start_time": "2023-03-19T09:30:25.226Z"
   },
   {
    "duration": 25,
    "start_time": "2023-03-19T09:30:25.271Z"
   },
   {
    "duration": 66,
    "start_time": "2023-03-19T09:30:25.298Z"
   },
   {
    "duration": 11,
    "start_time": "2023-03-19T09:30:25.366Z"
   },
   {
    "duration": 5,
    "start_time": "2023-03-19T09:30:25.379Z"
   },
   {
    "duration": 55,
    "start_time": "2023-03-19T09:30:25.386Z"
   },
   {
    "duration": 60,
    "start_time": "2023-03-19T09:30:25.443Z"
   },
   {
    "duration": 10,
    "start_time": "2023-03-19T09:30:25.504Z"
   },
   {
    "duration": 18,
    "start_time": "2023-03-19T09:30:25.517Z"
   },
   {
    "duration": 38,
    "start_time": "2023-03-19T09:30:25.537Z"
   },
   {
    "duration": 3,
    "start_time": "2023-03-19T09:30:25.576Z"
   },
   {
    "duration": 1277,
    "start_time": "2023-03-19T09:38:25.852Z"
   },
   {
    "duration": 78,
    "start_time": "2023-03-19T09:38:27.132Z"
   },
   {
    "duration": 19,
    "start_time": "2023-03-19T09:38:27.212Z"
   },
   {
    "duration": 6,
    "start_time": "2023-03-19T09:38:27.232Z"
   },
   {
    "duration": 56,
    "start_time": "2023-03-19T09:38:27.241Z"
   },
   {
    "duration": 26,
    "start_time": "2023-03-19T09:38:27.299Z"
   },
   {
    "duration": 44,
    "start_time": "2023-03-19T09:38:27.328Z"
   },
   {
    "duration": 55,
    "start_time": "2023-03-19T09:38:27.375Z"
   },
   {
    "duration": 35,
    "start_time": "2023-03-19T09:38:27.432Z"
   },
   {
    "duration": 6,
    "start_time": "2023-03-19T09:38:27.469Z"
   },
   {
    "duration": 87,
    "start_time": "2023-03-19T09:38:27.478Z"
   },
   {
    "duration": 58,
    "start_time": "2023-03-19T09:38:27.568Z"
   },
   {
    "duration": 36,
    "start_time": "2023-03-19T09:38:27.628Z"
   },
   {
    "duration": 17,
    "start_time": "2023-03-19T09:38:27.667Z"
   },
   {
    "duration": 18,
    "start_time": "2023-03-19T09:38:27.685Z"
   },
   {
    "duration": 3,
    "start_time": "2023-03-19T09:38:27.705Z"
   },
   {
    "duration": 1784,
    "start_time": "2023-03-19T09:41:09.999Z"
   },
   {
    "duration": 0,
    "start_time": "2023-03-19T09:41:11.785Z"
   },
   {
    "duration": 1201,
    "start_time": "2023-03-19T09:41:25.227Z"
   },
   {
    "duration": 1381,
    "start_time": "2023-03-19T09:41:41.857Z"
   },
   {
    "duration": 85,
    "start_time": "2023-03-19T09:41:43.240Z"
   },
   {
    "duration": 25,
    "start_time": "2023-03-19T09:41:43.327Z"
   },
   {
    "duration": 7,
    "start_time": "2023-03-19T09:41:43.363Z"
   },
   {
    "duration": 36,
    "start_time": "2023-03-19T09:41:43.374Z"
   },
   {
    "duration": 54,
    "start_time": "2023-03-19T09:41:43.412Z"
   },
   {
    "duration": 32,
    "start_time": "2023-03-19T09:41:43.469Z"
   },
   {
    "duration": 84,
    "start_time": "2023-03-19T09:41:43.503Z"
   },
   {
    "duration": 12,
    "start_time": "2023-03-19T09:41:43.589Z"
   },
   {
    "duration": 10,
    "start_time": "2023-03-19T09:41:43.603Z"
   },
   {
    "duration": 71,
    "start_time": "2023-03-19T09:41:43.615Z"
   },
   {
    "duration": 86,
    "start_time": "2023-03-19T09:41:43.688Z"
   },
   {
    "duration": 145,
    "start_time": "2023-03-19T09:41:43.777Z"
   },
   {
    "duration": 0,
    "start_time": "2023-03-19T09:41:43.925Z"
   },
   {
    "duration": 0,
    "start_time": "2023-03-19T09:41:43.927Z"
   },
   {
    "duration": 0,
    "start_time": "2023-03-19T09:41:43.929Z"
   },
   {
    "duration": 1313,
    "start_time": "2023-03-19T10:05:06.549Z"
   },
   {
    "duration": 79,
    "start_time": "2023-03-19T10:05:07.864Z"
   },
   {
    "duration": 18,
    "start_time": "2023-03-19T10:05:07.944Z"
   },
   {
    "duration": 13,
    "start_time": "2023-03-19T10:05:07.965Z"
   },
   {
    "duration": 63,
    "start_time": "2023-03-19T10:05:07.980Z"
   },
   {
    "duration": 22,
    "start_time": "2023-03-19T10:05:08.045Z"
   },
   {
    "duration": 31,
    "start_time": "2023-03-19T10:05:08.069Z"
   },
   {
    "duration": 62,
    "start_time": "2023-03-19T10:05:08.103Z"
   },
   {
    "duration": 12,
    "start_time": "2023-03-19T10:05:08.167Z"
   },
   {
    "duration": 5,
    "start_time": "2023-03-19T10:05:08.181Z"
   },
   {
    "duration": 52,
    "start_time": "2023-03-19T10:05:08.188Z"
   },
   {
    "duration": 67,
    "start_time": "2023-03-19T10:05:08.242Z"
   },
   {
    "duration": 15,
    "start_time": "2023-03-19T10:05:08.311Z"
   },
   {
    "duration": 38,
    "start_time": "2023-03-19T10:05:08.328Z"
   },
   {
    "duration": 15,
    "start_time": "2023-03-19T10:05:08.368Z"
   },
   {
    "duration": 8,
    "start_time": "2023-03-19T10:05:08.385Z"
   },
   {
    "duration": 19,
    "start_time": "2023-03-19T10:11:37.550Z"
   },
   {
    "duration": 88,
    "start_time": "2023-03-19T10:18:46.028Z"
   },
   {
    "duration": 17,
    "start_time": "2023-03-19T10:18:51.522Z"
   },
   {
    "duration": 141,
    "start_time": "2023-03-19T10:26:36.578Z"
   },
   {
    "duration": 383,
    "start_time": "2023-03-19T10:28:29.240Z"
   },
   {
    "duration": 363,
    "start_time": "2023-03-19T10:32:40.699Z"
   },
   {
    "duration": 458,
    "start_time": "2023-03-19T10:35:14.553Z"
   },
   {
    "duration": 394,
    "start_time": "2023-03-19T10:35:35.201Z"
   },
   {
    "duration": 467,
    "start_time": "2023-03-19T10:35:44.285Z"
   },
   {
    "duration": 382,
    "start_time": "2023-03-19T10:35:53.549Z"
   },
   {
    "duration": 398,
    "start_time": "2023-03-19T10:35:58.591Z"
   },
   {
    "duration": 400,
    "start_time": "2023-03-19T10:36:02.606Z"
   },
   {
    "duration": 376,
    "start_time": "2023-03-19T10:36:10.876Z"
   },
   {
    "duration": 493,
    "start_time": "2023-03-19T10:36:15.795Z"
   },
   {
    "duration": 430,
    "start_time": "2023-03-19T10:38:04.585Z"
   },
   {
    "duration": 383,
    "start_time": "2023-03-19T10:38:15.790Z"
   },
   {
    "duration": 381,
    "start_time": "2023-03-19T10:38:22.991Z"
   },
   {
    "duration": 376,
    "start_time": "2023-03-19T10:38:30.906Z"
   },
   {
    "duration": 447,
    "start_time": "2023-03-19T10:38:34.889Z"
   },
   {
    "duration": 516,
    "start_time": "2023-03-19T10:38:42.576Z"
   },
   {
    "duration": 361,
    "start_time": "2023-03-19T10:38:51.192Z"
   },
   {
    "duration": 361,
    "start_time": "2023-03-19T10:38:55.451Z"
   },
   {
    "duration": 375,
    "start_time": "2023-03-19T10:39:00.199Z"
   },
   {
    "duration": 5,
    "start_time": "2023-03-19T10:39:45.440Z"
   },
   {
    "duration": 368,
    "start_time": "2023-03-19T10:39:50.753Z"
   },
   {
    "duration": 78,
    "start_time": "2023-03-19T10:40:00.523Z"
   },
   {
    "duration": 480,
    "start_time": "2023-03-19T10:40:19.517Z"
   },
   {
    "duration": 388,
    "start_time": "2023-03-19T10:40:28.539Z"
   },
   {
    "duration": 381,
    "start_time": "2023-03-19T10:40:32.495Z"
   },
   {
    "duration": 373,
    "start_time": "2023-03-19T10:40:36.808Z"
   },
   {
    "duration": 395,
    "start_time": "2023-03-19T10:40:41.017Z"
   },
   {
    "duration": 375,
    "start_time": "2023-03-19T10:40:45.461Z"
   },
   {
    "duration": 507,
    "start_time": "2023-03-19T10:40:59.934Z"
   },
   {
    "duration": 369,
    "start_time": "2023-03-19T10:41:13.439Z"
   },
   {
    "duration": 379,
    "start_time": "2023-03-19T10:41:27.312Z"
   },
   {
    "duration": 90,
    "start_time": "2023-03-19T10:42:08.491Z"
   },
   {
    "duration": 365,
    "start_time": "2023-03-19T10:42:32.925Z"
   },
   {
    "duration": 400,
    "start_time": "2023-03-19T10:42:45.704Z"
   },
   {
    "duration": 550,
    "start_time": "2023-03-19T10:42:51.584Z"
   },
   {
    "duration": 16,
    "start_time": "2023-03-19T10:43:14.512Z"
   },
   {
    "duration": 376,
    "start_time": "2023-03-19T10:43:24.961Z"
   },
   {
    "duration": 376,
    "start_time": "2023-03-19T10:43:32.057Z"
   },
   {
    "duration": 502,
    "start_time": "2023-03-19T10:51:37.052Z"
   },
   {
    "duration": 439,
    "start_time": "2023-03-19T10:54:06.657Z"
   },
   {
    "duration": 418,
    "start_time": "2023-03-19T10:54:21.810Z"
   },
   {
    "duration": 3,
    "start_time": "2023-03-19T10:55:10.100Z"
   },
   {
    "duration": 518,
    "start_time": "2023-03-19T10:55:21.590Z"
   },
   {
    "duration": 390,
    "start_time": "2023-03-19T10:55:32.342Z"
   },
   {
    "duration": 461,
    "start_time": "2023-03-19T10:55:35.860Z"
   },
   {
    "duration": 327,
    "start_time": "2023-03-19T11:06:30.148Z"
   },
   {
    "duration": 27,
    "start_time": "2023-03-19T11:07:19.360Z"
   },
   {
    "duration": 26,
    "start_time": "2023-03-19T11:07:46.404Z"
   },
   {
    "duration": 224,
    "start_time": "2023-03-19T11:07:51.616Z"
   },
   {
    "duration": 291,
    "start_time": "2023-03-19T11:11:41.213Z"
   },
   {
    "duration": 209,
    "start_time": "2023-03-19T11:19:15.677Z"
   },
   {
    "duration": 20,
    "start_time": "2023-03-19T11:19:44.528Z"
   },
   {
    "duration": 145,
    "start_time": "2023-03-19T11:20:27.944Z"
   },
   {
    "duration": 31,
    "start_time": "2023-03-19T11:20:31.473Z"
   },
   {
    "duration": 385,
    "start_time": "2023-03-19T11:22:04.332Z"
   },
   {
    "duration": 250,
    "start_time": "2023-03-19T11:22:10.155Z"
   },
   {
    "duration": 485,
    "start_time": "2023-03-19T11:22:22.449Z"
   },
   {
    "duration": 235,
    "start_time": "2023-03-19T11:22:38.399Z"
   },
   {
    "duration": 237,
    "start_time": "2023-03-19T11:22:49.517Z"
   },
   {
    "duration": 262,
    "start_time": "2023-03-19T11:23:04.981Z"
   },
   {
    "duration": 452,
    "start_time": "2023-03-19T11:23:44.077Z"
   },
   {
    "duration": 228,
    "start_time": "2023-03-19T11:23:54.795Z"
   },
   {
    "duration": 227,
    "start_time": "2023-03-19T11:23:58.135Z"
   },
   {
    "duration": 4,
    "start_time": "2023-03-19T11:24:02.740Z"
   },
   {
    "duration": 17,
    "start_time": "2023-03-19T11:24:07.310Z"
   },
   {
    "duration": 18,
    "start_time": "2023-03-19T11:24:34.264Z"
   },
   {
    "duration": 574,
    "start_time": "2023-03-19T11:24:54.150Z"
   },
   {
    "duration": 420,
    "start_time": "2023-03-19T11:37:46.061Z"
   },
   {
    "duration": 205,
    "start_time": "2023-03-19T11:38:27.425Z"
   },
   {
    "duration": 210,
    "start_time": "2023-03-19T11:41:12.221Z"
   },
   {
    "duration": 366,
    "start_time": "2023-03-19T11:42:17.859Z"
   },
   {
    "duration": 365,
    "start_time": "2023-03-19T11:42:27.650Z"
   },
   {
    "duration": 207,
    "start_time": "2023-03-19T11:50:14.138Z"
   },
   {
    "duration": 358,
    "start_time": "2023-03-19T11:50:43.644Z"
   },
   {
    "duration": 9,
    "start_time": "2023-03-19T12:07:17.049Z"
   },
   {
    "duration": 7,
    "start_time": "2023-03-19T12:07:34.945Z"
   },
   {
    "duration": 330,
    "start_time": "2023-03-19T12:32:25.034Z"
   },
   {
    "duration": 475,
    "start_time": "2023-03-19T12:33:32.634Z"
   },
   {
    "duration": 328,
    "start_time": "2023-03-19T12:33:50.213Z"
   },
   {
    "duration": 226,
    "start_time": "2023-03-19T12:34:05.013Z"
   },
   {
    "duration": 210,
    "start_time": "2023-03-19T12:34:13.354Z"
   },
   {
    "duration": 427,
    "start_time": "2023-03-19T12:34:30.613Z"
   },
   {
    "duration": 333,
    "start_time": "2023-03-19T12:34:53.009Z"
   },
   {
    "duration": 4,
    "start_time": "2023-03-19T13:16:55.139Z"
   },
   {
    "duration": 6,
    "start_time": "2023-03-19T13:29:39.810Z"
   },
   {
    "duration": 1089,
    "start_time": "2023-03-19T13:30:24.928Z"
   },
   {
    "duration": 5,
    "start_time": "2023-03-19T13:31:21.058Z"
   },
   {
    "duration": 1023,
    "start_time": "2023-03-19T13:31:24.121Z"
   },
   {
    "duration": 5,
    "start_time": "2023-03-19T13:32:14.331Z"
   },
   {
    "duration": 960,
    "start_time": "2023-03-19T13:32:17.385Z"
   },
   {
    "duration": 7,
    "start_time": "2023-03-19T13:34:06.201Z"
   },
   {
    "duration": 196,
    "start_time": "2023-03-19T13:34:09.040Z"
   },
   {
    "duration": 7,
    "start_time": "2023-03-19T13:34:44.163Z"
   },
   {
    "duration": 198,
    "start_time": "2023-03-19T13:34:46.424Z"
   },
   {
    "duration": 6,
    "start_time": "2023-03-19T13:35:35.119Z"
   },
   {
    "duration": 201,
    "start_time": "2023-03-19T13:35:36.293Z"
   },
   {
    "duration": 6,
    "start_time": "2023-03-19T13:36:40.345Z"
   },
   {
    "duration": 196,
    "start_time": "2023-03-19T13:36:41.225Z"
   },
   {
    "duration": 5,
    "start_time": "2023-03-19T13:40:35.800Z"
   },
   {
    "duration": 2005,
    "start_time": "2023-03-19T13:40:36.824Z"
   },
   {
    "duration": 13,
    "start_time": "2023-03-19T13:44:35.915Z"
   },
   {
    "duration": 13,
    "start_time": "2023-03-19T13:44:58.140Z"
   },
   {
    "duration": 160,
    "start_time": "2023-03-19T13:45:07.761Z"
   },
   {
    "duration": 357,
    "start_time": "2023-03-19T13:46:06.695Z"
   },
   {
    "duration": 461,
    "start_time": "2023-03-19T13:46:28.281Z"
   },
   {
    "duration": 284,
    "start_time": "2023-03-19T13:47:28.924Z"
   },
   {
    "duration": 255,
    "start_time": "2023-03-19T13:47:42.244Z"
   },
   {
    "duration": 229,
    "start_time": "2023-03-19T13:48:45.428Z"
   },
   {
    "duration": 6,
    "start_time": "2023-03-19T14:00:13.280Z"
   },
   {
    "duration": 217,
    "start_time": "2023-03-19T14:00:18.663Z"
   },
   {
    "duration": 219,
    "start_time": "2023-03-19T14:01:02.828Z"
   },
   {
    "duration": 6,
    "start_time": "2023-03-19T14:01:19.026Z"
   },
   {
    "duration": 273,
    "start_time": "2023-03-19T14:01:22.254Z"
   },
   {
    "duration": 366,
    "start_time": "2023-03-19T14:02:01.735Z"
   },
   {
    "duration": 256,
    "start_time": "2023-03-19T14:03:03.763Z"
   },
   {
    "duration": 5,
    "start_time": "2023-03-19T14:08:00.592Z"
   },
   {
    "duration": 310,
    "start_time": "2023-03-19T14:08:04.611Z"
   },
   {
    "duration": 6,
    "start_time": "2023-03-19T14:08:34.590Z"
   },
   {
    "duration": 22,
    "start_time": "2023-03-19T14:08:42.940Z"
   },
   {
    "duration": 5,
    "start_time": "2023-03-19T14:09:01.340Z"
   },
   {
    "duration": 295,
    "start_time": "2023-03-19T14:09:05.290Z"
   },
   {
    "duration": 5,
    "start_time": "2023-03-19T14:09:36.058Z"
   },
   {
    "duration": 180,
    "start_time": "2023-03-19T14:09:39.076Z"
   },
   {
    "duration": 8,
    "start_time": "2023-03-19T14:09:57.893Z"
   },
   {
    "duration": 369,
    "start_time": "2023-03-19T14:10:02.433Z"
   },
   {
    "duration": 275,
    "start_time": "2023-03-19T14:14:02.360Z"
   },
   {
    "duration": 12,
    "start_time": "2023-03-19T14:15:13.162Z"
   },
   {
    "duration": 34,
    "start_time": "2023-03-19T14:15:16.698Z"
   },
   {
    "duration": 6,
    "start_time": "2023-03-19T14:15:49.654Z"
   },
   {
    "duration": 156,
    "start_time": "2023-03-19T14:15:53.085Z"
   },
   {
    "duration": 6,
    "start_time": "2023-03-19T14:16:15.704Z"
   },
   {
    "duration": 230,
    "start_time": "2023-03-19T14:16:20.113Z"
   },
   {
    "duration": 6,
    "start_time": "2023-03-19T14:20:43.295Z"
   },
   {
    "duration": 350,
    "start_time": "2023-03-19T14:20:47.080Z"
   },
   {
    "duration": 7,
    "start_time": "2023-03-19T14:25:53.196Z"
   },
   {
    "duration": 32,
    "start_time": "2023-03-19T14:26:31.863Z"
   },
   {
    "duration": 22,
    "start_time": "2023-03-19T14:27:00.615Z"
   },
   {
    "duration": 5,
    "start_time": "2023-03-19T14:27:24.842Z"
   },
   {
    "duration": 505,
    "start_time": "2023-03-19T14:27:27.583Z"
   },
   {
    "duration": 6,
    "start_time": "2023-03-19T14:29:02.184Z"
   },
   {
    "duration": 621,
    "start_time": "2023-03-19T14:29:06.985Z"
   },
   {
    "duration": 6,
    "start_time": "2023-03-19T14:29:26.692Z"
   },
   {
    "duration": 209,
    "start_time": "2023-03-19T14:29:30.185Z"
   },
   {
    "duration": 6,
    "start_time": "2023-03-19T14:31:01.484Z"
   },
   {
    "duration": 919,
    "start_time": "2023-03-19T14:31:04.401Z"
   },
   {
    "duration": 6,
    "start_time": "2023-03-19T14:32:14.459Z"
   },
   {
    "duration": 1064,
    "start_time": "2023-03-19T14:33:00.762Z"
   },
   {
    "duration": 6,
    "start_time": "2023-03-19T14:34:10.012Z"
   },
   {
    "duration": 1098,
    "start_time": "2023-03-19T14:34:10.537Z"
   },
   {
    "duration": 379,
    "start_time": "2023-03-19T14:42:23.515Z"
   },
   {
    "duration": 336,
    "start_time": "2023-03-19T14:42:52.558Z"
   },
   {
    "duration": 331,
    "start_time": "2023-03-19T14:42:53.012Z"
   },
   {
    "duration": 6,
    "start_time": "2023-03-19T14:43:17.035Z"
   },
   {
    "duration": 293,
    "start_time": "2023-03-19T14:43:17.645Z"
   },
   {
    "duration": 270,
    "start_time": "2023-03-19T14:43:18.138Z"
   },
   {
    "duration": 1305,
    "start_time": "2023-03-19T14:47:37.029Z"
   },
   {
    "duration": 84,
    "start_time": "2023-03-19T14:47:38.336Z"
   },
   {
    "duration": 16,
    "start_time": "2023-03-19T14:47:38.421Z"
   },
   {
    "duration": 6,
    "start_time": "2023-03-19T14:47:38.439Z"
   },
   {
    "duration": 49,
    "start_time": "2023-03-19T14:47:38.446Z"
   },
   {
    "duration": 22,
    "start_time": "2023-03-19T14:47:38.497Z"
   },
   {
    "duration": 49,
    "start_time": "2023-03-19T14:47:38.521Z"
   },
   {
    "duration": 49,
    "start_time": "2023-03-19T14:47:38.572Z"
   },
   {
    "duration": 14,
    "start_time": "2023-03-19T14:47:38.623Z"
   },
   {
    "duration": 32,
    "start_time": "2023-03-19T14:47:38.640Z"
   },
   {
    "duration": 65,
    "start_time": "2023-03-19T14:47:38.674Z"
   },
   {
    "duration": 54,
    "start_time": "2023-03-19T14:47:38.741Z"
   },
   {
    "duration": 160,
    "start_time": "2023-03-19T14:47:38.798Z"
   },
   {
    "duration": 0,
    "start_time": "2023-03-19T14:47:38.960Z"
   },
   {
    "duration": 0,
    "start_time": "2023-03-19T14:47:38.961Z"
   },
   {
    "duration": 0,
    "start_time": "2023-03-19T14:47:38.963Z"
   },
   {
    "duration": 0,
    "start_time": "2023-03-19T14:47:38.975Z"
   },
   {
    "duration": 0,
    "start_time": "2023-03-19T14:47:38.975Z"
   },
   {
    "duration": 0,
    "start_time": "2023-03-19T14:47:38.976Z"
   },
   {
    "duration": 0,
    "start_time": "2023-03-19T14:47:38.977Z"
   },
   {
    "duration": 0,
    "start_time": "2023-03-19T14:47:38.979Z"
   },
   {
    "duration": 0,
    "start_time": "2023-03-19T14:47:38.985Z"
   },
   {
    "duration": 0,
    "start_time": "2023-03-19T14:47:38.986Z"
   },
   {
    "duration": 0,
    "start_time": "2023-03-19T14:47:38.988Z"
   },
   {
    "duration": 0,
    "start_time": "2023-03-19T14:47:38.990Z"
   },
   {
    "duration": 0,
    "start_time": "2023-03-19T14:47:38.992Z"
   },
   {
    "duration": 6,
    "start_time": "2023-03-19T14:48:32.420Z"
   },
   {
    "duration": 27,
    "start_time": "2023-03-19T14:48:35.750Z"
   },
   {
    "duration": 1211,
    "start_time": "2023-03-19T14:48:41.026Z"
   },
   {
    "duration": 81,
    "start_time": "2023-03-19T14:48:42.239Z"
   },
   {
    "duration": 16,
    "start_time": "2023-03-19T14:48:42.322Z"
   },
   {
    "duration": 8,
    "start_time": "2023-03-19T14:48:42.340Z"
   },
   {
    "duration": 42,
    "start_time": "2023-03-19T14:48:42.349Z"
   },
   {
    "duration": 22,
    "start_time": "2023-03-19T14:48:42.393Z"
   },
   {
    "duration": 26,
    "start_time": "2023-03-19T14:48:42.416Z"
   },
   {
    "duration": 79,
    "start_time": "2023-03-19T14:48:42.444Z"
   },
   {
    "duration": 14,
    "start_time": "2023-03-19T14:48:42.525Z"
   },
   {
    "duration": 9,
    "start_time": "2023-03-19T14:48:42.542Z"
   },
   {
    "duration": 64,
    "start_time": "2023-03-19T14:48:42.565Z"
   },
   {
    "duration": 62,
    "start_time": "2023-03-19T14:48:42.631Z"
   },
   {
    "duration": 14,
    "start_time": "2023-03-19T14:48:42.695Z"
   },
   {
    "duration": 16,
    "start_time": "2023-03-19T14:48:42.711Z"
   },
   {
    "duration": 41,
    "start_time": "2023-03-19T14:48:42.729Z"
   },
   {
    "duration": 20,
    "start_time": "2023-03-19T14:48:42.778Z"
   },
   {
    "duration": 482,
    "start_time": "2023-03-19T14:48:42.800Z"
   },
   {
    "duration": 233,
    "start_time": "2023-03-19T14:48:43.285Z"
   },
   {
    "duration": 416,
    "start_time": "2023-03-19T14:48:43.520Z"
   },
   {
    "duration": 386,
    "start_time": "2023-03-19T14:48:43.938Z"
   },
   {
    "duration": 6,
    "start_time": "2023-03-19T14:48:44.326Z"
   },
   {
    "duration": 156,
    "start_time": "2023-03-19T14:48:44.334Z"
   },
   {
    "duration": 0,
    "start_time": "2023-03-19T14:48:44.492Z"
   },
   {
    "duration": 0,
    "start_time": "2023-03-19T14:48:44.494Z"
   },
   {
    "duration": 0,
    "start_time": "2023-03-19T14:48:44.496Z"
   },
   {
    "duration": 0,
    "start_time": "2023-03-19T14:48:44.497Z"
   },
   {
    "duration": 1333,
    "start_time": "2023-03-19T14:52:17.726Z"
   },
   {
    "duration": 91,
    "start_time": "2023-03-19T14:52:19.062Z"
   },
   {
    "duration": 26,
    "start_time": "2023-03-19T14:52:19.155Z"
   },
   {
    "duration": 20,
    "start_time": "2023-03-19T14:52:19.183Z"
   },
   {
    "duration": 28,
    "start_time": "2023-03-19T14:52:19.206Z"
   },
   {
    "duration": 36,
    "start_time": "2023-03-19T14:52:19.236Z"
   },
   {
    "duration": 30,
    "start_time": "2023-03-19T14:52:19.274Z"
   },
   {
    "duration": 49,
    "start_time": "2023-03-19T14:52:19.306Z"
   },
   {
    "duration": 28,
    "start_time": "2023-03-19T14:52:19.369Z"
   },
   {
    "duration": 12,
    "start_time": "2023-03-19T14:52:19.399Z"
   },
   {
    "duration": 61,
    "start_time": "2023-03-19T14:52:19.414Z"
   },
   {
    "duration": 59,
    "start_time": "2023-03-19T14:52:19.477Z"
   },
   {
    "duration": 15,
    "start_time": "2023-03-19T14:52:19.538Z"
   },
   {
    "duration": 40,
    "start_time": "2023-03-19T14:52:19.556Z"
   },
   {
    "duration": 19,
    "start_time": "2023-03-19T14:52:19.598Z"
   },
   {
    "duration": 33,
    "start_time": "2023-03-19T14:52:19.620Z"
   },
   {
    "duration": 507,
    "start_time": "2023-03-19T14:52:19.655Z"
   },
   {
    "duration": 247,
    "start_time": "2023-03-19T14:52:20.164Z"
   },
   {
    "duration": 435,
    "start_time": "2023-03-19T14:52:20.413Z"
   },
   {
    "duration": 371,
    "start_time": "2023-03-19T14:52:20.849Z"
   },
   {
    "duration": 6,
    "start_time": "2023-03-19T14:52:21.222Z"
   },
   {
    "duration": 483,
    "start_time": "2023-03-19T14:52:21.230Z"
   },
   {
    "duration": 0,
    "start_time": "2023-03-19T14:52:21.715Z"
   },
   {
    "duration": 0,
    "start_time": "2023-03-19T14:52:21.716Z"
   },
   {
    "duration": 0,
    "start_time": "2023-03-19T14:52:21.718Z"
   },
   {
    "duration": 0,
    "start_time": "2023-03-19T14:52:21.720Z"
   },
   {
    "duration": 6,
    "start_time": "2023-03-19T14:53:45.699Z"
   },
   {
    "duration": 306,
    "start_time": "2023-03-19T14:53:48.515Z"
   },
   {
    "duration": 320,
    "start_time": "2023-03-19T14:53:52.402Z"
   },
   {
    "duration": 316,
    "start_time": "2023-03-19T14:53:56.797Z"
   },
   {
    "duration": 5,
    "start_time": "2023-03-19T14:54:43.394Z"
   },
   {
    "duration": 394,
    "start_time": "2023-03-19T14:54:46.338Z"
   },
   {
    "duration": 330,
    "start_time": "2023-03-19T14:55:30.214Z"
   },
   {
    "duration": 1310,
    "start_time": "2023-03-19T14:57:00.131Z"
   },
   {
    "duration": 112,
    "start_time": "2023-03-19T14:57:01.443Z"
   },
   {
    "duration": 38,
    "start_time": "2023-03-19T14:57:01.558Z"
   },
   {
    "duration": 41,
    "start_time": "2023-03-19T14:57:01.600Z"
   },
   {
    "duration": 173,
    "start_time": "2023-03-19T14:57:01.643Z"
   },
   {
    "duration": 0,
    "start_time": "2023-03-19T14:57:01.818Z"
   },
   {
    "duration": 0,
    "start_time": "2023-03-19T14:57:01.820Z"
   },
   {
    "duration": 0,
    "start_time": "2023-03-19T14:57:01.822Z"
   },
   {
    "duration": 0,
    "start_time": "2023-03-19T14:57:01.824Z"
   },
   {
    "duration": 0,
    "start_time": "2023-03-19T14:57:01.826Z"
   },
   {
    "duration": 0,
    "start_time": "2023-03-19T14:57:01.827Z"
   },
   {
    "duration": 0,
    "start_time": "2023-03-19T14:57:01.828Z"
   },
   {
    "duration": 0,
    "start_time": "2023-03-19T14:57:01.830Z"
   },
   {
    "duration": 0,
    "start_time": "2023-03-19T14:57:01.831Z"
   },
   {
    "duration": 0,
    "start_time": "2023-03-19T14:57:01.833Z"
   },
   {
    "duration": 0,
    "start_time": "2023-03-19T14:57:01.834Z"
   },
   {
    "duration": 0,
    "start_time": "2023-03-19T14:57:01.835Z"
   },
   {
    "duration": 0,
    "start_time": "2023-03-19T14:57:01.871Z"
   },
   {
    "duration": 0,
    "start_time": "2023-03-19T14:57:01.872Z"
   },
   {
    "duration": 0,
    "start_time": "2023-03-19T14:57:01.873Z"
   },
   {
    "duration": 0,
    "start_time": "2023-03-19T14:57:01.874Z"
   },
   {
    "duration": 0,
    "start_time": "2023-03-19T14:57:01.875Z"
   },
   {
    "duration": 0,
    "start_time": "2023-03-19T14:57:01.875Z"
   },
   {
    "duration": 0,
    "start_time": "2023-03-19T14:57:01.879Z"
   },
   {
    "duration": 0,
    "start_time": "2023-03-19T14:57:01.879Z"
   },
   {
    "duration": 0,
    "start_time": "2023-03-19T14:57:01.880Z"
   },
   {
    "duration": 0,
    "start_time": "2023-03-19T14:57:01.881Z"
   },
   {
    "duration": 1305,
    "start_time": "2023-03-19T14:57:20.353Z"
   },
   {
    "duration": 96,
    "start_time": "2023-03-19T14:57:21.661Z"
   },
   {
    "duration": 29,
    "start_time": "2023-03-19T14:57:21.759Z"
   },
   {
    "duration": 23,
    "start_time": "2023-03-19T14:57:21.793Z"
   },
   {
    "duration": 142,
    "start_time": "2023-03-19T14:57:21.819Z"
   },
   {
    "duration": 0,
    "start_time": "2023-03-19T14:57:21.964Z"
   },
   {
    "duration": 0,
    "start_time": "2023-03-19T14:57:21.965Z"
   },
   {
    "duration": 0,
    "start_time": "2023-03-19T14:57:21.982Z"
   },
   {
    "duration": 0,
    "start_time": "2023-03-19T14:57:21.984Z"
   },
   {
    "duration": 0,
    "start_time": "2023-03-19T14:57:21.988Z"
   },
   {
    "duration": 0,
    "start_time": "2023-03-19T14:57:21.990Z"
   },
   {
    "duration": 0,
    "start_time": "2023-03-19T14:57:21.992Z"
   },
   {
    "duration": 0,
    "start_time": "2023-03-19T14:57:21.996Z"
   },
   {
    "duration": 0,
    "start_time": "2023-03-19T14:57:21.996Z"
   },
   {
    "duration": 0,
    "start_time": "2023-03-19T14:57:21.997Z"
   },
   {
    "duration": 0,
    "start_time": "2023-03-19T14:57:21.998Z"
   },
   {
    "duration": 0,
    "start_time": "2023-03-19T14:57:21.999Z"
   },
   {
    "duration": 0,
    "start_time": "2023-03-19T14:57:22.000Z"
   },
   {
    "duration": 0,
    "start_time": "2023-03-19T14:57:22.001Z"
   },
   {
    "duration": 0,
    "start_time": "2023-03-19T14:57:22.007Z"
   },
   {
    "duration": 0,
    "start_time": "2023-03-19T14:57:22.008Z"
   },
   {
    "duration": 0,
    "start_time": "2023-03-19T14:57:22.010Z"
   },
   {
    "duration": 0,
    "start_time": "2023-03-19T14:57:22.011Z"
   },
   {
    "duration": 0,
    "start_time": "2023-03-19T14:57:22.013Z"
   },
   {
    "duration": 0,
    "start_time": "2023-03-19T14:57:22.014Z"
   },
   {
    "duration": 0,
    "start_time": "2023-03-19T14:57:22.015Z"
   },
   {
    "duration": 0,
    "start_time": "2023-03-19T14:57:22.016Z"
   },
   {
    "duration": 1315,
    "start_time": "2023-03-19T14:57:46.543Z"
   },
   {
    "duration": 95,
    "start_time": "2023-03-19T14:57:47.860Z"
   },
   {
    "duration": 22,
    "start_time": "2023-03-19T14:57:47.957Z"
   },
   {
    "duration": 22,
    "start_time": "2023-03-19T14:57:47.984Z"
   },
   {
    "duration": 27,
    "start_time": "2023-03-19T14:57:48.008Z"
   },
   {
    "duration": 22,
    "start_time": "2023-03-19T14:57:48.037Z"
   },
   {
    "duration": 35,
    "start_time": "2023-03-19T14:57:48.060Z"
   },
   {
    "duration": 53,
    "start_time": "2023-03-19T14:57:48.097Z"
   },
   {
    "duration": 27,
    "start_time": "2023-03-19T14:57:48.152Z"
   },
   {
    "duration": 26,
    "start_time": "2023-03-19T14:57:48.183Z"
   },
   {
    "duration": 74,
    "start_time": "2023-03-19T14:57:48.211Z"
   },
   {
    "duration": 59,
    "start_time": "2023-03-19T14:57:48.294Z"
   },
   {
    "duration": 23,
    "start_time": "2023-03-19T14:57:48.354Z"
   },
   {
    "duration": 27,
    "start_time": "2023-03-19T14:57:48.386Z"
   },
   {
    "duration": 18,
    "start_time": "2023-03-19T14:57:48.415Z"
   },
   {
    "duration": 19,
    "start_time": "2023-03-19T14:57:48.437Z"
   },
   {
    "duration": 510,
    "start_time": "2023-03-19T14:57:48.458Z"
   },
   {
    "duration": 238,
    "start_time": "2023-03-19T14:57:48.970Z"
   },
   {
    "duration": 418,
    "start_time": "2023-03-19T14:57:49.210Z"
   },
   {
    "duration": 375,
    "start_time": "2023-03-19T14:57:49.630Z"
   },
   {
    "duration": 5,
    "start_time": "2023-03-19T14:57:50.008Z"
   },
   {
    "duration": 25,
    "start_time": "2023-03-19T14:57:50.015Z"
   },
   {
    "duration": 398,
    "start_time": "2023-03-19T14:57:50.043Z"
   },
   {
    "duration": 357,
    "start_time": "2023-03-19T14:57:50.443Z"
   },
   {
    "duration": 437,
    "start_time": "2023-03-19T14:57:50.802Z"
   },
   {
    "duration": 3,
    "start_time": "2023-03-19T14:57:51.241Z"
   },
   {
    "duration": 39,
    "start_time": "2023-03-19T14:57:51.245Z"
   },
   {
    "duration": 5,
    "start_time": "2023-03-19T14:58:06.225Z"
   },
   {
    "duration": 359,
    "start_time": "2023-03-19T14:58:08.859Z"
   },
   {
    "duration": 1393,
    "start_time": "2023-03-19T14:58:22.260Z"
   },
   {
    "duration": 101,
    "start_time": "2023-03-19T14:58:23.655Z"
   },
   {
    "duration": 27,
    "start_time": "2023-03-19T14:58:23.758Z"
   },
   {
    "duration": 19,
    "start_time": "2023-03-19T14:58:23.787Z"
   },
   {
    "duration": 23,
    "start_time": "2023-03-19T14:58:23.809Z"
   },
   {
    "duration": 23,
    "start_time": "2023-03-19T14:58:23.835Z"
   },
   {
    "duration": 41,
    "start_time": "2023-03-19T14:58:23.860Z"
   },
   {
    "duration": 51,
    "start_time": "2023-03-19T14:58:23.903Z"
   },
   {
    "duration": 25,
    "start_time": "2023-03-19T14:58:23.965Z"
   },
   {
    "duration": 13,
    "start_time": "2023-03-19T14:58:23.996Z"
   },
   {
    "duration": 60,
    "start_time": "2023-03-19T14:58:24.010Z"
   },
   {
    "duration": 54,
    "start_time": "2023-03-19T14:58:24.075Z"
   },
   {
    "duration": 15,
    "start_time": "2023-03-19T14:58:24.131Z"
   },
   {
    "duration": 18,
    "start_time": "2023-03-19T14:58:24.149Z"
   },
   {
    "duration": 44,
    "start_time": "2023-03-19T14:58:24.169Z"
   },
   {
    "duration": 18,
    "start_time": "2023-03-19T14:58:24.215Z"
   },
   {
    "duration": 512,
    "start_time": "2023-03-19T14:58:24.235Z"
   },
   {
    "duration": 275,
    "start_time": "2023-03-19T14:58:24.749Z"
   },
   {
    "duration": 418,
    "start_time": "2023-03-19T14:58:25.026Z"
   },
   {
    "duration": 361,
    "start_time": "2023-03-19T14:58:25.446Z"
   },
   {
    "duration": 6,
    "start_time": "2023-03-19T14:58:25.809Z"
   },
   {
    "duration": 381,
    "start_time": "2023-03-19T14:58:25.817Z"
   },
   {
    "duration": 337,
    "start_time": "2023-03-19T14:58:26.200Z"
   },
   {
    "duration": 490,
    "start_time": "2023-03-19T14:58:26.539Z"
   },
   {
    "duration": 3,
    "start_time": "2023-03-19T14:58:27.032Z"
   },
   {
    "duration": 14,
    "start_time": "2023-03-19T14:58:27.037Z"
   },
   {
    "duration": 240,
    "start_time": "2023-03-19T15:18:59.881Z"
   },
   {
    "duration": 260,
    "start_time": "2023-03-19T15:20:37.954Z"
   },
   {
    "duration": 269,
    "start_time": "2023-03-19T15:20:45.610Z"
   },
   {
    "duration": 297,
    "start_time": "2023-03-19T15:21:06.845Z"
   },
   {
    "duration": 144,
    "start_time": "2023-03-19T15:23:26.344Z"
   },
   {
    "duration": 371,
    "start_time": "2023-03-19T15:23:43.417Z"
   },
   {
    "duration": 344,
    "start_time": "2023-03-19T15:24:07.853Z"
   },
   {
    "duration": 333,
    "start_time": "2023-03-19T15:24:25.084Z"
   },
   {
    "duration": 361,
    "start_time": "2023-03-19T15:24:35.739Z"
   },
   {
    "duration": 1594,
    "start_time": "2023-03-19T19:38:29.039Z"
   },
   {
    "duration": 220,
    "start_time": "2023-03-19T19:38:30.636Z"
   },
   {
    "duration": 16,
    "start_time": "2023-03-19T19:38:30.857Z"
   },
   {
    "duration": 63,
    "start_time": "2023-03-19T19:38:30.875Z"
   },
   {
    "duration": 28,
    "start_time": "2023-03-19T19:38:30.943Z"
   },
   {
    "duration": 44,
    "start_time": "2023-03-19T19:38:30.972Z"
   },
   {
    "duration": 129,
    "start_time": "2023-03-19T19:38:31.019Z"
   },
   {
    "duration": 79,
    "start_time": "2023-03-19T19:38:31.149Z"
   },
   {
    "duration": 17,
    "start_time": "2023-03-19T19:38:31.230Z"
   },
   {
    "duration": 14,
    "start_time": "2023-03-19T19:38:31.248Z"
   },
   {
    "duration": 147,
    "start_time": "2023-03-19T19:38:31.265Z"
   },
   {
    "duration": 58,
    "start_time": "2023-03-19T19:38:31.414Z"
   },
   {
    "duration": 13,
    "start_time": "2023-03-19T19:38:31.474Z"
   },
   {
    "duration": 65,
    "start_time": "2023-03-19T19:38:31.490Z"
   },
   {
    "duration": 46,
    "start_time": "2023-03-19T19:38:31.557Z"
   },
   {
    "duration": 68,
    "start_time": "2023-03-19T19:38:31.605Z"
   },
   {
    "duration": 554,
    "start_time": "2023-03-19T19:38:31.675Z"
   },
   {
    "duration": 244,
    "start_time": "2023-03-19T19:38:32.230Z"
   },
   {
    "duration": 462,
    "start_time": "2023-03-19T19:38:32.476Z"
   },
   {
    "duration": 408,
    "start_time": "2023-03-19T19:38:32.939Z"
   },
   {
    "duration": 6,
    "start_time": "2023-03-19T19:38:33.350Z"
   },
   {
    "duration": 418,
    "start_time": "2023-03-19T19:38:33.358Z"
   },
   {
    "duration": 353,
    "start_time": "2023-03-19T19:38:33.778Z"
   },
   {
    "duration": 441,
    "start_time": "2023-03-19T19:38:34.134Z"
   },
   {
    "duration": 298,
    "start_time": "2023-03-19T19:38:34.577Z"
   },
   {
    "duration": 304,
    "start_time": "2023-03-19T19:38:34.877Z"
   },
   {
    "duration": 27,
    "start_time": "2023-03-19T19:38:35.183Z"
   },
   {
    "duration": 275,
    "start_time": "2023-03-19T20:12:45.052Z"
   },
   {
    "duration": 2263,
    "start_time": "2023-03-19T20:13:15.339Z"
   },
   {
    "duration": 2186,
    "start_time": "2023-03-19T20:16:31.200Z"
   },
   {
    "duration": 2243,
    "start_time": "2023-03-19T20:17:42.568Z"
   },
   {
    "duration": 618,
    "start_time": "2023-03-19T20:18:40.157Z"
   },
   {
    "duration": 592,
    "start_time": "2023-03-19T20:19:01.689Z"
   },
   {
    "duration": 111,
    "start_time": "2023-03-19T20:33:25.617Z"
   },
   {
    "duration": 96,
    "start_time": "2023-03-19T20:33:42.176Z"
   },
   {
    "duration": 38,
    "start_time": "2023-03-19T20:33:49.910Z"
   },
   {
    "duration": 46,
    "start_time": "2023-03-19T20:37:45.378Z"
   },
   {
    "duration": 25,
    "start_time": "2023-03-19T20:38:46.019Z"
   },
   {
    "duration": 23,
    "start_time": "2023-03-19T20:38:52.878Z"
   },
   {
    "duration": 20,
    "start_time": "2023-03-19T20:42:44.746Z"
   },
   {
    "duration": 195,
    "start_time": "2023-03-19T20:43:11.539Z"
   },
   {
    "duration": 88,
    "start_time": "2023-03-19T20:43:45.949Z"
   },
   {
    "duration": 680,
    "start_time": "2023-03-19T20:47:16.149Z"
   },
   {
    "duration": 2115,
    "start_time": "2023-03-19T20:48:43.685Z"
   },
   {
    "duration": 542,
    "start_time": "2023-03-19T20:49:07.027Z"
   },
   {
    "duration": 778,
    "start_time": "2023-03-19T20:49:42.749Z"
   },
   {
    "duration": 600,
    "start_time": "2023-03-19T20:50:09.754Z"
   },
   {
    "duration": 1589,
    "start_time": "2023-03-19T20:53:10.425Z"
   },
   {
    "duration": 1561,
    "start_time": "2023-03-19T20:53:32.385Z"
   },
   {
    "duration": 605,
    "start_time": "2023-03-19T20:55:44.073Z"
   },
   {
    "duration": 670,
    "start_time": "2023-03-19T20:56:25.079Z"
   },
   {
    "duration": 897,
    "start_time": "2023-03-19T20:57:52.471Z"
   },
   {
    "duration": 17,
    "start_time": "2023-03-19T20:58:01.278Z"
   },
   {
    "duration": 1741,
    "start_time": "2023-03-19T20:58:11.978Z"
   },
   {
    "duration": 24,
    "start_time": "2023-03-19T20:58:20.155Z"
   },
   {
    "duration": 15,
    "start_time": "2023-03-19T20:58:30.481Z"
   },
   {
    "duration": 16,
    "start_time": "2023-03-19T21:05:28.541Z"
   },
   {
    "duration": 14,
    "start_time": "2023-03-19T21:05:41.711Z"
   },
   {
    "duration": 13,
    "start_time": "2023-03-19T21:06:13.316Z"
   },
   {
    "duration": 34,
    "start_time": "2023-03-19T21:06:20.278Z"
   },
   {
    "duration": 16,
    "start_time": "2023-03-19T21:06:30.259Z"
   },
   {
    "duration": 137,
    "start_time": "2023-03-19T21:06:40.690Z"
   },
   {
    "duration": 34,
    "start_time": "2023-03-19T21:06:46.720Z"
   },
   {
    "duration": 1815,
    "start_time": "2023-03-19T21:06:57.241Z"
   },
   {
    "duration": 1791,
    "start_time": "2023-03-19T21:07:04.041Z"
   },
   {
    "duration": 5,
    "start_time": "2023-03-19T21:07:33.643Z"
   },
   {
    "duration": 19,
    "start_time": "2023-03-19T21:09:05.338Z"
   },
   {
    "duration": 13,
    "start_time": "2023-03-19T21:09:32.247Z"
   },
   {
    "duration": 8,
    "start_time": "2023-03-19T21:09:53.261Z"
   },
   {
    "duration": 682,
    "start_time": "2023-03-19T21:10:16.020Z"
   },
   {
    "duration": 724,
    "start_time": "2023-03-19T21:10:45.256Z"
   },
   {
    "duration": 5,
    "start_time": "2023-03-19T21:11:44.712Z"
   },
   {
    "duration": 5,
    "start_time": "2023-03-19T21:12:29.029Z"
   },
   {
    "duration": 6,
    "start_time": "2023-03-19T21:12:54.014Z"
   },
   {
    "duration": 7,
    "start_time": "2023-03-19T21:13:04.146Z"
   },
   {
    "duration": 7,
    "start_time": "2023-03-19T21:13:18.718Z"
   },
   {
    "duration": 5,
    "start_time": "2023-03-19T21:13:49.753Z"
   },
   {
    "duration": 560,
    "start_time": "2023-03-19T21:18:25.592Z"
   },
   {
    "duration": 1939,
    "start_time": "2023-03-19T21:19:29.785Z"
   },
   {
    "duration": 387,
    "start_time": "2023-03-19T21:19:50.639Z"
   },
   {
    "duration": 483,
    "start_time": "2023-03-19T21:21:18.071Z"
   },
   {
    "duration": 1105,
    "start_time": "2023-03-19T21:22:40.513Z"
   },
   {
    "duration": 943,
    "start_time": "2023-03-19T21:23:51.580Z"
   },
   {
    "duration": 982,
    "start_time": "2023-03-19T21:24:03.531Z"
   },
   {
    "duration": 153,
    "start_time": "2023-03-19T21:26:02.174Z"
   },
   {
    "duration": 141,
    "start_time": "2023-03-19T21:28:15.026Z"
   },
   {
    "duration": 154,
    "start_time": "2023-03-19T21:29:09.280Z"
   },
   {
    "duration": 148,
    "start_time": "2023-03-19T21:29:27.963Z"
   },
   {
    "duration": 1697,
    "start_time": "2023-03-19T21:29:59.723Z"
   },
   {
    "duration": 1453,
    "start_time": "2023-03-19T21:31:53.616Z"
   },
   {
    "duration": 1358,
    "start_time": "2023-03-19T21:32:27.443Z"
   },
   {
    "duration": 1172,
    "start_time": "2023-03-19T21:32:51.162Z"
   },
   {
    "duration": 177,
    "start_time": "2023-03-19T21:34:38.157Z"
   },
   {
    "duration": 1231,
    "start_time": "2023-03-19T21:36:12.348Z"
   },
   {
    "duration": 1306,
    "start_time": "2023-03-19T21:37:00.916Z"
   },
   {
    "duration": 1239,
    "start_time": "2023-03-19T21:37:09.877Z"
   },
   {
    "duration": 411,
    "start_time": "2023-03-19T21:37:38.738Z"
   },
   {
    "duration": 1312,
    "start_time": "2023-03-19T21:39:51.659Z"
   },
   {
    "duration": 1299,
    "start_time": "2023-03-19T21:40:07.348Z"
   },
   {
    "duration": 260,
    "start_time": "2023-03-19T21:41:23.395Z"
   },
   {
    "duration": 262,
    "start_time": "2023-03-19T21:41:28.582Z"
   },
   {
    "duration": 1361,
    "start_time": "2023-03-19T21:42:48.924Z"
   },
   {
    "duration": 1126,
    "start_time": "2023-03-19T21:42:58.540Z"
   },
   {
    "duration": 1161,
    "start_time": "2023-03-19T21:43:37.719Z"
   },
   {
    "duration": 1431,
    "start_time": "2023-03-19T21:43:44.425Z"
   },
   {
    "duration": 1163,
    "start_time": "2023-03-19T21:43:52.844Z"
   },
   {
    "duration": 1166,
    "start_time": "2023-03-19T21:44:10.173Z"
   },
   {
    "duration": 1320,
    "start_time": "2023-03-19T21:44:36.988Z"
   },
   {
    "duration": 1178,
    "start_time": "2023-03-19T21:44:44.738Z"
   },
   {
    "duration": 1372,
    "start_time": "2023-03-19T21:45:03.755Z"
   },
   {
    "duration": 1208,
    "start_time": "2023-03-19T21:45:11.947Z"
   },
   {
    "duration": 1163,
    "start_time": "2023-03-19T21:45:21.317Z"
   },
   {
    "duration": 1352,
    "start_time": "2023-03-19T21:46:04.124Z"
   },
   {
    "duration": 1235,
    "start_time": "2023-03-19T21:46:33.218Z"
   },
   {
    "duration": 1334,
    "start_time": "2023-03-19T21:46:54.281Z"
   },
   {
    "duration": 1525,
    "start_time": "2023-03-19T21:49:47.649Z"
   },
   {
    "duration": 1464,
    "start_time": "2023-03-20T18:19:01.767Z"
   },
   {
    "duration": 146,
    "start_time": "2023-03-20T18:19:03.233Z"
   },
   {
    "duration": 24,
    "start_time": "2023-03-20T18:19:03.382Z"
   },
   {
    "duration": 5,
    "start_time": "2023-03-20T18:19:03.408Z"
   },
   {
    "duration": 36,
    "start_time": "2023-03-20T18:19:03.415Z"
   },
   {
    "duration": 19,
    "start_time": "2023-03-20T18:19:03.452Z"
   },
   {
    "duration": 35,
    "start_time": "2023-03-20T18:19:03.472Z"
   },
   {
    "duration": 40,
    "start_time": "2023-03-20T18:19:03.508Z"
   },
   {
    "duration": 9,
    "start_time": "2023-03-20T18:19:03.551Z"
   },
   {
    "duration": 34,
    "start_time": "2023-03-20T18:19:03.561Z"
   },
   {
    "duration": 42,
    "start_time": "2023-03-20T18:19:03.598Z"
   },
   {
    "duration": 73,
    "start_time": "2023-03-20T18:19:03.642Z"
   },
   {
    "duration": 18,
    "start_time": "2023-03-20T18:19:03.717Z"
   },
   {
    "duration": 34,
    "start_time": "2023-03-20T18:19:03.737Z"
   },
   {
    "duration": 26,
    "start_time": "2023-03-20T18:19:03.773Z"
   },
   {
    "duration": 20,
    "start_time": "2023-03-20T18:19:03.801Z"
   },
   {
    "duration": 490,
    "start_time": "2023-03-20T18:19:03.823Z"
   },
   {
    "duration": 204,
    "start_time": "2023-03-20T18:19:04.315Z"
   },
   {
    "duration": 346,
    "start_time": "2023-03-20T18:19:04.521Z"
   },
   {
    "duration": 325,
    "start_time": "2023-03-20T18:19:04.868Z"
   },
   {
    "duration": 5,
    "start_time": "2023-03-20T18:19:05.195Z"
   },
   {
    "duration": 323,
    "start_time": "2023-03-20T18:19:05.202Z"
   },
   {
    "duration": 296,
    "start_time": "2023-03-20T18:19:05.527Z"
   },
   {
    "duration": 428,
    "start_time": "2023-03-20T18:19:05.825Z"
   },
   {
    "duration": 248,
    "start_time": "2023-03-20T18:19:06.256Z"
   },
   {
    "duration": 239,
    "start_time": "2023-03-20T18:19:06.505Z"
   },
   {
    "duration": 1230,
    "start_time": "2023-03-20T18:19:06.747Z"
   },
   {
    "duration": 3,
    "start_time": "2023-03-20T18:19:07.979Z"
   },
   {
    "duration": 1231,
    "start_time": "2023-03-20T18:19:24.879Z"
   },
   {
    "duration": 1375,
    "start_time": "2023-03-20T18:20:09.479Z"
   },
   {
    "duration": 222,
    "start_time": "2023-03-20T18:27:14.024Z"
   },
   {
    "duration": 136,
    "start_time": "2023-03-20T18:27:42.179Z"
   },
   {
    "duration": 140,
    "start_time": "2023-03-20T18:28:06.930Z"
   },
   {
    "duration": 773,
    "start_time": "2023-03-20T18:28:26.618Z"
   },
   {
    "duration": 918,
    "start_time": "2023-03-20T18:28:40.702Z"
   },
   {
    "duration": 784,
    "start_time": "2023-03-20T18:29:05.039Z"
   },
   {
    "duration": 664,
    "start_time": "2023-03-20T18:29:34.860Z"
   },
   {
    "duration": 588,
    "start_time": "2023-03-20T18:30:29.322Z"
   },
   {
    "duration": 944,
    "start_time": "2023-03-20T18:31:58.603Z"
   },
   {
    "duration": 800,
    "start_time": "2023-03-20T18:34:49.518Z"
   },
   {
    "duration": 810,
    "start_time": "2023-03-20T18:35:29.064Z"
   },
   {
    "duration": 1487,
    "start_time": "2023-03-20T18:39:21.343Z"
   },
   {
    "duration": 1404,
    "start_time": "2023-03-20T18:41:47.826Z"
   },
   {
    "duration": 1196,
    "start_time": "2023-03-20T19:05:31.948Z"
   },
   {
    "duration": 82,
    "start_time": "2023-03-20T19:05:33.146Z"
   },
   {
    "duration": 15,
    "start_time": "2023-03-20T19:05:33.230Z"
   },
   {
    "duration": 18,
    "start_time": "2023-03-20T19:05:33.248Z"
   },
   {
    "duration": 40,
    "start_time": "2023-03-20T19:05:33.268Z"
   },
   {
    "duration": 25,
    "start_time": "2023-03-20T19:05:33.310Z"
   },
   {
    "duration": 35,
    "start_time": "2023-03-20T19:05:33.337Z"
   },
   {
    "duration": 64,
    "start_time": "2023-03-20T19:05:33.374Z"
   },
   {
    "duration": 12,
    "start_time": "2023-03-20T19:05:33.440Z"
   },
   {
    "duration": 10,
    "start_time": "2023-03-20T19:05:33.455Z"
   },
   {
    "duration": 73,
    "start_time": "2023-03-20T19:05:33.466Z"
   },
   {
    "duration": 56,
    "start_time": "2023-03-20T19:05:33.542Z"
   },
   {
    "duration": 22,
    "start_time": "2023-03-20T19:05:33.600Z"
   },
   {
    "duration": 19,
    "start_time": "2023-03-20T19:05:33.624Z"
   },
   {
    "duration": 18,
    "start_time": "2023-03-20T19:05:33.644Z"
   },
   {
    "duration": 48,
    "start_time": "2023-03-20T19:05:33.664Z"
   },
   {
    "duration": 474,
    "start_time": "2023-03-20T19:05:33.715Z"
   },
   {
    "duration": 238,
    "start_time": "2023-03-20T19:05:34.191Z"
   },
   {
    "duration": 416,
    "start_time": "2023-03-20T19:05:34.431Z"
   },
   {
    "duration": 359,
    "start_time": "2023-03-20T19:05:34.850Z"
   },
   {
    "duration": 1078,
    "start_time": "2023-03-20T19:05:35.212Z"
   },
   {
    "duration": 271,
    "start_time": "2023-03-20T19:05:36.292Z"
   },
   {
    "duration": 287,
    "start_time": "2023-03-20T19:05:36.565Z"
   },
   {
    "duration": 1597,
    "start_time": "2023-03-20T19:05:36.855Z"
   },
   {
    "duration": 3,
    "start_time": "2023-03-20T19:05:38.455Z"
   },
   {
    "duration": 13,
    "start_time": "2023-03-20T19:05:38.460Z"
   },
   {
    "duration": 91,
    "start_time": "2023-03-20T19:05:38.476Z"
   },
   {
    "duration": 451,
    "start_time": "2023-03-20T19:07:52.888Z"
   },
   {
    "duration": 193,
    "start_time": "2023-03-20T19:08:43.029Z"
   },
   {
    "duration": 472,
    "start_time": "2023-03-20T19:09:21.261Z"
   },
   {
    "duration": 345,
    "start_time": "2023-03-20T19:09:43.707Z"
   },
   {
    "duration": 337,
    "start_time": "2023-03-20T19:09:57.642Z"
   },
   {
    "duration": 320,
    "start_time": "2023-03-20T19:10:08.052Z"
   },
   {
    "duration": 410,
    "start_time": "2023-03-20T19:10:33.956Z"
   },
   {
    "duration": 1242,
    "start_time": "2023-03-20T19:10:47.317Z"
   },
   {
    "duration": 92,
    "start_time": "2023-03-20T19:10:48.562Z"
   },
   {
    "duration": 21,
    "start_time": "2023-03-20T19:10:48.657Z"
   },
   {
    "duration": 27,
    "start_time": "2023-03-20T19:10:48.680Z"
   },
   {
    "duration": 45,
    "start_time": "2023-03-20T19:10:48.711Z"
   },
   {
    "duration": 27,
    "start_time": "2023-03-20T19:10:48.758Z"
   },
   {
    "duration": 38,
    "start_time": "2023-03-20T19:10:48.786Z"
   },
   {
    "duration": 44,
    "start_time": "2023-03-20T19:10:48.825Z"
   },
   {
    "duration": 27,
    "start_time": "2023-03-20T19:10:48.871Z"
   },
   {
    "duration": 25,
    "start_time": "2023-03-20T19:10:48.901Z"
   },
   {
    "duration": 64,
    "start_time": "2023-03-20T19:10:48.929Z"
   },
   {
    "duration": 54,
    "start_time": "2023-03-20T19:10:48.995Z"
   },
   {
    "duration": 12,
    "start_time": "2023-03-20T19:10:49.051Z"
   },
   {
    "duration": 13,
    "start_time": "2023-03-20T19:10:49.066Z"
   },
   {
    "duration": 39,
    "start_time": "2023-03-20T19:10:49.081Z"
   },
   {
    "duration": 22,
    "start_time": "2023-03-20T19:10:49.123Z"
   },
   {
    "duration": 507,
    "start_time": "2023-03-20T19:10:49.147Z"
   },
   {
    "duration": 247,
    "start_time": "2023-03-20T19:10:49.656Z"
   },
   {
    "duration": 402,
    "start_time": "2023-03-20T19:10:49.905Z"
   },
   {
    "duration": 336,
    "start_time": "2023-03-20T19:10:50.310Z"
   },
   {
    "duration": 988,
    "start_time": "2023-03-20T19:10:50.648Z"
   },
   {
    "duration": 237,
    "start_time": "2023-03-20T19:10:51.638Z"
   },
   {
    "duration": 274,
    "start_time": "2023-03-20T19:10:51.876Z"
   },
   {
    "duration": 1553,
    "start_time": "2023-03-20T19:10:52.151Z"
   },
   {
    "duration": 2,
    "start_time": "2023-03-20T19:10:53.706Z"
   },
   {
    "duration": 20,
    "start_time": "2023-03-20T19:10:53.710Z"
   },
   {
    "duration": 77,
    "start_time": "2023-03-20T19:10:53.732Z"
   },
   {
    "duration": 115,
    "start_time": "2023-03-20T19:18:29.540Z"
   },
   {
    "duration": 12,
    "start_time": "2023-03-20T19:18:32.970Z"
   },
   {
    "duration": 21,
    "start_time": "2023-03-20T19:19:14.085Z"
   },
   {
    "duration": 29,
    "start_time": "2023-03-20T19:19:18.903Z"
   },
   {
    "duration": 14,
    "start_time": "2023-03-20T19:20:14.972Z"
   },
   {
    "duration": 38,
    "start_time": "2023-03-20T19:23:30.181Z"
   },
   {
    "duration": 22,
    "start_time": "2023-03-20T19:23:44.697Z"
   },
   {
    "duration": 26,
    "start_time": "2023-03-20T19:23:55.314Z"
   },
   {
    "duration": 31,
    "start_time": "2023-03-20T19:24:03.108Z"
   },
   {
    "duration": 6,
    "start_time": "2023-03-20T19:26:53.501Z"
   },
   {
    "duration": 30,
    "start_time": "2023-03-20T19:38:45.512Z"
   },
   {
    "duration": 12,
    "start_time": "2023-03-20T19:43:31.268Z"
   },
   {
    "duration": 870,
    "start_time": "2023-03-20T19:43:33.538Z"
   },
   {
    "duration": 5,
    "start_time": "2023-03-20T19:43:55.189Z"
   },
   {
    "duration": 7,
    "start_time": "2023-03-20T19:44:13.481Z"
   },
   {
    "duration": 5,
    "start_time": "2023-03-20T19:48:49.966Z"
   },
   {
    "duration": 10,
    "start_time": "2023-03-20T19:48:52.209Z"
   },
   {
    "duration": 17,
    "start_time": "2023-03-20T20:09:00.850Z"
   },
   {
    "duration": 18,
    "start_time": "2023-03-20T20:09:36.331Z"
   },
   {
    "duration": 1246,
    "start_time": "2023-03-20T20:09:51.673Z"
   },
   {
    "duration": 72,
    "start_time": "2023-03-20T20:09:52.921Z"
   },
   {
    "duration": 13,
    "start_time": "2023-03-20T20:09:52.995Z"
   },
   {
    "duration": 6,
    "start_time": "2023-03-20T20:09:53.010Z"
   },
   {
    "duration": 21,
    "start_time": "2023-03-20T20:09:53.018Z"
   },
   {
    "duration": 17,
    "start_time": "2023-03-20T20:09:53.041Z"
   },
   {
    "duration": 46,
    "start_time": "2023-03-20T20:09:53.060Z"
   },
   {
    "duration": 43,
    "start_time": "2023-03-20T20:09:53.107Z"
   },
   {
    "duration": 10,
    "start_time": "2023-03-20T20:09:53.152Z"
   },
   {
    "duration": 32,
    "start_time": "2023-03-20T20:09:53.164Z"
   },
   {
    "duration": 44,
    "start_time": "2023-03-20T20:09:53.198Z"
   },
   {
    "duration": 59,
    "start_time": "2023-03-20T20:09:53.244Z"
   },
   {
    "duration": 16,
    "start_time": "2023-03-20T20:09:53.305Z"
   },
   {
    "duration": 16,
    "start_time": "2023-03-20T20:09:53.325Z"
   },
   {
    "duration": 28,
    "start_time": "2023-03-20T20:09:53.343Z"
   },
   {
    "duration": 50,
    "start_time": "2023-03-20T20:09:53.373Z"
   },
   {
    "duration": 436,
    "start_time": "2023-03-20T20:09:53.425Z"
   },
   {
    "duration": 205,
    "start_time": "2023-03-20T20:09:53.863Z"
   },
   {
    "duration": 369,
    "start_time": "2023-03-20T20:09:54.070Z"
   },
   {
    "duration": 314,
    "start_time": "2023-03-20T20:09:54.441Z"
   },
   {
    "duration": 992,
    "start_time": "2023-03-20T20:09:54.756Z"
   },
   {
    "duration": 229,
    "start_time": "2023-03-20T20:09:55.750Z"
   },
   {
    "duration": 233,
    "start_time": "2023-03-20T20:09:55.981Z"
   },
   {
    "duration": 1362,
    "start_time": "2023-03-20T20:09:56.216Z"
   },
   {
    "duration": 21,
    "start_time": "2023-03-20T20:09:57.580Z"
   },
   {
    "duration": 4,
    "start_time": "2023-03-20T20:09:57.603Z"
   },
   {
    "duration": 19,
    "start_time": "2023-03-20T20:09:57.609Z"
   },
   {
    "duration": 19,
    "start_time": "2023-03-20T20:09:57.630Z"
   },
   {
    "duration": 1300,
    "start_time": "2023-03-20T20:15:34.522Z"
   },
   {
    "duration": 75,
    "start_time": "2023-03-20T20:15:35.825Z"
   },
   {
    "duration": 17,
    "start_time": "2023-03-20T20:15:35.901Z"
   },
   {
    "duration": 12,
    "start_time": "2023-03-20T20:15:35.920Z"
   },
   {
    "duration": 27,
    "start_time": "2023-03-20T20:15:35.935Z"
   },
   {
    "duration": 34,
    "start_time": "2023-03-20T20:15:35.965Z"
   },
   {
    "duration": 22,
    "start_time": "2023-03-20T20:15:36.001Z"
   },
   {
    "duration": 44,
    "start_time": "2023-03-20T20:15:36.026Z"
   },
   {
    "duration": 12,
    "start_time": "2023-03-20T20:15:36.097Z"
   },
   {
    "duration": 10,
    "start_time": "2023-03-20T20:15:36.111Z"
   },
   {
    "duration": 46,
    "start_time": "2023-03-20T20:15:36.123Z"
   },
   {
    "duration": 65,
    "start_time": "2023-03-20T20:15:36.171Z"
   },
   {
    "duration": 14,
    "start_time": "2023-03-20T20:15:36.238Z"
   },
   {
    "duration": 15,
    "start_time": "2023-03-20T20:15:36.255Z"
   },
   {
    "duration": 33,
    "start_time": "2023-03-20T20:15:36.271Z"
   },
   {
    "duration": 18,
    "start_time": "2023-03-20T20:15:36.306Z"
   },
   {
    "duration": 455,
    "start_time": "2023-03-20T20:15:36.326Z"
   },
   {
    "duration": 219,
    "start_time": "2023-03-20T20:15:36.783Z"
   },
   {
    "duration": 368,
    "start_time": "2023-03-20T20:15:37.003Z"
   },
   {
    "duration": 323,
    "start_time": "2023-03-20T20:15:37.372Z"
   },
   {
    "duration": 946,
    "start_time": "2023-03-20T20:15:37.697Z"
   },
   {
    "duration": 243,
    "start_time": "2023-03-20T20:15:38.645Z"
   },
   {
    "duration": 265,
    "start_time": "2023-03-20T20:15:38.891Z"
   },
   {
    "duration": 1369,
    "start_time": "2023-03-20T20:15:39.158Z"
   },
   {
    "duration": 14,
    "start_time": "2023-03-20T20:15:40.529Z"
   },
   {
    "duration": 7,
    "start_time": "2023-03-20T20:15:40.545Z"
   },
   {
    "duration": 12,
    "start_time": "2023-03-20T20:15:40.553Z"
   },
   {
    "duration": 38,
    "start_time": "2023-03-20T20:15:40.567Z"
   },
   {
    "duration": 1408,
    "start_time": "2023-03-20T20:23:46.692Z"
   },
   {
    "duration": 571,
    "start_time": "2023-03-20T20:23:48.104Z"
   },
   {
    "duration": 14,
    "start_time": "2023-03-20T20:23:48.676Z"
   },
   {
    "duration": 4,
    "start_time": "2023-03-20T20:23:48.692Z"
   },
   {
    "duration": 29,
    "start_time": "2023-03-20T20:23:48.698Z"
   },
   {
    "duration": 17,
    "start_time": "2023-03-20T20:23:48.732Z"
   },
   {
    "duration": 20,
    "start_time": "2023-03-20T20:23:48.750Z"
   },
   {
    "duration": 56,
    "start_time": "2023-03-20T20:23:48.771Z"
   },
   {
    "duration": 11,
    "start_time": "2023-03-20T20:23:48.832Z"
   },
   {
    "duration": 4,
    "start_time": "2023-03-20T20:23:48.845Z"
   },
   {
    "duration": 41,
    "start_time": "2023-03-20T20:23:48.851Z"
   },
   {
    "duration": 54,
    "start_time": "2023-03-20T20:23:48.894Z"
   },
   {
    "duration": 12,
    "start_time": "2023-03-20T20:23:48.950Z"
   },
   {
    "duration": 14,
    "start_time": "2023-03-20T20:23:48.963Z"
   },
   {
    "duration": 48,
    "start_time": "2023-03-20T20:23:48.978Z"
   },
   {
    "duration": 17,
    "start_time": "2023-03-20T20:23:49.029Z"
   },
   {
    "duration": 433,
    "start_time": "2023-03-20T20:23:49.048Z"
   },
   {
    "duration": 209,
    "start_time": "2023-03-20T20:23:49.484Z"
   },
   {
    "duration": 404,
    "start_time": "2023-03-20T20:23:49.695Z"
   },
   {
    "duration": 352,
    "start_time": "2023-03-20T20:23:50.100Z"
   },
   {
    "duration": 974,
    "start_time": "2023-03-20T20:23:50.453Z"
   },
   {
    "duration": 228,
    "start_time": "2023-03-20T20:23:51.430Z"
   },
   {
    "duration": 269,
    "start_time": "2023-03-20T20:23:51.660Z"
   },
   {
    "duration": 1520,
    "start_time": "2023-03-20T20:23:51.931Z"
   },
   {
    "duration": 13,
    "start_time": "2023-03-20T20:23:53.453Z"
   },
   {
    "duration": 3,
    "start_time": "2023-03-20T20:23:53.468Z"
   },
   {
    "duration": 7,
    "start_time": "2023-03-20T20:23:53.473Z"
   },
   {
    "duration": 50,
    "start_time": "2023-03-20T20:23:53.483Z"
   },
   {
    "duration": 1330,
    "start_time": "2023-03-20T21:01:47.820Z"
   },
   {
    "duration": 79,
    "start_time": "2023-03-20T21:01:49.153Z"
   },
   {
    "duration": 18,
    "start_time": "2023-03-20T21:01:49.233Z"
   },
   {
    "duration": 11,
    "start_time": "2023-03-20T21:01:49.252Z"
   },
   {
    "duration": 45,
    "start_time": "2023-03-20T21:01:49.265Z"
   },
   {
    "duration": 20,
    "start_time": "2023-03-20T21:01:49.312Z"
   },
   {
    "duration": 28,
    "start_time": "2023-03-20T21:01:49.335Z"
   },
   {
    "duration": 72,
    "start_time": "2023-03-20T21:01:49.365Z"
   },
   {
    "duration": 12,
    "start_time": "2023-03-20T21:01:49.439Z"
   },
   {
    "duration": 12,
    "start_time": "2023-03-20T21:01:49.453Z"
   },
   {
    "duration": 38,
    "start_time": "2023-03-20T21:01:49.468Z"
   },
   {
    "duration": 16,
    "start_time": "2023-03-20T21:01:49.508Z"
   },
   {
    "duration": 20,
    "start_time": "2023-03-20T21:01:49.527Z"
   },
   {
    "duration": 470,
    "start_time": "2023-03-20T21:01:49.550Z"
   },
   {
    "duration": 226,
    "start_time": "2023-03-20T21:01:50.022Z"
   },
   {
    "duration": 397,
    "start_time": "2023-03-20T21:01:50.250Z"
   },
   {
    "duration": 347,
    "start_time": "2023-03-20T21:01:50.649Z"
   },
   {
    "duration": 989,
    "start_time": "2023-03-20T21:01:50.998Z"
   },
   {
    "duration": 258,
    "start_time": "2023-03-20T21:01:51.989Z"
   },
   {
    "duration": 255,
    "start_time": "2023-03-20T21:01:52.249Z"
   },
   {
    "duration": 1557,
    "start_time": "2023-03-20T21:01:52.507Z"
   },
   {
    "duration": 16,
    "start_time": "2023-03-20T21:01:54.067Z"
   },
   {
    "duration": 5,
    "start_time": "2023-03-20T21:01:54.097Z"
   },
   {
    "duration": 15,
    "start_time": "2023-03-20T21:01:54.104Z"
   },
   {
    "duration": 28,
    "start_time": "2023-03-20T21:01:54.121Z"
   },
   {
    "duration": 105,
    "start_time": "2023-03-20T21:08:43.362Z"
   },
   {
    "duration": 250,
    "start_time": "2023-03-20T21:14:25.485Z"
   },
   {
    "duration": 1226,
    "start_time": "2023-03-20T21:18:02.379Z"
   },
   {
    "duration": 70,
    "start_time": "2023-03-20T21:18:03.607Z"
   },
   {
    "duration": 15,
    "start_time": "2023-03-20T21:18:03.678Z"
   },
   {
    "duration": 17,
    "start_time": "2023-03-20T21:18:03.695Z"
   },
   {
    "duration": 37,
    "start_time": "2023-03-20T21:18:03.714Z"
   },
   {
    "duration": 19,
    "start_time": "2023-03-20T21:18:03.753Z"
   },
   {
    "duration": 23,
    "start_time": "2023-03-20T21:18:03.773Z"
   },
   {
    "duration": 41,
    "start_time": "2023-03-20T21:18:03.798Z"
   },
   {
    "duration": 9,
    "start_time": "2023-03-20T21:18:03.840Z"
   },
   {
    "duration": 41,
    "start_time": "2023-03-20T21:18:03.852Z"
   },
   {
    "duration": 24,
    "start_time": "2023-03-20T21:18:03.894Z"
   },
   {
    "duration": 28,
    "start_time": "2023-03-20T21:18:03.919Z"
   },
   {
    "duration": 28,
    "start_time": "2023-03-20T21:18:03.949Z"
   },
   {
    "duration": 422,
    "start_time": "2023-03-20T21:18:03.979Z"
   },
   {
    "duration": 200,
    "start_time": "2023-03-20T21:18:04.403Z"
   },
   {
    "duration": 346,
    "start_time": "2023-03-20T21:18:04.605Z"
   },
   {
    "duration": 320,
    "start_time": "2023-03-20T21:18:04.952Z"
   },
   {
    "duration": 959,
    "start_time": "2023-03-20T21:18:05.274Z"
   },
   {
    "duration": 237,
    "start_time": "2023-03-20T21:18:06.236Z"
   },
   {
    "duration": 227,
    "start_time": "2023-03-20T21:18:06.475Z"
   },
   {
    "duration": 1324,
    "start_time": "2023-03-20T21:18:06.704Z"
   },
   {
    "duration": 13,
    "start_time": "2023-03-20T21:18:08.030Z"
   },
   {
    "duration": 18,
    "start_time": "2023-03-20T21:18:08.044Z"
   },
   {
    "duration": 8,
    "start_time": "2023-03-20T21:18:08.064Z"
   },
   {
    "duration": 29,
    "start_time": "2023-03-20T21:18:08.074Z"
   },
   {
    "duration": 1199,
    "start_time": "2023-03-20T21:38:42.869Z"
   },
   {
    "duration": 70,
    "start_time": "2023-03-20T21:38:44.070Z"
   },
   {
    "duration": 14,
    "start_time": "2023-03-20T21:38:44.141Z"
   },
   {
    "duration": 5,
    "start_time": "2023-03-20T21:38:44.157Z"
   },
   {
    "duration": 35,
    "start_time": "2023-03-20T21:38:44.163Z"
   },
   {
    "duration": 20,
    "start_time": "2023-03-20T21:38:44.200Z"
   },
   {
    "duration": 23,
    "start_time": "2023-03-20T21:38:44.222Z"
   },
   {
    "duration": 68,
    "start_time": "2023-03-20T21:38:44.247Z"
   },
   {
    "duration": 10,
    "start_time": "2023-03-20T21:38:44.317Z"
   },
   {
    "duration": 12,
    "start_time": "2023-03-20T21:38:44.329Z"
   },
   {
    "duration": 16,
    "start_time": "2023-03-20T21:38:44.342Z"
   },
   {
    "duration": 16,
    "start_time": "2023-03-20T21:38:44.360Z"
   },
   {
    "duration": 33,
    "start_time": "2023-03-20T21:38:44.378Z"
   },
   {
    "duration": 427,
    "start_time": "2023-03-20T21:38:44.413Z"
   },
   {
    "duration": 204,
    "start_time": "2023-03-20T21:38:44.842Z"
   },
   {
    "duration": 355,
    "start_time": "2023-03-20T21:38:45.048Z"
   },
   {
    "duration": 305,
    "start_time": "2023-03-20T21:38:45.404Z"
   },
   {
    "duration": 952,
    "start_time": "2023-03-20T21:38:45.711Z"
   },
   {
    "duration": 229,
    "start_time": "2023-03-20T21:38:46.665Z"
   },
   {
    "duration": 234,
    "start_time": "2023-03-20T21:38:46.895Z"
   },
   {
    "duration": 1370,
    "start_time": "2023-03-20T21:38:47.130Z"
   },
   {
    "duration": 13,
    "start_time": "2023-03-20T21:38:48.502Z"
   },
   {
    "duration": 4,
    "start_time": "2023-03-20T21:38:48.516Z"
   },
   {
    "duration": 11,
    "start_time": "2023-03-20T21:38:48.521Z"
   },
   {
    "duration": 19,
    "start_time": "2023-03-20T21:38:48.534Z"
   },
   {
    "duration": 94,
    "start_time": "2023-03-21T05:01:37.322Z"
   },
   {
    "duration": 1592,
    "start_time": "2023-03-21T18:48:04.186Z"
   },
   {
    "duration": 275,
    "start_time": "2023-03-21T18:48:05.780Z"
   },
   {
    "duration": 23,
    "start_time": "2023-03-21T18:48:06.060Z"
   },
   {
    "duration": 10,
    "start_time": "2023-03-21T18:48:06.085Z"
   },
   {
    "duration": 27,
    "start_time": "2023-03-21T18:48:06.099Z"
   },
   {
    "duration": 40,
    "start_time": "2023-03-21T18:48:06.128Z"
   },
   {
    "duration": 26,
    "start_time": "2023-03-21T18:48:06.175Z"
   },
   {
    "duration": 50,
    "start_time": "2023-03-21T18:48:06.203Z"
   },
   {
    "duration": 22,
    "start_time": "2023-03-21T18:48:06.264Z"
   },
   {
    "duration": 26,
    "start_time": "2023-03-21T18:48:06.287Z"
   },
   {
    "duration": 15,
    "start_time": "2023-03-21T18:48:06.315Z"
   },
   {
    "duration": 36,
    "start_time": "2023-03-21T18:48:06.332Z"
   },
   {
    "duration": 23,
    "start_time": "2023-03-21T18:48:06.379Z"
   },
   {
    "duration": 503,
    "start_time": "2023-03-21T18:48:06.404Z"
   },
   {
    "duration": 245,
    "start_time": "2023-03-21T18:48:06.909Z"
   },
   {
    "duration": 433,
    "start_time": "2023-03-21T18:48:07.155Z"
   },
   {
    "duration": 373,
    "start_time": "2023-03-21T18:48:07.594Z"
   },
   {
    "duration": 1101,
    "start_time": "2023-03-21T18:48:07.969Z"
   },
   {
    "duration": 316,
    "start_time": "2023-03-21T18:48:09.075Z"
   },
   {
    "duration": 309,
    "start_time": "2023-03-21T18:48:09.393Z"
   },
   {
    "duration": 1562,
    "start_time": "2023-03-21T18:48:09.705Z"
   },
   {
    "duration": 18,
    "start_time": "2023-03-21T18:48:11.277Z"
   },
   {
    "duration": 5,
    "start_time": "2023-03-21T18:48:11.297Z"
   },
   {
    "duration": 8,
    "start_time": "2023-03-21T18:48:11.303Z"
   },
   {
    "duration": 37,
    "start_time": "2023-03-21T18:48:11.313Z"
   }
  ],
  "kernelspec": {
   "display_name": "Python 3 (ipykernel)",
   "language": "python",
   "name": "python3"
  },
  "language_info": {
   "codemirror_mode": {
    "name": "ipython",
    "version": 3
   },
   "file_extension": ".py",
   "mimetype": "text/x-python",
   "name": "python",
   "nbconvert_exporter": "python",
   "pygments_lexer": "ipython3",
   "version": "3.9.12"
  },
  "toc": {
   "base_numbering": 1,
   "nav_menu": {},
   "number_sections": true,
   "sideBar": true,
   "skip_h1_title": true,
   "title_cell": "Table of Contents",
   "title_sidebar": "Contents",
   "toc_cell": false,
   "toc_position": {},
   "toc_section_display": true,
   "toc_window_display": false
  }
 },
 "nbformat": 4,
 "nbformat_minor": 2
}
